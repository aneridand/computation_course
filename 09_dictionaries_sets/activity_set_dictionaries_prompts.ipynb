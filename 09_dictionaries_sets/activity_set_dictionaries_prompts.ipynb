{
 "cells": [
  {
   "cell_type": "markdown",
   "metadata": {
    "toc": true
   },
   "source": [
    "<h1>Table of Contents<span class=\"tocSkip\"></span></h1>\n",
    "<div class=\"toc\"><ul class=\"toc-item\"><li><span><a href=\"#Instructions\" data-toc-modified-id=\"Instructions-1\">Instructions</a></span></li><li><span><a href=\"#All-unique-characters\" data-toc-modified-id=\"All-unique-characters-2\">All unique characters</a></span></li><li><span><a href=\"#Pair-letters-to-numbers\" data-toc-modified-id=\"Pair-letters-to-numbers-3\">Pair letters to numbers</a></span></li><li><span><a href=\"#Find-the-cheapest-stock\" data-toc-modified-id=\"Find-the-cheapest-stock-4\">Find the cheapest stock</a></span></li><li><span><a href=\"#Build-a-count-dictionary-without-any-imports\" data-toc-modified-id=\"Build-a-count-dictionary-without-any-imports-5\">Build a count dictionary without any imports</a></span></li><li><span><a href=\"#Sum-of-clicks-per-day\" data-toc-modified-id=\"Sum-of-clicks-per-day-6\">Sum of clicks per day</a></span></li><li><span><a href=\"#Convert-data-into-a-ontology\" data-toc-modified-id=\"Convert-data-into-a-ontology-7\">Convert data into a ontology</a></span></li></ul></div>"
   ]
  },
  {
   "cell_type": "markdown",
   "metadata": {},
   "source": [
    "Instructions\n",
    "--------\n",
    "\n",
    "- __First thing__ - Change the name of this file to avoid a [merge conflict](https://docs.github.com/en/github/getting-started-with-github/github-glossary#merge-conflict) with GitHub.\n",
    "- You should type every character for the following activities. \n",
    "- Work together with your peers in the same shared code environment. The following environments allow the importation of Jupyter Notebook from GitHub urls:\n",
    "    - [Google Colab](https://colab.research.google.com)\n",
    "    - [Deepnote](https://deepnote.com/)\n",
    "- These activities are not graded.\n",
    "- They are open resource - feel free to reference documentation, books, videos, and any other resource.\n",
    "- Attempt each problem. If stuck, move onto next one and come back to a difficult problem.\n",
    "- During class:\n",
    "    - Brian will bounce between breakout rooms. Feel free to ask questions or just ignore him.\n",
    "    - After your group has finished, leave your breakout room and return to the main room."
   ]
  },
  {
   "cell_type": "code",
   "execution_count": 38,
   "metadata": {},
   "outputs": [],
   "source": [
    "reset -fs"
   ]
  },
  {
   "cell_type": "markdown",
   "metadata": {},
   "source": [
    "All unique characters\n",
    "-------\n",
    "\n",
    "\n",
    "Write a function to test if a string contains all unique characters."
   ]
  },
  {
   "cell_type": "code",
   "execution_count": 39,
   "metadata": {},
   "outputs": [],
   "source": [
    "def is_all_unique(s: str) -> bool:\n",
    "    \n",
    "    pass # TODO: Delete pass and write your code.\n",
    "\n",
    "def test_is_all_unique(is_all_unique):\n",
    "    \n",
    "    # Positive\n",
    "    assert is_all_unique(\"\") \n",
    "    assert is_all_unique(\"a\") \n",
    "    assert is_all_unique(\"abc\") \n",
    "\n",
    "    # Negative\n",
    "    assert not is_all_unique('aa')\n",
    "    assert not is_all_unique('aaa')\n",
    "    assert not is_all_unique('aba')\n",
    "\n",
    "    return \"All tests pass 🙂\"\n",
    "\n",
    "# test_is_all_unique(is_all_unique)"
   ]
  },
  {
   "cell_type": "markdown",
   "metadata": {},
   "source": [
    "Pair letters to numbers\n",
    "------\n",
    "\n",
    "Create a dictionary where the key is each letter in the English alphabet and the value it's index."
   ]
  },
  {
   "cell_type": "code",
   "execution_count": 41,
   "metadata": {},
   "outputs": [],
   "source": [
    "from string import ascii_lowercase as letters\n",
    "from typing import Dict\n",
    "\n",
    "def pair(letters: str) -> Dict[str, int]:\n",
    "    \n",
    "    pass # TODO: Delete pass and write your code.\n",
    "    \n",
    "def test_pair(pair):\n",
    "    \n",
    "    assert pair(letters) == {'a': 0,\n",
    "                             'b': 1,\n",
    "                             'c': 2,\n",
    "                             'd': 3,\n",
    "                             'e': 4,\n",
    "                             'f': 5,\n",
    "                             'g': 6,\n",
    "                             'h': 7,\n",
    "                             'i': 8,\n",
    "                             'j': 9,\n",
    "                             'k': 10,\n",
    "                             'l': 11,\n",
    "                             'm': 12,\n",
    "                             'n': 13,\n",
    "                             'o': 14,\n",
    "                             'p': 15,\n",
    "                             'q': 16,\n",
    "                             'r': 17,\n",
    "                             's': 18,\n",
    "                             't': 19,\n",
    "                             'u': 20,\n",
    "                             'v': 21,\n",
    "                             'w': 22,\n",
    "                             'x': 23,\n",
    "                             'y': 24,\n",
    "                             'z': 25}\n",
    "\n",
    "    return \"All tests pass 🙂\"\n",
    "\n",
    "# test_pair(pair)"
   ]
  },
  {
   "cell_type": "markdown",
   "metadata": {},
   "source": [
    "Find the cheapest stock\n",
    "-------\n",
    "\n",
    "Given a dictionary of stocks and prices, find the lowest value."
   ]
  },
  {
   "cell_type": "code",
   "execution_count": 43,
   "metadata": {},
   "outputs": [],
   "source": [
    "prices = {\n",
    "       'ACME':   45.23,\n",
    "       'AAPL':  612.78,\n",
    "       'GOOGL':  37.20,\n",
    "       'FB':     10.75,\n",
    "       'TSLA':  205.55,\n",
    "}\n"
   ]
  },
  {
   "cell_type": "code",
   "execution_count": 44,
   "metadata": {},
   "outputs": [],
   "source": [
    "from typing import Dict\n",
    "\n",
    "def lowest_value(prices: Dict[str, int]) -> str:\n",
    "    \n",
    "    pass # TODO: Delete pass and write your code.\n",
    "    \n",
    "def test_lowest_value(lowest_value):\n",
    "    \n",
    "    assert lowest_value(prices) == 'FB'\n",
    "\n",
    "    return \"All tests pass 🙂\"\n",
    "\n",
    "# test_lowest_value(lowest_value)\n"
   ]
  },
  {
   "cell_type": "markdown",
   "metadata": {},
   "source": [
    "Build a count dictionary without any imports\n",
    "----\n",
    "\n",
    "Given an iterable, group by unique keys and count number of occurrences.\n",
    "\n",
    "Do __not__ import anything. Often in job interviews you'll have to write this code from scratch."
   ]
  },
  {
   "cell_type": "code",
   "execution_count": 46,
   "metadata": {},
   "outputs": [],
   "source": [
    "from typing import Any, Dict, Iterable\n",
    "\n",
    "def counts(iterable: Iterable[Any]) -> Dict[Any, int]:\n",
    "\n",
    "    pass # TODO: Delete pass and write your code.\n",
    "\n",
    "def test_counts(counts):\n",
    "    \n",
    "    assert counts([21, 32, 19, 18, 18, 19, 18, 20, 20, 19]) == {21: 1, 32: 1, 19: 3, 18: 3, 20: 2}\n",
    "\n",
    "    return \"All tests pass 🙂\"\n",
    "\n",
    "# test_counts(counts)"
   ]
  },
  {
   "cell_type": "markdown",
   "metadata": {},
   "source": [
    "Sum of clicks per day\n",
    "-----\n",
    "\n",
    "Given log data with date stamp and number of clicks, create aggregate statistic of sum by date.\n",
    "\n",
    "Do __not__ import anything.\n"
   ]
  },
  {
   "cell_type": "code",
   "execution_count": 48,
   "metadata": {},
   "outputs": [],
   "source": [
    "logs = [  ('2009-09-02', 11),\n",
    "          ('2009-09-02', 3),\n",
    "          ('2009-09-03', 10),\n",
    "          ('2009-09-03', 4),\n",
    "          ('2009-09-03', 22),\n",
    "          ('2009-09-06', 33),\n",
    "          ('2009-09-02', 13), # Logs are not always in order!\n",
    "          ('2009-09-03', 15),\n",
    "       ]"
   ]
  },
  {
   "cell_type": "code",
   "execution_count": 49,
   "metadata": {},
   "outputs": [],
   "source": [
    "from typing import List, Tuple\n",
    "\n",
    "def sum_clicks_per_day(logs: List[Tuple[str, int]]) -> Tuple[str, int]:\n",
    "    \n",
    "    pass # TODO: Delete pass and write your code.\n",
    "\n",
    "\n",
    "def test_sum_clicks_per_day(sum_clicks_per_day):\n",
    "    \n",
    "    assert sum_clicks_per_day(logs) == (('2009-09-02', 27), \n",
    "                                        ('2009-09-03', 51), \n",
    "                                        ('2009-09-06', 33))\n",
    "\n",
    "    return \"All tests pass 🙂\"\n",
    "\n",
    "# test_sum_clicks_per_day(sum_clicks_per_day)"
   ]
  },
  {
   "cell_type": "markdown",
   "metadata": {},
   "source": [
    "Convert data into a ontology\n",
    "----\n",
    "\n",
    "Ontology is a collection of [taxonomies](https://en.wikipedia.org/wiki/Taxonomy) that can be used to describe a domain of knowledge along with the relationships among them. Ontology is organized metadata of the associative relationships between entities.\n",
    "\n",
    "Ontologies are common in Natural Language Processing (NLP), for example [WordNet](https://wordnet.princeton.edu/), and ecommerce, for example Amazon.com search.\n",
    "\n",
    "Given [semantic triple](https://en.wikipedia.org/wiki/Semantic_triple) of subject–predicate–object, group them into a dictionary that captures the categorical relationships. The dictionary should only contain parent (key) and child (value) relationships, ignore all other relationships.\n",
    "\n",
    "(Brian got this problem as a coding challenge for an e-commerce website)\n",
    "\n",
    "<center><img src=\"../images/ontology.png\" width=\"75%\"/></center>"
   ]
  },
  {
   "cell_type": "code",
   "execution_count": 51,
   "metadata": {},
   "outputs": [],
   "source": [
    "triples = [  [\"Ulta\", \"hasCategory\", \"Men\"],\n",
    "             [\"Ulta\", \"hasCategory\", \"Skin Care\"],\n",
    "             [\"Ulta\", \"hasCategory\", \"Gifts\"],\n",
    "             [\"Men\", \"hasCategory\", \"Shaving\"],\n",
    "             [\"Men\", \"hasCategory\", \"Cologne\"],\n",
    "             [\"Shaving\", \"hasCategory\", \"Aftershave\"],\n",
    "             [\"Aftershave\", \"Contains\", \"Alcohol\"],\n",
    "             [\"Shaving\", \"hasCategory\", \"Beard Care\"],\n",
    "             [\"Shaving\", \"hasCategory\", \"Shaving Cream & Razors\"],\n",
    "             [\"Gifts\", \"hasCategory\", \"Nail Gifts\"],\n",
    "             [\"Gifts\", \"hasCategory\", \"Skin Gifts\"],\n",
    "             [\"Gifts\", \"hasCategory\", \"ULTA Gifts\"],\n",
    "             [\"Gifts\", \"hasCategory\", \"Makeup Gifts\"],\n",
    "             [\"Makeup Gifts\", \"IsCouponEligible\", \"False\"],\n",
    "             [\"Ulta\", \"hasCategory\", \"Tools & Brushes\"],\n",
    "          ]"
   ]
  },
  {
   "cell_type": "code",
   "execution_count": 52,
   "metadata": {},
   "outputs": [],
   "source": [
    "from collections import defaultdict # 👈 hint\n",
    "from typing import List\n",
    "\n",
    "def make_ontology(relationships: List[List[str]]) -> dict:\n",
    "\n",
    "    pass # TODO: Delete pass and write your code.\n",
    "\n",
    "\n",
    "def test_make_ontology(make_ontology):\n",
    "    \n",
    "    assert make_ontology(triples) == {   \n",
    "                                     'Ulta':    {'Gifts', 'Men', 'Skin Care', 'Tools & Brushes'},\n",
    "                                     'Men':     {'Cologne', 'Shaving'},\n",
    "                                     'Shaving': {'Aftershave', 'Beard Care', 'Shaving Cream & Razors'},\n",
    "                                     'Gifts':   {'Makeup Gifts', 'Nail Gifts', 'Skin Gifts', 'ULTA Gifts'},\n",
    "                                   }\n",
    "\n",
    "\n",
    "    return \"All tests pass 🙂\"\n",
    "\n",
    "# test_make_ontology(make_ontology)"
   ]
  },
  {
   "cell_type": "markdown",
   "metadata": {},
   "source": [
    "<br>\n",
    "<br> \n",
    "<br>\n",
    "\n",
    "----"
   ]
  }
 ],
 "metadata": {
  "kernelspec": {
   "display_name": "Python 3",
   "language": "python",
   "name": "python3"
  },
  "language_info": {
   "codemirror_mode": {
    "name": "ipython",
    "version": 3
   },
   "file_extension": ".py",
   "mimetype": "text/x-python",
   "name": "python",
   "nbconvert_exporter": "python",
   "pygments_lexer": "ipython3",
   "version": "3.8.3"
  },
  "toc": {
   "base_numbering": 1,
   "nav_menu": {},
   "number_sections": false,
   "sideBar": false,
   "skip_h1_title": false,
   "title_cell": "Table of Contents",
   "title_sidebar": "Contents",
   "toc_cell": true,
   "toc_position": {},
   "toc_section_display": true,
   "toc_window_display": false
  }
 },
 "nbformat": 4,
 "nbformat_minor": 4
}
