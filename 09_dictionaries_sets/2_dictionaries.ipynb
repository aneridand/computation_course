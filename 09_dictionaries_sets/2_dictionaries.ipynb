{
 "cells": [
  {
   "cell_type": "markdown",
   "metadata": {
    "toc": true
   },
   "source": [
    "<h1>Table of Contents<span class=\"tocSkip\"></span></h1>\n",
    "<div class=\"toc\"><ul class=\"toc-item\"><li><span><a href=\"#Python's-dict\" data-toc-modified-id=\"Python's-dict-1\">Python's dict</a></span></li><li><span><a href=\"#Learning-Outcomes\" data-toc-modified-id=\"Learning-Outcomes-2\">Learning Outcomes</a></span></li><li><span><a href=\"#Python's-dict\" data-toc-modified-id=\"Python's-dict-3\">Python's dict</a></span></li><li><span><a href=\"#Access-parts-of-a-dict\" data-toc-modified-id=\"Access-parts-of-a-dict-4\">Access parts of a dict</a></span></li><li><span><a href=\"#Finding-values-by-key\" data-toc-modified-id=\"Finding-values-by-key-5\">Finding values by key</a></span></li><li><span><a href=\"#Iterating-through-a-dict\" data-toc-modified-id=\"Iterating-through-a-dict-6\">Iterating through a dict</a></span></li><li><span><a href=\"#dict-keys-must-be-unique\" data-toc-modified-id=\"dict-keys-must-be-unique-7\">dict keys must be unique</a></span></li><li><span><a href=\"#dict-are-mutable\" data-toc-modified-id=\"dict-are-mutable-8\">dict are mutable</a></span></li><li><span><a href=\"#Python-keeps-insertion-order-in-dicts.\" data-toc-modified-id=\"Python-keeps-insertion-order-in-dicts.-9\">Python keeps insertion order in dicts.</a></span></li><li><span><a href=\"#Sort-a-dictionary-by-value\" data-toc-modified-id=\"Sort-a-dictionary-by-value-10\">Sort a dictionary by value</a></span></li><li><span><a href=\"#Counters---A-special-type-of-dictionary\" data-toc-modified-id=\"Counters---A-special-type-of-dictionary-11\">Counters - A special type of dictionary</a></span><ul class=\"toc-item\"><li><span><a href=\"#Anagram-Interview-Problem\" data-toc-modified-id=\"Anagram-Interview-Problem-11.1\">Anagram Interview Problem</a></span></li></ul></li><li><span><a href=\"#Takeaways\" data-toc-modified-id=\"Takeaways-12\">Takeaways</a></span></li><li><span><a href=\"#Bonus-Material\" data-toc-modified-id=\"Bonus-Material-13\">Bonus Material</a></span></li><li><span><a href=\"#3-ways-to-update-a-dict\" data-toc-modified-id=\"3-ways-to-update-a-dict-14\">3 ways to update a dict</a></span></li><li><span><a href=\"#Python-counter-for-unhashable-types\" data-toc-modified-id=\"Python-counter-for-unhashable-types-15\">Python counter for unhashable types</a></span></li></ul></div>"
   ]
  },
  {
   "cell_type": "markdown",
   "metadata": {},
   "source": [
    "<center><h2>Python's dict</h2></center>\n"
   ]
  },
  {
   "cell_type": "markdown",
   "metadata": {},
   "source": [
    "<center><h2>Learning Outcomes</h2></center>\n",
    "\n",
    "__By the end of this session, you should be able to__:\n",
    "\n",
    "- Explain in your own words what is a Python `dict`\n",
    "- Create and use a `dict`\n",
    "- Leverage the fact that Python's `dict` are always ordered\n",
    "- Create and use `Counter` to find the counts of items in a collection"
   ]
  },
  {
   "cell_type": "markdown",
   "metadata": {},
   "source": [
    "Python's dict\n",
    "------\n",
    "\n",
    "`dict` is one of most useful datatypes in Python. When in doubt, use a `dict` on the job or in a job interview.\n",
    "\n",
    "Dictionaries are key-value pairs.\n",
    "\n",
    "Useful for storing things like:\n",
    "\n",
    "- Word dictionaries: word (key) and definition (value)\n",
    "- Login information: username (key) and email (value)"
   ]
  },
  {
   "cell_type": "code",
   "execution_count": 93,
   "metadata": {},
   "outputs": [],
   "source": [
    "reset -fs"
   ]
  },
  {
   "cell_type": "code",
   "execution_count": 94,
   "metadata": {},
   "outputs": [
    {
     "data": {
      "text/plain": [
       "{'apples': 3, 'oranges': 3, 'kiwi': 1}"
      ]
     },
     "execution_count": 94,
     "metadata": {},
     "output_type": "execute_result"
    }
   ],
   "source": [
    "#        Fruit:    Quantity\n",
    "cart     = {'apples':  3, \n",
    "            'oranges': 3, \n",
    "            'kiwi':    1}\n",
    "cart"
   ]
  },
  {
   "cell_type": "code",
   "execution_count": 95,
   "metadata": {},
   "outputs": [],
   "source": [
    "# Let's take a look dict methods\n",
    "# dict.<tab>"
   ]
  },
  {
   "cell_type": "markdown",
   "metadata": {},
   "source": [
    "Access parts of a dict\n",
    "-----"
   ]
  },
  {
   "cell_type": "code",
   "execution_count": 96,
   "metadata": {},
   "outputs": [
    {
     "data": {
      "text/plain": [
       "dict_keys(['apples', 'oranges', 'kiwi'])"
      ]
     },
     "execution_count": 96,
     "metadata": {},
     "output_type": "execute_result"
    }
   ],
   "source": [
    "cart.keys() # Note - A dict view is NOT a list!"
   ]
  },
  {
   "cell_type": "code",
   "execution_count": 97,
   "metadata": {},
   "outputs": [
    {
     "data": {
      "text/plain": [
       "dict_values([3, 3, 1])"
      ]
     },
     "execution_count": 97,
     "metadata": {},
     "output_type": "execute_result"
    }
   ],
   "source": [
    "cart.values()"
   ]
  },
  {
   "cell_type": "code",
   "execution_count": 98,
   "metadata": {},
   "outputs": [
    {
     "data": {
      "text/plain": [
       "dict_items([('apples', 3), ('oranges', 3), ('kiwi', 1)])"
      ]
     },
     "execution_count": 98,
     "metadata": {},
     "output_type": "execute_result"
    }
   ],
   "source": [
    "cart.items()"
   ]
  },
  {
   "cell_type": "markdown",
   "metadata": {},
   "source": [
    "Finding values by key\n",
    "----"
   ]
  },
  {
   "cell_type": "markdown",
   "metadata": {},
   "source": [
    "<center><img src=\"../images/coat_check.png\" width=\"75%\"/></center>\n",
    "\n",
    "`dicts` are like a coat check system."
   ]
  },
  {
   "cell_type": "code",
   "execution_count": 99,
   "metadata": {},
   "outputs": [
    {
     "ename": "KeyError",
     "evalue": "'Apples'",
     "output_type": "error",
     "traceback": [
      "\u001b[0;31m---------------------------------------------------------------------------\u001b[0m",
      "\u001b[0;31mKeyError\u001b[0m                                  Traceback (most recent call last)",
      "\u001b[0;32m<ipython-input-99-dfe1fe92cd15>\u001b[0m in \u001b[0;36m<module>\u001b[0;34m\u001b[0m\n\u001b[0;32m----> 1\u001b[0;31m \u001b[0mcart\u001b[0m\u001b[0;34m[\u001b[0m\u001b[0;34m'Apples'\u001b[0m\u001b[0;34m]\u001b[0m\u001b[0;34m\u001b[0m\u001b[0;34m\u001b[0m\u001b[0m\n\u001b[0m",
      "\u001b[0;31mKeyError\u001b[0m: 'Apples'"
     ]
    }
   ],
   "source": [
    "cart['Apples']"
   ]
  },
  {
   "cell_type": "code",
   "execution_count": null,
   "metadata": {},
   "outputs": [],
   "source": [
    "cart.get('Apples') # Returns None by default if key is not found"
   ]
  },
  {
   "cell_type": "code",
   "execution_count": null,
   "metadata": {},
   "outputs": [],
   "source": [
    "# cart['Limes'] # Raises a KeyError if key is not found"
   ]
  },
  {
   "cell_type": "code",
   "execution_count": null,
   "metadata": {},
   "outputs": [],
   "source": [
    "cart.get('Limes', \"Not on in the shopping cart\") # Custom value is also an option"
   ]
  },
  {
   "cell_type": "markdown",
   "metadata": {},
   "source": [
    "`dict.get` is more common in production code bases where you don't want to stop an application just because you didn't find a key."
   ]
  },
  {
   "cell_type": "markdown",
   "metadata": {},
   "source": [
    "Iterating through a dict\n",
    "----"
   ]
  },
  {
   "cell_type": "code",
   "execution_count": null,
   "metadata": {},
   "outputs": [],
   "source": [
    "for something in cart:\n",
    "    print(something)"
   ]
  },
  {
   "cell_type": "code",
   "execution_count": null,
   "metadata": {},
   "outputs": [],
   "source": [
    "for key in cart:\n",
    "    print(key)"
   ]
  },
  {
   "cell_type": "code",
   "execution_count": null,
   "metadata": {},
   "outputs": [],
   "source": [
    "for k, v in cart.items():\n",
    "    print(k, v)"
   ]
  },
  {
   "cell_type": "code",
   "execution_count": null,
   "metadata": {},
   "outputs": [],
   "source": [
    "# Use semantic names if possible\n",
    "for fruit, quantity in cart.items():\n",
    "    print(fruit, quantity)"
   ]
  },
  {
   "cell_type": "markdown",
   "metadata": {},
   "source": [
    "dict keys must be unique\n",
    "------"
   ]
  },
  {
   "cell_type": "code",
   "execution_count": null,
   "metadata": {},
   "outputs": [],
   "source": [
    "cart.keys()"
   ]
  },
  {
   "cell_type": "markdown",
   "metadata": {},
   "source": [
    "dict are mutable\n",
    "-----"
   ]
  },
  {
   "cell_type": "code",
   "execution_count": null,
   "metadata": {},
   "outputs": [],
   "source": [
    "cart = {} # Empty dict\n",
    "cart.update({'Apples':  3})\n",
    "cart.update({'Oranges': 3})\n",
    "cart"
   ]
  },
  {
   "cell_type": "markdown",
   "metadata": {},
   "source": [
    "Python keeps insertion order in dicts.\n",
    "------\n",
    "\n",
    "`dict` are __ordered__ by default in Python 3.6 (and all later versions).\n",
    "\n",
    "[Source](https://docs.python.org/3/whatsnew/3.7.html)"
   ]
  },
  {
   "cell_type": "code",
   "execution_count": null,
   "metadata": {},
   "outputs": [],
   "source": [
    "cart = {} # Empty dict\n",
    "cart.update({'Apples':  3})\n",
    "cart.update({'Oranges': 3})\n",
    "cart"
   ]
  },
  {
   "cell_type": "code",
   "execution_count": null,
   "metadata": {},
   "outputs": [],
   "source": [
    "# Iterating then has a consistent guarantee\n",
    "for k,v in cart.items():\n",
    "    print(k, v)"
   ]
  },
  {
   "cell_type": "code",
   "execution_count": null,
   "metadata": {},
   "outputs": [],
   "source": [
    "cart = {} # Empty dict\n",
    "cart.update({'Oranges': 3})\n",
    "cart.update({'Apples':  3})\n",
    "cart"
   ]
  },
  {
   "cell_type": "code",
   "execution_count": null,
   "metadata": {},
   "outputs": [],
   "source": [
    "# Iterating then has a consistent guarantee\n",
    "for k,v in cart.items():\n",
    "    print(k, v)"
   ]
  },
  {
   "cell_type": "markdown",
   "metadata": {},
   "source": [
    "Sort a dictionary by value\n",
    "----"
   ]
  },
  {
   "cell_type": "code",
   "execution_count": null,
   "metadata": {},
   "outputs": [],
   "source": [
    "# How is this dictionary sorted?\n",
    "d = {'a': 4, 'c': 3, 'b': 2, 'd': 1}\n",
    "\n",
    "# Sort dict by key\n",
    "sorted(d.items())"
   ]
  },
  {
   "cell_type": "code",
   "execution_count": null,
   "metadata": {},
   "outputs": [],
   "source": [
    "# Sort dict by value\n",
    "\n",
    "sorted(d.items(), \n",
    "       key=lambda x: x[1])"
   ]
  },
  {
   "cell_type": "code",
   "execution_count": null,
   "metadata": {},
   "outputs": [],
   "source": [
    "# Cast to dictionary\n",
    "# This is very useful - Memorize this pattern\n",
    "\n",
    "dict(sorted(d.items(), key=lambda x: x[1]))"
   ]
  },
  {
   "cell_type": "markdown",
   "metadata": {},
   "source": [
    "Counters - A special type of dictionary\n",
    "-----\n",
    "\n",
    "Data Science is mostly about counting things so Counters are very useful.\n",
    "\n",
    "Counters are \"bag\", aka multiset data structures."
   ]
  },
  {
   "cell_type": "code",
   "execution_count": null,
   "metadata": {},
   "outputs": [],
   "source": [
    "from collections import Counter"
   ]
  },
  {
   "cell_type": "code",
   "execution_count": null,
   "metadata": {},
   "outputs": [],
   "source": [
    "# Given a iterable, return the counts of each item\n",
    "\n",
    "Counter(\"abracadabra\")"
   ]
  },
  {
   "cell_type": "code",
   "execution_count": null,
   "metadata": {},
   "outputs": [],
   "source": [
    "# Word count (a NLP classic)\n",
    "\n",
    "# One Fish, Two Fish, Red Fish, Blue Fish\n",
    "# by Dr. Seuss \n",
    "text = \"\"\"\n",
    "One fish\n",
    "Two fish\n",
    "Red fish\n",
    "Blue fish\n",
    "Black fish\n",
    "Blue fish\n",
    "Old fish\n",
    "New fish\n",
    "This one has a little star\n",
    "This one has a little car\n",
    "\"\"\"\n",
    "\n",
    "word_count = Counter(text.lower().split())\n",
    "word_count # Note - It is ordered by insertion, aka the order the words appear"
   ]
  },
  {
   "cell_type": "code",
   "execution_count": null,
   "metadata": {},
   "outputs": [],
   "source": [
    "# Counter.most_common is a method that sorts a Counter by value\n",
    "word_count.most_common(n=2) # Note - It returns a list of tuples"
   ]
  },
  {
   "cell_type": "markdown",
   "metadata": {},
   "source": []
  },
  {
   "cell_type": "markdown",
   "metadata": {},
   "source": [
    "### Anagram Interview Problem\n",
    "\n",
    "Given two strings, a and b, determine whether one is an anagram of the other.\n",
    "\n",
    "Two strings are said to be anagrams of one another if you can turn the first string into the second by rearranging its letters. \n",
    "\n",
    "For example, `admirer` and `married` are anagrams.\n",
    "\n",
    "This is a classic interview question."
   ]
  },
  {
   "cell_type": "markdown",
   "metadata": {},
   "source": [
    "__A dictionary should be your first choice data structure during job interviews!__"
   ]
  },
  {
   "cell_type": "code",
   "execution_count": null,
   "metadata": {},
   "outputs": [],
   "source": [
    "def is_anagram(string1: str, string2: str) -> bool:\n",
    "    \"Check if string1 and string2 are rearranged letters\"\n",
    "    return Counter(string1) == Counter(string2)\n",
    "\n",
    "def test_is_anagram(is_anagram):\n",
    "\n",
    "    # Positive\n",
    "    assert is_anagram('a', 'a')\n",
    "    assert is_anagram('admirer', 'married')\n",
    "    assert is_anagram('table', 'bleat')\n",
    "    assert is_anagram('tableer', 'bleater')\n",
    "\n",
    "    # Negative\n",
    "    assert not is_anagram('a', 'A')\n",
    "    assert not is_anagram('aa', 'a')\n",
    "    assert not is_anagram('a', '')\n",
    "    \n",
    "    print(\"All tests pass 🙂\")\n",
    "    \n",
    "test_is_anagram(is_anagram)"
   ]
  },
  {
   "cell_type": "markdown",
   "metadata": {},
   "source": [
    "<center><h2>Takeaways</h2></center>\n",
    "\n",
    "- Python's dict stores key-value pairs, that simple idea is very useful.\n",
    "- `dict` should be your first choice data structure.\n",
    "- Python's `dict` are ordered by insertion.\n",
    "- `Counter` automatically count how often an items occurs.\n"
   ]
  },
  {
   "cell_type": "markdown",
   "metadata": {},
   "source": [
    " "
   ]
  },
  {
   "cell_type": "markdown",
   "metadata": {},
   "source": [
    "Bonus Material\n",
    "------"
   ]
  },
  {
   "cell_type": "code",
   "execution_count": null,
   "metadata": {},
   "outputs": [],
   "source": [
    "# Find key(s) that match a value\n",
    "\n",
    "spanish_to_english= {'book':   'libro',\n",
    "                     'gratis': 'free', \n",
    "                     'libre':  'free', }\n",
    "\n",
    "target_value = 'free'\n",
    "\n",
    "[k for k, v in spanish_to_english.items() if v == target_value]  "
   ]
  },
  {
   "cell_type": "code",
   "execution_count": null,
   "metadata": {},
   "outputs": [],
   "source": [
    "# Similar thing for nested dictionary\n",
    "\n",
    "# Return k for values in dict that have some property\n",
    "# A dictionary of sets\n",
    "d = {'apple':      {\"red\",  'yummy'},\n",
    "    'orange':      {\"orange\", 'not yummy'},\n",
    "    'pomegranate': {\"red\": 'yummy'},\n",
    "        }\n",
    "color = 'red'\n",
    "[k for k, v in d.items() if color in v]"
   ]
  },
  {
   "cell_type": "code",
   "execution_count": null,
   "metadata": {},
   "outputs": [],
   "source": [
    "# Randomly pick a key-value from a dictionary\n",
    "\n",
    "import random\n",
    "\n",
    "d = {'spam': 1, 'eggs': 2, 'green stuff': 4}\n",
    "\n",
    "random.choice(list(d.items()))"
   ]
  },
  {
   "cell_type": "markdown",
   "metadata": {},
   "source": [
    "3 ways to update a dict\n",
    "-----\n",
    "\n",
    "1. Pass keyword arguments\n",
    "1. Pass another dict\n",
    "1. Pass a sequence with paired data"
   ]
  },
  {
   "cell_type": "code",
   "execution_count": null,
   "metadata": {},
   "outputs": [],
   "source": [
    "capitals = {} # Empty dict\n",
    "capitals.update(California='Sacramento') # Update with keyword arguments\n",
    "capitals"
   ]
  },
  {
   "cell_type": "code",
   "execution_count": null,
   "metadata": {},
   "outputs": [],
   "source": [
    "capitals = {} # Empty dict\n",
    "capitals.update({'California': 'Sacramento'}) # Update with another dict\n",
    "capitals"
   ]
  },
  {
   "cell_type": "code",
   "execution_count": null,
   "metadata": {},
   "outputs": [],
   "source": [
    "capitals = {} # Empty dict\n",
    "capitals.update([['California','Sacramento']]) # Update with a sequence of pairs\n",
    "capitals"
   ]
  },
  {
   "cell_type": "markdown",
   "metadata": {},
   "source": [
    "Learn more about dicts:\n",
    "    \n",
    "- https://realpython.com/python-dicts/)\n",
    "- https://stackabuse.com/python-dictionary-tutorial/\n",
    "\n",
    "Learn more about sets:\n",
    "\n",
    "- https://www.dataquest.io/blog/python-counter-class"
   ]
  },
  {
   "cell_type": "markdown",
   "metadata": {},
   "source": [
    "If you curious about why Python's dict are ordered:\n",
    "\n",
    "[Modern Dictionaries by Raymond Hettinger from PyCon](https://www.youtube.com/watch?v=npw4s1QTmPg)\n"
   ]
  },
  {
   "cell_type": "markdown",
   "metadata": {},
   "source": [
    "Python counter for unhashable types\n",
    "-----"
   ]
  },
  {
   "cell_type": "code",
   "execution_count": 100,
   "metadata": {},
   "outputs": [
    {
     "data": {
      "text/plain": [
       "{(1,): 2, (2,): 1}"
      ]
     },
     "execution_count": 100,
     "metadata": {},
     "output_type": "execute_result"
    }
   ],
   "source": [
    "from collections.abc import Hashable\n",
    "from typing import Any, Dict, Iterable\n",
    "\n",
    "def counts(iterable: Iterable[Any]) -> Dict[Any, int]:\n",
    "    \"Roll your own Python counter for unhashable types\"\n",
    "    \n",
    "    ### BEGIN SOLUTION\n",
    "    counter = {}\n",
    "    for item in iterable:\n",
    "        if not isinstance(item, Hashable): # Check if not hashable\n",
    "            item = tuple(item)             # then make it immutable\n",
    "        counter[item] = counter.get(item, 0) + 1 # If item is in dict, make key-value pair with zero. Always increment count by 1.\n",
    "    return counter\n",
    "    ### END SOLUTION\n",
    "    \n",
    "counts([1, 1, 2]) # Hashable type\n",
    "counts([{1}, {1}, {2}]) # Unhashable type"
   ]
  },
  {
   "cell_type": "markdown",
   "metadata": {},
   "source": [
    "A more complex method that changes the Counter class [here](https://blog.frank-mich.com/python-counters-on-objects/)"
   ]
  },
  {
   "cell_type": "markdown",
   "metadata": {},
   "source": [
    " "
   ]
  }
 ],
 "metadata": {
  "kernelspec": {
   "display_name": "Python 3",
   "language": "python",
   "name": "python3"
  },
  "language_info": {
   "codemirror_mode": {
    "name": "ipython",
    "version": 3
   },
   "file_extension": ".py",
   "mimetype": "text/x-python",
   "name": "python",
   "nbconvert_exporter": "python",
   "pygments_lexer": "ipython3",
   "version": "3.8.3"
  },
  "toc": {
   "base_numbering": 1,
   "nav_menu": {},
   "number_sections": false,
   "sideBar": false,
   "skip_h1_title": false,
   "title_cell": "Table of Contents",
   "title_sidebar": "Contents",
   "toc_cell": true,
   "toc_position": {},
   "toc_section_display": true,
   "toc_window_display": false
  }
 },
 "nbformat": 4,
 "nbformat_minor": 2
}
