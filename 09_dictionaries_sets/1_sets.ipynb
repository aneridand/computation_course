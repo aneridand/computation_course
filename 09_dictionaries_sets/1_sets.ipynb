{
 "cells": [
  {
   "cell_type": "markdown",
   "metadata": {
    "toc": true
   },
   "source": [
    "<h1>Table of Contents<span class=\"tocSkip\"></span></h1>\n",
    "<div class=\"toc\"><ul class=\"toc-item\"><li><span><a href=\"#Python-Sets\" data-toc-modified-id=\"Python-Sets-1\">Python Sets</a></span></li><li><span><a href=\"#Learning-Outcomes\" data-toc-modified-id=\"Learning-Outcomes-2\">Learning Outcomes</a></span></li><li><span><a href=\"#Sets\" data-toc-modified-id=\"Sets-3\">Sets</a></span></li><li><span><a href=\"#Set-methods\" data-toc-modified-id=\"Set-methods-4\">Set methods</a></span></li><li><span><a href=\"#Translating-business-requirements-into-code-(or-math)\" data-toc-modified-id=\"Translating-business-requirements-into-code-(or-math)-5\">Translating business requirements into code (or math)</a></span></li><li><span><a href=\"#2-best-uses-of-set-\" data-toc-modified-id=\"2-best-uses-of-set--6\">2 best uses of set </a></span><ul class=\"toc-item\"><li><span><a href=\"#Eliminating-duplicate-entries\" data-toc-modified-id=\"Eliminating-duplicate-entries-6.1\">Eliminating duplicate entries</a></span></li><li><span><a href=\"#Membership-testing\" data-toc-modified-id=\"Membership-testing-6.2\">Membership testing</a></span></li></ul></li><li><span><a href=\"#Takeaways\" data-toc-modified-id=\"Takeaways-7\">Takeaways</a></span></li><li><span><a href=\"#Bonus-Material\" data-toc-modified-id=\"Bonus-Material-8\">Bonus Material</a></span></li></ul></div>"
   ]
  },
  {
   "cell_type": "markdown",
   "metadata": {},
   "source": [
    "<center><h2>Python Sets</h2></center>\n"
   ]
  },
  {
   "cell_type": "markdown",
   "metadata": {},
   "source": [
    "<center><h2>Learning Outcomes</h2></center>\n",
    "\n",
    "__By the end of this session, you should be able to__:\n",
    "\n",
    "- Explain the features and benefits of sets.\n",
    "- Use Python's `set` methods to manipulate sets.\n",
    "- Explain the most common use cases for sets:\n",
    "    1. Eliminate duplicates\n",
    "    2. Membership testing"
   ]
  },
  {
   "cell_type": "markdown",
   "metadata": {},
   "source": [
    "Sets\n",
    "-----\n",
    " \n",
    "There are 3 important features of sets. Sets are collections that are:\n",
    "\n",
    "1. unique elements\n",
    "1. mutable\n",
    "1. unordered"
   ]
  },
  {
   "cell_type": "code",
   "execution_count": 6,
   "metadata": {},
   "outputs": [
    {
     "name": "stdout",
     "output_type": "stream",
     "text": [
      "{1}\n",
      "{1}\n",
      "{1, 42}\n"
     ]
    }
   ],
   "source": [
    "# Let's explore sets\n",
    "\n",
    "s = set()\n",
    "s.add(42) # Mutable\n",
    "print(s)\n",
    "\n",
    "s.add(42) # Unique elements only\n",
    "print(s)\n",
    "\n",
    "s.add(1)\n",
    "print(s) # Unordered by insertion"
   ]
  },
  {
   "cell_type": "markdown",
   "metadata": {},
   "source": [
    "Set methods\n",
    "-----"
   ]
  },
  {
   "cell_type": "code",
   "execution_count": 8,
   "metadata": {},
   "outputs": [
    {
     "ename": "SyntaxError",
     "evalue": "invalid syntax (<ipython-input-8-5714e2847022>, line 3)",
     "output_type": "error",
     "traceback": [
      "\u001b[0;36m  File \u001b[0;32m\"<ipython-input-8-5714e2847022>\"\u001b[0;36m, line \u001b[0;32m3\u001b[0m\n\u001b[0;31m    set.\u001b[0m\n\u001b[0m        ^\u001b[0m\n\u001b[0;31mSyntaxError\u001b[0m\u001b[0;31m:\u001b[0m invalid syntax\n"
     ]
    }
   ],
   "source": [
    "# Let's explore set methods\n",
    "# set.<tab>\n",
    "set."
   ]
  },
  {
   "cell_type": "markdown",
   "metadata": {},
   "source": [
    "<center><img src=\"../images/sets_operration.png\" width=\"75%\"/></center>\n",
    "\n",
    "Similar to mathematical sets.\n",
    "\n",
    "You need to know the method name and English definition. I find the images help me remember.\n",
    "\n",
    "Source: DataCamp"
   ]
  },
  {
   "cell_type": "markdown",
   "metadata": {},
   "source": [
    "[Read the docs on sets](https://docs.python.org/3/tutorial/datastructures.html#sets)"
   ]
  },
  {
   "cell_type": "markdown",
   "metadata": {},
   "source": [
    "__Set Intersection Example__\n",
    "<br>\n",
    "<center><img src=\"../images/reals.png\" width=\"75%\"/></center>\n",
    "\n",
    "I find jokes are easier to remember than facts."
   ]
  },
  {
   "cell_type": "markdown",
   "metadata": {},
   "source": [
    "Translating business requirements into code (or math)\n",
    "--------\n",
    "\n",
    "The difficult part of data science is translating business requests into math or code.\n",
    "\n",
    "The new CMO (Chief Marketing Office) wants you find the new marketing channels that both new and old marketing channels.\n",
    "\n"
   ]
  },
  {
   "cell_type": "code",
   "execution_count": null,
   "metadata": {},
   "outputs": [],
   "source": [
    "old = ['tv', 'referral', 'organic', 'adwords', ]\n",
    "new = ['organic', 'adwords', 'instagram', 'referral', 'tiktok']\n",
    "\n",
    "set(new) & set(old)"
   ]
  },
  {
   "cell_type": "code",
   "execution_count": null,
   "metadata": {},
   "outputs": [],
   "source": [
    "set(new).intersection(set(old))"
   ]
  },
  {
   "cell_type": "markdown",
   "metadata": {},
   "source": [
    "The new CMO (Chief Marketing Office) wants you find the new marketing channels that do not overlap with old marketing channels."
   ]
  },
  {
   "cell_type": "code",
   "execution_count": null,
   "metadata": {},
   "outputs": [],
   "source": [
    "old = ['tv', 'referral', 'organic', 'adwords', ]\n",
    "new = ['organic', 'adwords', 'instagram', 'referral', 'tiktok']\n",
    "\n",
    "set(new) - set(old)"
   ]
  },
  {
   "cell_type": "code",
   "execution_count": 9,
   "metadata": {},
   "outputs": [
    {
     "ename": "NameError",
     "evalue": "name 'new' is not defined",
     "output_type": "error",
     "traceback": [
      "\u001b[0;31m---------------------------------------------------------------------------\u001b[0m",
      "\u001b[0;31mNameError\u001b[0m                                 Traceback (most recent call last)",
      "\u001b[0;32m<ipython-input-9-1f74e698aa71>\u001b[0m in \u001b[0;36m<module>\u001b[0;34m\u001b[0m\n\u001b[0;32m----> 1\u001b[0;31m \u001b[0mset\u001b[0m\u001b[0;34m(\u001b[0m\u001b[0mnew\u001b[0m\u001b[0;34m)\u001b[0m\u001b[0;34m.\u001b[0m\u001b[0mdifference\u001b[0m\u001b[0;34m(\u001b[0m\u001b[0mset\u001b[0m\u001b[0;34m(\u001b[0m\u001b[0mold\u001b[0m\u001b[0;34m)\u001b[0m\u001b[0;34m)\u001b[0m\u001b[0;34m\u001b[0m\u001b[0;34m\u001b[0m\u001b[0m\n\u001b[0m",
      "\u001b[0;31mNameError\u001b[0m: name 'new' is not defined"
     ]
    }
   ],
   "source": [
    "set(new).difference(set(old))"
   ]
  },
  {
   "cell_type": "markdown",
   "metadata": {},
   "source": [
    "The new CMO (Chief Marketing Office) wants you find the marketing channels that are either new or old, but not both new and old. \n",
    "\n",
    "In other words, items only in a single type (old or new)."
   ]
  },
  {
   "cell_type": "code",
   "execution_count": null,
   "metadata": {},
   "outputs": [],
   "source": [
    "old = ['tv', 'referral', 'organic', 'adwords', ]\n",
    "new = ['organic', 'adwords', 'instagram', 'referral', 'tiktok']\n",
    "\n",
    "set(new) ^ set(old)\n"
   ]
  },
  {
   "cell_type": "code",
   "execution_count": null,
   "metadata": {},
   "outputs": [],
   "source": [
    "set(new).symmetric_difference(set(old))"
   ]
  },
  {
   "cell_type": "markdown",
   "metadata": {},
   "source": [
    "2 best uses of set \n",
    "-----\n",
    "\n",
    "1. Eliminating duplicate entries\n",
    "\n",
    "1. Membership testing"
   ]
  },
  {
   "cell_type": "markdown",
   "metadata": {},
   "source": [
    "### Eliminating duplicate entries\n",
    "\n",
    "Sets only allow unique elements thus duplicate entries are room"
   ]
  },
  {
   "cell_type": "markdown",
   "metadata": {},
   "source": [
    "__Cardinality__\n",
    "\n",
    "[Cardinality](https://en.wikipedia.org/wiki/Cardinality) is the number of unique elements in a collection.\n",
    "\n",
    "Common examples of cardinality include the number of unique categories or unique words."
   ]
  },
  {
   "cell_type": "code",
   "execution_count": 10,
   "metadata": {},
   "outputs": [
    {
     "data": {
      "text/plain": [
       "['one',\n",
       " 'fish',\n",
       " 'two',\n",
       " 'fish',\n",
       " 'red',\n",
       " 'fish',\n",
       " 'blue',\n",
       " 'fish',\n",
       " 'black',\n",
       " 'fish',\n",
       " 'blue',\n",
       " 'fish',\n",
       " 'old',\n",
       " 'fish',\n",
       " 'new',\n",
       " 'fish',\n",
       " 'this',\n",
       " 'one',\n",
       " 'has',\n",
       " 'a',\n",
       " 'little',\n",
       " 'star',\n",
       " 'this',\n",
       " 'one',\n",
       " 'has',\n",
       " 'a',\n",
       " 'little',\n",
       " 'car']"
      ]
     },
     "execution_count": 10,
     "metadata": {},
     "output_type": "execute_result"
    }
   ],
   "source": [
    "# One Fish, Two Fish, Red Fish, Blue Fish\n",
    "# by Dr. Seuss \n",
    "text = \"\"\"\n",
    "One fish\n",
    "Two fish\n",
    "Red fish\n",
    "Blue fish\n",
    "Black fish\n",
    "Blue fish\n",
    "Old fish\n",
    "New fish\n",
    "This one has a little star\n",
    "This one has a little car\n",
    "\"\"\"\n",
    "\n",
    "normalized_words = text.lower().split()\n",
    "normalized_words"
   ]
  },
  {
   "cell_type": "code",
   "execution_count": 11,
   "metadata": {},
   "outputs": [
    {
     "data": {
      "text/plain": [
       "14"
      ]
     },
     "execution_count": 11,
     "metadata": {},
     "output_type": "execute_result"
    }
   ],
   "source": [
    "# \"Vocabulary\" is the number of unique words used in a collection of text.\n",
    "len(set(normalized_words)) "
   ]
  },
  {
   "cell_type": "code",
   "execution_count": 12,
   "metadata": {},
   "outputs": [
    {
     "data": {
      "text/plain": [
       "28"
      ]
     },
     "execution_count": 12,
     "metadata": {},
     "output_type": "execute_result"
    }
   ],
   "source": [
    "# In contrast to the total number of words\n",
    "len(normalized_words)  "
   ]
  },
  {
   "cell_type": "markdown",
   "metadata": {},
   "source": [
    "### Membership testing\n",
    "\n",
    "Is a value in a collection."
   ]
  },
  {
   "cell_type": "code",
   "execution_count": 13,
   "metadata": {},
   "outputs": [],
   "source": [
    "from random import random"
   ]
  },
  {
   "cell_type": "code",
   "execution_count": 14,
   "metadata": {},
   "outputs": [],
   "source": [
    "nums_list = [random() for _ in range(1_000_000)]"
   ]
  },
  {
   "cell_type": "code",
   "execution_count": 15,
   "metadata": {},
   "outputs": [
    {
     "name": "stdout",
     "output_type": "stream",
     "text": [
      "34.3 ms ± 7.69 ms per loop (mean ± std. dev. of 7 runs, 10 loops each)\n"
     ]
    }
   ],
   "source": [
    "# Membership check for a list\n",
    "# Slow because it has to go by item-by-item (linear search)\n",
    "%timeit -n 10 (.75 in nums_list)"
   ]
  },
  {
   "cell_type": "code",
   "execution_count": 16,
   "metadata": {},
   "outputs": [],
   "source": [
    "nums_set = set(random() for _ in range(1_000_000))"
   ]
  },
  {
   "cell_type": "code",
   "execution_count": 17,
   "metadata": {},
   "outputs": [
    {
     "name": "stdout",
     "output_type": "stream",
     "text": [
      "118 ns ± 50.8 ns per loop (mean ± std. dev. of 7 runs, 10 loops each)\n"
     ]
    }
   ],
   "source": [
    "# Membership check for a set\n",
    "# Fast because it looks for the item in a memory location (constant)\n",
    " \n",
    "%timeit -n 10 (.75 in nums_set)"
   ]
  },
  {
   "cell_type": "markdown",
   "metadata": {},
   "source": [
    "__Membership testings is MUCH FASTER in sets than lists.__\n",
    "<br>\n",
    "<br>\n",
    "<center><img src=\"https://izquotes.com/quotes-pictures/quote-the-difference-between-the-almost-right-word-the-right-word-is-really-a-large-matter-it-s-the-mark-twain-389372.jpg\" width=\"75%\"/></center>"
   ]
  },
  {
   "cell_type": "markdown",
   "metadata": {},
   "source": [
    "Use `set` by default. Only use `list` if you need order or duplicate items.\n",
    "\n",
    "You'll need order far less of the time than you think."
   ]
  },
  {
   "cell_type": "markdown",
   "metadata": {},
   "source": [
    "<center><h2>Takeaways</h2></center>\n",
    "\n",
    "- Python implements the most important parts of Mathematical sets.\n",
    "- Sets are unordered, unique collection of items.\n",
    "- Python's set have the attributes you would except of sets.\n",
    "- Sets should be preferred over lists. Only use lists if you need order and duplicate items.\n"
   ]
  },
  {
   "cell_type": "markdown",
   "metadata": {},
   "source": [
    "Bonus Material\n",
    "-----"
   ]
  },
  {
   "cell_type": "markdown",
   "metadata": {},
   "source": [
    "Learn more about sets:\n",
    "    \n",
    "- https://realpython.com/python-sets/\n",
    "- https://stackabuse.com/sets-in-python/"
   ]
  },
  {
   "cell_type": "markdown",
   "metadata": {},
   "source": [
    " "
   ]
  },
  {
   "cell_type": "markdown",
   "metadata": {},
   "source": [
    " "
   ]
  }
 ],
 "metadata": {
  "kernelspec": {
   "display_name": "Python 3",
   "language": "python",
   "name": "python3"
  },
  "language_info": {
   "codemirror_mode": {
    "name": "ipython",
    "version": 3
   },
   "file_extension": ".py",
   "mimetype": "text/x-python",
   "name": "python",
   "nbconvert_exporter": "python",
   "pygments_lexer": "ipython3",
   "version": "3.8.3"
  },
  "toc": {
   "base_numbering": 1,
   "nav_menu": {},
   "number_sections": false,
   "sideBar": false,
   "skip_h1_title": false,
   "title_cell": "Table of Contents",
   "title_sidebar": "Contents",
   "toc_cell": true,
   "toc_position": {},
   "toc_section_display": true,
   "toc_window_display": false
  }
 },
 "nbformat": 4,
 "nbformat_minor": 2
}
