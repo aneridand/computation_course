{
 "cells": [
  {
   "cell_type": "markdown",
   "metadata": {
    "toc": true
   },
   "source": [
    "<h1>Table of Contents<span class=\"tocSkip\"></span></h1>\n",
    "<div class=\"toc\"><ul class=\"toc-item\"><li><span><a href=\"#Instructions\" data-toc-modified-id=\"Instructions-1\">Instructions</a></span></li><li><span><a href=\"#A-bunch-of-binomial-coefficients\" data-toc-modified-id=\"A-bunch-of-binomial-coefficients-2\">A bunch of binomial coefficients</a></span></li><li><span><a href=\"#Pascal's-triangle,-the-easy-way\" data-toc-modified-id=\"Pascal's-triangle,-the-easy-way-3\">Pascal's triangle, the easy way</a></span></li><li><span><a href=\"#Work-it-(aka,-flip-it-and-reverse-it)\" data-toc-modified-id=\"Work-it-(aka,-flip-it-and-reverse-it)-4\">Work it (aka, flip it and reverse it)</a></span></li><li><span><a href=\"#Implement-transpose\" data-toc-modified-id=\"Implement-transpose-5\">Implement transpose</a></span></li><li><span><a href=\"#Calculate-the-squares-of-just-even-numbers-with-map-and-filter\" data-toc-modified-id=\"Calculate-the-squares-of-just-even-numbers-with-map-and-filter-6\">Calculate the squares of just even numbers with map and filter</a></span></li><li><span><a href=\"#Calculate-the-factorial-of-a-number-with-reduce\" data-toc-modified-id=\"Calculate-the-factorial-of-a-number-with-reduce-7\">Calculate the factorial of a number with reduce</a></span></li></ul></div>"
   ]
  },
  {
   "cell_type": "markdown",
   "metadata": {},
   "source": [
    "Instructions\n",
    "--------\n",
    "\n",
    "- __First thing__ - Change the name of this file to avoid a [merge conflict](https://docs.github.com/en/github/getting-started-with-github/github-glossary#merge-conflict) with GitHub.\n",
    "- You should type every character for the following activities. \n",
    "- Work together with your peers in the same shared code environment. The following environments allow the importation of Jupyter Notebook from GitHub urls:\n",
    "    - [Google Colab](https://colab.research.google.com)\n",
    "    - [Deepnote](https://deepnote.com/)\n",
    "- These activities are not graded.\n",
    "- They are open resource - feel free to reference documentation, books, videos, and any other resource.\n",
    "- Attempt each problem. If stuck, move onto next one and come back to a difficult problem.\n",
    "- During class:\n",
    "    - Brian will bounce between breakout rooms. Feel free to ask questions or just ignore him.\n",
    "    - After your group has finished, leave your breakout room and return to the main room."
   ]
  },
  {
   "cell_type": "code",
   "execution_count": 147,
   "metadata": {},
   "outputs": [],
   "source": [
    "reset -fs"
   ]
  },
  {
   "cell_type": "markdown",
   "metadata": {},
   "source": [
    "A bunch of binomial coefficients\n",
    "-----\n",
    "\n",
    "Previously you wrote a function to generate [binomial coefficients](https://en.wikipedia.org/wiki/Binomial_coefficient). Let's build upon that code generate many binomial coefficients with a list comprehension."
   ]
  },
  {
   "cell_type": "code",
   "execution_count": 3,
   "metadata": {},
   "outputs": [],
   "source": [
    "from math import factorial\n",
    "from typing import List\n",
    "\n",
    "def all_binomial_coefficients(n: int) -> List[int]:\n",
    "    \n",
    "    pass # TODO: Delete pass and write your code.\n",
    "\n",
    "def test_all_binomial_coefficients(all_binomial_coefficients):\n",
    "    \n",
    "    assert all_binomial_coefficients(0) == [1]\n",
    "    assert all_binomial_coefficients(1) == [1, 1]\n",
    "    assert all_binomial_coefficients(2) == [1, 2, 1]\n",
    "    assert all_binomial_coefficients(4) == [1, 4, 6, 4, 1]\n",
    "    assert all_binomial_coefficients(8) == [1, 8, 28, 56, 70, 56, 28, 8, 1]\n",
    "    assert all_binomial_coefficients(32) == [1,\n",
    "                                             32,\n",
    "                                             496,\n",
    "                                             4960,\n",
    "                                             35960,\n",
    "                                             201376,\n",
    "                                             906192,\n",
    "                                             3365856,\n",
    "                                             10518300,\n",
    "                                             28048800,\n",
    "                                             64512240,\n",
    "                                             129024480,\n",
    "                                             225792840,\n",
    "                                             347373600,\n",
    "                                             471435600,\n",
    "                                             565722720,\n",
    "                                             601080390,\n",
    "                                             565722720,\n",
    "                                             471435600,\n",
    "                                             347373600,\n",
    "                                             225792840,\n",
    "                                             129024480,\n",
    "                                             64512240,\n",
    "                                             28048800,\n",
    "                                             10518300,\n",
    "                                             3365856,\n",
    "                                             906192,\n",
    "                                             201376,\n",
    "                                             35960,\n",
    "                                             4960,\n",
    "                                             496,\n",
    "                                             32,\n",
    "                                             1,]\n",
    "\n",
    "    return \"All tests pass 🙂\"\n",
    "\n",
    "# test_all_binomial_coefficients(all_binomial_coefficients)"
   ]
  },
  {
   "cell_type": "code",
   "execution_count": 4,
   "metadata": {},
   "outputs": [
    {
     "data": {
      "text/plain": [
       "'All tests pass 🙂'"
      ]
     },
     "execution_count": 4,
     "metadata": {},
     "output_type": "execute_result"
    }
   ],
   "source": [
    "# Solutions\n",
    "\n",
    "from typing import List\n",
    "\n",
    "def binomial_coefficient(n:int, k:int) -> int: \n",
    "\n",
    "    ### BEGIN SOLUTION\n",
    "    \n",
    "    # Call factorial in place of !\n",
    "    # Make sure it returns a int\n",
    "    return factorial(n) // (factorial(k) * factorial(n - k)) \n",
    "    \n",
    "    ### END SOLUTION\n",
    "    \n",
    "def all_binomial_coefficients(n: int) -> List[int]:\n",
    "    \n",
    "    ### BEGIN SOLUTION\n",
    "    \n",
    "    return [binomial_coefficient(n, k) for k in range(n+1)]\n",
    "\n",
    "    ### END SOLUTION\n",
    "    \n",
    "test_all_binomial_coefficients(all_binomial_coefficients)"
   ]
  },
  {
   "cell_type": "markdown",
   "metadata": {},
   "source": [
    "Pascal's triangle, the easy way\n",
    "-----\n",
    "\n",
    "<center><img src=\"https://upload.wikimedia.org/wikipedia/commons/thumb/0/0d/PascalTriangleAnimated2.gif/220px-PascalTriangleAnimated2.gif\" width=\"35%\"/></center>\n",
    "\n",
    "[Pascal's triangle](https://en.wikipedia.org/wiki/Pascal%27s_triangle) is a triangular array of the binomial coefficients.\n",
    "\n",
    "Use the `all_binomial_coefficients` function you wrote above to generate a list-of-lists that is a Pascal's triangle. Given the goal is to programmatically build-up a list, a list comp is appropriate.\n",
    "\n"
   ]
  },
  {
   "cell_type": "code",
   "execution_count": 150,
   "metadata": {},
   "outputs": [],
   "source": [
    "from typing import List\n",
    "\n",
    "def pascal_triangle(depth: int) -> List[List[int]]:\n",
    "    \n",
    "    pass # TODO: Delete pass and write your code.\n",
    "\n",
    "def test_pascal_triangle(pascal_triangle):\n",
    "\n",
    "    assert pascal_triangle(1) == [[1]]\n",
    "    assert pascal_triangle(2) == [[1], [1, 1]]\n",
    "    assert pascal_triangle(3) == [[1], [1, 1], [1, 2, 1]]\n",
    "    assert pascal_triangle(4) == [[1], [1, 1], [1, 2, 1], [1, 3, 3, 1]]\n",
    "    assert pascal_triangle(5) == [[1], [1, 1], [1, 2, 1], [1, 3, 3, 1], [1, 4, 6, 4, 1]]\n",
    "\n",
    "    return \"All tests pass 🙂\"\n",
    "\n",
    "# test_pascal_triangle(pascal_triangle)"
   ]
  },
  {
   "cell_type": "code",
   "execution_count": 151,
   "metadata": {},
   "outputs": [
    {
     "data": {
      "text/plain": [
       "'All tests pass 🙂'"
      ]
     },
     "execution_count": 151,
     "metadata": {},
     "output_type": "execute_result"
    }
   ],
   "source": [
    "# Solutions\n",
    "\n",
    "def pascal_triangle(depth: int) -> List[List[int]]:\n",
    "\n",
    "    ### BEGIN SOLUTION\n",
    "    \n",
    "    return [all_binomial_coefficients(d) for d in range(depth)]\n",
    "    \n",
    "    ### END SOLUTION\n",
    "    \n",
    "test_pascal_triangle(pascal_triangle)"
   ]
  },
  {
   "cell_type": "markdown",
   "metadata": {},
   "source": [
    "Work it (aka, flip it and reverse it)\n",
    "----\n",
    "\n",
    "Write a nested list comprehension that will take a binary matrix:\n",
    "\n",
    "1. Each row should be reversed.\n",
    "\n",
    "2. Each bit will be flipped (each 0 is replaced by 1, and each 1 is replaced by 0)\n"
   ]
  },
  {
   "cell_type": "code",
   "execution_count": 6,
   "metadata": {},
   "outputs": [],
   "source": [
    "from typing import List\n",
    "\n",
    "def flip_and_reverse(lol: List[List[bool]]) -> List[List[bool]]:\n",
    "\n",
    "    pass # TODO: Delete pass and write your code.\n",
    "\n",
    "\n",
    "def test_flip_and_reverse(flip_and_reverse):\n",
    "    \n",
    "    assert flip_and_reverse([[1, 1, 0, 1, 0], [0, 0, 0, 1, 0]]) == [[1, 0, 1, 0, 0], [1, 0, 1, 1, 1]]\n",
    "    assert flip_and_reverse([[1,1,1], [0,1,0], [0,0,0]]) ==  [[0,0,0], [1,0,1], [1,1,1]]\n",
    "\n",
    "    return \"All tests pass 🙂\"\n",
    "\n",
    "# test_flip_and_reverse(flip_and_reverse)"
   ]
  },
  {
   "cell_type": "code",
   "execution_count": 7,
   "metadata": {},
   "outputs": [
    {
     "data": {
      "text/plain": [
       "'All tests pass 🙂'"
      ]
     },
     "execution_count": 7,
     "metadata": {},
     "output_type": "execute_result"
    }
   ],
   "source": [
    "# Solutions\n",
    "\n",
    "def flip_bit(n: int) -> int:\n",
    "    \"Given 0, return 1; Given 1, return 0\"\n",
    "    return 0 if n == 1 else 1\n",
    "\n",
    "def flip_and_reverse(lol: List[List[bool]]) -> List[List[bool]]:\n",
    "\n",
    "    ### BEGIN SOLUTION\n",
    "    \n",
    "    # 1-bit is the simplest way to flip a bit\n",
    "    return [[flip_bit(bit) for bit in reversed(row)] for row in lol]\n",
    "    \n",
    "    # 1-bit is the simplest way to flip a bit\n",
    "#     return [[(1 - bit) for bit in reversed(row)] for row in lol]\n",
    "    \n",
    "    ### END SOLUTION\n",
    "\n",
    "test_flip_and_reverse(flip_and_reverse)"
   ]
  },
  {
   "cell_type": "markdown",
   "metadata": {},
   "source": [
    "Implement transpose\n",
    "-------\n",
    "\n",
    "Given a matrix, transpose it with a list comprehension.\n",
    "\n",
    "Challenge - Try to re-write it in a functional style as composed functions."
   ]
  },
  {
   "cell_type": "code",
   "execution_count": 2,
   "metadata": {},
   "outputs": [],
   "source": [
    "from typing import List\n",
    "\n",
    "import numpy as np\n",
    "\n",
    "def transpose(matrix: List[List[float]]) -> List[List[float]]:\n",
    "    \n",
    "    pass # TODO: Delete pass and write your code.\n",
    "\n",
    "\n",
    "def test_transpose(transpose):\n",
    "    \n",
    "    assert transpose([[1, 2], [3, 4]]) == [[1, 3], [2, 4]] == np.array([[1, 2], [3, 4]]).transpose().tolist()\n",
    "    assert transpose([[1, 2, 3], [4, 5, 6]]) == [[1, 4], [2, 5], [3, 6]]  == np.array([[1, 2, 3], [4, 5, 6]]).transpose().tolist()\n",
    "\n",
    "    return \"All tests pass 🙂\"\n",
    "\n",
    "# test_transpose(transpose)"
   ]
  },
  {
   "cell_type": "code",
   "execution_count": 4,
   "metadata": {},
   "outputs": [
    {
     "data": {
      "text/plain": [
       "'All tests pass 🙂'"
      ]
     },
     "execution_count": 4,
     "metadata": {},
     "output_type": "execute_result"
    }
   ],
   "source": [
    "# Solutions\n",
    "\n",
    "def transpose(matrix: List[List[float]]) -> List[List[float]]:\n",
    "\n",
    "\n",
    "    ### BEGIN SOLUTION\n",
    "    \n",
    "    return [[row[i] for row in matrix] for i in range(len(matrix[0]))]\n",
    "#     return tuple(zip(*matrix)) # Wants to return as tuple of tuples\n",
    "#     return [list(row) for row in zip(*matrix)] \n",
    "\n",
    "    ### END SOLUTION\n",
    "\n",
    "test_transpose(transpose)"
   ]
  },
  {
   "cell_type": "markdown",
   "metadata": {},
   "source": [
    "Calculate the squares of just even numbers with map and filter\n",
    "------\n",
    "\n",
    "Refactor the following list comprehension to use just `map` and `filter`\n",
    "\n",
    "`[x**2 for x in range(1, n+1) if x % 2 == 0]`"
   ]
  },
  {
   "cell_type": "code",
   "execution_count": 156,
   "metadata": {},
   "outputs": [],
   "source": [
    "from typing import List\n",
    "\n",
    "def even_squares(n: int) -> List[int]:\n",
    "    \n",
    "    pass # TODO: Delete pass and write your code.\n",
    "\n",
    "def test_even_squares(even_squares):\n",
    "    \n",
    "    for n in range(1, 10):\n",
    "        assert even_squares(n) == [x**2 for x in range(1, n+1) if x % 2 == 0]\n",
    "\n",
    "    return \"All tests pass 🙂\"\n",
    "\n",
    "# test_even_squares(even_squares)"
   ]
  },
  {
   "cell_type": "code",
   "execution_count": 157,
   "metadata": {},
   "outputs": [
    {
     "data": {
      "text/plain": [
       "'All tests pass 🙂'"
      ]
     },
     "execution_count": 157,
     "metadata": {},
     "output_type": "execute_result"
    }
   ],
   "source": [
    "# Solutions\n",
    "\n",
    "def even_squares(n: int) -> List[int]:\n",
    "\n",
    "    ### BEGIN SOLUTION\n",
    "    \n",
    "    return list(map(lambda x: x*x, filter(lambda x: x % 2 == 0, range(1, n+1))))\n",
    "\n",
    "    ### END SOLUTION\n",
    "    \n",
    "test_even_squares(even_squares)"
   ]
  },
  {
   "cell_type": "markdown",
   "metadata": {},
   "source": [
    "Calculate the factorial of a number with reduce\n",
    "------\n",
    "\n",
    "Calculate the factorial of a number with reduce"
   ]
  },
  {
   "cell_type": "code",
   "execution_count": 158,
   "metadata": {},
   "outputs": [],
   "source": [
    "from math import factorial\n",
    "from functools import reduce\n",
    "\n",
    "def my_functional_factorial(n: int) -> int:\n",
    "    \n",
    "    pass # TODO: Delete pass and write your code.\n",
    "\n",
    "def test_my_functional_factorial(my_functional_factorial):\n",
    "    \n",
    "    for n in range(1, 10):\n",
    "        assert my_functional_factorial(n) == factorial(n)\n",
    "\n",
    "    return \"All tests pass 🙂\"\n",
    "\n",
    "# test_my_functional_factorial(my_functional_factorial)"
   ]
  },
  {
   "cell_type": "code",
   "execution_count": 159,
   "metadata": {},
   "outputs": [
    {
     "data": {
      "text/plain": [
       "'All tests pass 🙂'"
      ]
     },
     "execution_count": 159,
     "metadata": {},
     "output_type": "execute_result"
    }
   ],
   "source": [
    "def my_functional_factorial(n: int) -> int:\n",
    "    \n",
    "    ### BEGIN SOLUTION\n",
    "    \n",
    "    return reduce(lambda product, x: product*x, range(1, n+1))  \n",
    "\n",
    "    ### END SOLUTION\n",
    "    \n",
    "test_my_functional_factorial(my_functional_factorial)"
   ]
  },
  {
   "cell_type": "markdown",
   "metadata": {},
   "source": [
    "<br>\n",
    "<br> \n",
    "<br>\n",
    "\n",
    "----"
   ]
  }
 ],
 "metadata": {
  "kernelspec": {
   "display_name": "Python 3",
   "language": "python",
   "name": "python3"
  },
  "language_info": {
   "codemirror_mode": {
    "name": "ipython",
    "version": 3
   },
   "file_extension": ".py",
   "mimetype": "text/x-python",
   "name": "python",
   "nbconvert_exporter": "python",
   "pygments_lexer": "ipython3",
   "version": "3.8.3"
  },
  "toc": {
   "base_numbering": 1,
   "nav_menu": {},
   "number_sections": false,
   "sideBar": false,
   "skip_h1_title": false,
   "title_cell": "Table of Contents",
   "title_sidebar": "Contents",
   "toc_cell": true,
   "toc_position": {},
   "toc_section_display": true,
   "toc_window_display": false
  }
 },
 "nbformat": 4,
 "nbformat_minor": 4
}
