{
 "cells": [
  {
   "cell_type": "markdown",
   "metadata": {
    "toc": true
   },
   "source": [
    "<h1>Table of Contents<span class=\"tocSkip\"></span></h1>\n",
    "<div class=\"toc\"><ul class=\"toc-item\"><li><span><a href=\"#List-Comprehensions\" data-toc-modified-id=\"List-Comprehensions-1\">List Comprehensions</a></span></li><li><span><a href=\"#Learning-Outcomes\" data-toc-modified-id=\"Learning-Outcomes-2\">Learning Outcomes</a></span></li><li><span><a href=\"#List-comprehensions-for-accumulator-pattern\" data-toc-modified-id=\"List-comprehensions-for-accumulator-pattern-3\">List comprehensions for accumulator pattern</a></span></li><li><span><a href=\"#List-comprehensions-with-conditional-logic\" data-toc-modified-id=\"List-comprehensions-with-conditional-logic-4\">List comprehensions with conditional logic</a></span></li><li><span><a href=\"#Criteria-for-using-list-comprehensions\" data-toc-modified-id=\"Criteria-for-using-list-comprehensions-5\">Criteria for using list comprehensions</a></span></li><li><span><a href=\"#When-not-use-list-comprehensions\" data-toc-modified-id=\"When-not-use-list-comprehensions-6\">When not use list comprehensions</a></span></li><li><span><a href=\"#List-comprehensions-in-Data-Science-to-process-data\" data-toc-modified-id=\"List-comprehensions-in-Data-Science-to-process-data-7\">List comprehensions in Data Science to process data</a></span></li><li><span><a href=\"#Python-has-many-types-of-comprehensions\" data-toc-modified-id=\"Python-has-many-types-of-comprehensions-8\">Python has many types of comprehensions</a></span></li><li><span><a href=\"#Takeaways\" data-toc-modified-id=\"Takeaways-9\">Takeaways</a></span></li><li><span><a href=\"#Bonus-Material\" data-toc-modified-id=\"Bonus-Material-10\">Bonus Material</a></span></li></ul></div>"
   ]
  },
  {
   "cell_type": "markdown",
   "metadata": {
    "slideshow": {
     "slide_type": "slide"
    }
   },
   "source": [
    "<center><h2>List Comprehensions</h2></center>"
   ]
  },
  {
   "cell_type": "markdown",
   "metadata": {},
   "source": [
    "<center><h2>Learning Outcomes</h2></center>\n",
    "\n",
    "__By the end of this session, you should be able to__:\n",
    "\n",
    "- Write a list comprehension to elegantly process data.\n",
    "- Explain when to use and not use a  list comprehension.\n"
   ]
  },
  {
   "cell_type": "markdown",
   "metadata": {},
   "source": [
    "List comprehensions for accumulator pattern\n",
    "----"
   ]
  },
  {
   "cell_type": "code",
   "execution_count": 33,
   "metadata": {},
   "outputs": [
    {
     "data": {
      "text/plain": [
       "[0.035828544052667,\n",
       " 0.43959450755507634,\n",
       " 0.5244983656093891,\n",
       " 0.2388040541960864,\n",
       " 0.10632814115613165]"
      ]
     },
     "execution_count": 33,
     "metadata": {},
     "output_type": "execute_result"
    }
   ],
   "source": [
    "# Create a list of random numbers\n",
    "\n",
    "from random import random\n",
    "\n",
    "values = []\n",
    "for _ in range(5):\n",
    "    values.append(random())\n",
    "values"
   ]
  },
  {
   "cell_type": "markdown",
   "metadata": {},
   "source": [
    "\n",
    "There must be a better way!\n",
    "\n",
    "If we need to programmatically build-up a list, we can use list comprehension. \n",
    "\n",
    "Our mantra - \"Let Python do the work!\"\n",
    "\n",
    "List comprehensions are often shorten to \"list comps\"."
   ]
  },
  {
   "cell_type": "code",
   "execution_count": 34,
   "metadata": {},
   "outputs": [
    {
     "data": {
      "text/plain": [
       "[0.9048828236673391,\n",
       " 0.06685606262775556,\n",
       " 0.9093827144659158,\n",
       " 0.3849028576059278,\n",
       " 0.07307132628437607]"
      ]
     },
     "execution_count": 34,
     "metadata": {},
     "output_type": "execute_result"
    }
   ],
   "source": [
    "# Create a list of random numbers\n",
    "\n",
    "values = [random() for _ in range(5)]\n",
    "values"
   ]
  },
  {
   "cell_type": "markdown",
   "metadata": {},
   "source": [
    "List comprehensions with conditional logic\n",
    "-----"
   ]
  },
  {
   "cell_type": "code",
   "execution_count": 35,
   "metadata": {},
   "outputs": [
    {
     "data": {
      "text/plain": [
       "[0.3084351253375509,\n",
       " 0.33970280438570977,\n",
       " 0.27751789328215715,\n",
       " 0.24924206759781842]"
      ]
     },
     "execution_count": 35,
     "metadata": {},
     "output_type": "execute_result"
    }
   ],
   "source": [
    "# Create a list of random numbers that is filtered / thresholded\n",
    "\n",
    "from random import random\n",
    "\n",
    "values = [random() for _ in range(5)]\n",
    "\n",
    "threshold = .35\n",
    "results = []\n",
    "for v in values:\n",
    "    if v < threshold:\n",
    "        results.append(v)\n",
    "        \n",
    "results"
   ]
  },
  {
   "cell_type": "code",
   "execution_count": 36,
   "metadata": {},
   "outputs": [
    {
     "data": {
      "text/plain": [
       "[0.03475076494026519]"
      ]
     },
     "execution_count": 36,
     "metadata": {},
     "output_type": "execute_result"
    }
   ],
   "source": [
    "values = [random() for _ in range(5)]\n",
    "results = [value for value in values if value < threshold]\n",
    "results"
   ]
  },
  {
   "cell_type": "markdown",
   "metadata": {},
   "source": [
    "Criteria for using list comprehensions\n",
    "-----\n",
    "\n",
    "1. The output type is a list.\n",
    "1. The logic is straightforward. Typically, can be expressed in a single English sentence.\n",
    "\n"
   ]
  },
  {
   "cell_type": "markdown",
   "metadata": {},
   "source": [
    "When not use list comprehensions\n",
    "-----\n",
    "\n",
    "- Output is not a list.\n",
    "- Complex logic.\n",
    "- Need to walk through state to debug.\n",
    "\n",
    "When in doubt use a for-loop."
   ]
  },
  {
   "cell_type": "markdown",
   "metadata": {},
   "source": [
    "List comprehensions in Data Science to process data\n",
    "-------\n",
    "\n",
    "List comprehensions are very useful for data munging.\n"
   ]
  },
  {
   "cell_type": "code",
   "execution_count": 37,
   "metadata": {},
   "outputs": [],
   "source": [
    "# Get the diagonal of a matrix (without using NumPy)\n",
    "\n",
    "m = [[1, 2, 3], \n",
    "     [4, 5, 6], \n",
    "     [7, 8, 9]]\n",
    "\n",
    "diag = [m[i][i] for i, _ in enumerate(m)]\n",
    "\n",
    "assert diag == [1, 5, 9]"
   ]
  },
  {
   "cell_type": "markdown",
   "metadata": {},
   "source": [
    "Comprehension are very useful in data science for data cleaning. "
   ]
  },
  {
   "cell_type": "code",
   "execution_count": 38,
   "metadata": {},
   "outputs": [
    {
     "data": {
      "text/plain": [
       "[1, 3, 12]"
      ]
     },
     "execution_count": 38,
     "metadata": {},
     "output_type": "execute_result"
    }
   ],
   "source": [
    "# Remove all None (aka null)  \n",
    "nums = [None, 1, None, 3, 12, None] \n",
    "\n",
    "nums = [n for n in nums if n is not None]\n",
    "\n",
    "nums"
   ]
  },
  {
   "cell_type": "markdown",
   "metadata": {},
   "source": [
    "__Normalize numbers__\n",
    "\n",
    "Write a function that linearly rescales a list of numbers values to be [0,1], one type of [normalization](https://en.wikipedia.org/wiki/Normalization_(statistics)). \n",
    "\n",
    "Use this formula:\n",
    "\n",
    "$$ X′ = \\frac{X - X_{min}}{X_{max} - X_{min}} $$\n",
    "\n",
    "Given that the inputs and outputs are both lists, a list comprehension is appropriate.\n",
    "\n",
    "This is also called Min-Max Feature scaling. Often times in data science, we take raw values and rescale them to be features."
   ]
  },
  {
   "cell_type": "code",
   "execution_count": 39,
   "metadata": {},
   "outputs": [
    {
     "data": {
      "text/plain": [
       "[-0.36363636363636365,\n",
       " -0.2727272727272727,\n",
       " -0.18181818181818182,\n",
       " -0.09090909090909091,\n",
       " 0.0,\n",
       " 0.09090909090909091,\n",
       " 0.18181818181818182,\n",
       " 0.2727272727272727]"
      ]
     },
     "execution_count": 39,
     "metadata": {},
     "output_type": "execute_result"
    }
   ],
   "source": [
    "from typing import Sequence\n",
    "\n",
    "def normalize(nums, value):\n",
    "    return (value - min(nums)) / (max(nums) - min(nums)) \n",
    "\n",
    "nums = list(range(-3, 5)) \n",
    "\n",
    "[normalize(nums, v) for v in nums] "
   ]
  },
  {
   "cell_type": "markdown",
   "metadata": {},
   "source": [
    "Python has many types of comprehensions\n",
    "------\n",
    "\n",
    "Comprehensions types:\n",
    "\n",
    "- list\n",
    "- set\n",
    "- dict\n",
    "- generator expressions - lazy version\n",
    "\n",
    "Comprehensions are easy ways to make a complete pass over the data to improve quality of the data."
   ]
  },
  {
   "cell_type": "markdown",
   "metadata": {},
   "source": [
    "<center><h2>Takeaways</h2></center>\n",
    "\n",
    "- List comprehensions are useful ways to process data.\n",
    "- List comprehensions are good choice when the output is a list and the logic is straightforward.\n",
    "- However, do not over use them. If the logic becomes complex or error prone, use a for loop instead."
   ]
  },
  {
   "cell_type": "markdown",
   "metadata": {},
   "source": [
    " "
   ]
  },
  {
   "cell_type": "markdown",
   "metadata": {},
   "source": [
    "Bonus Material\n",
    "-----"
   ]
  },
  {
   "cell_type": "code",
   "execution_count": 41,
   "metadata": {},
   "outputs": [],
   "source": [
    "# Python automatically manages namespace for list comps"
   ]
  },
  {
   "cell_type": "code",
   "execution_count": 42,
   "metadata": {},
   "outputs": [],
   "source": [
    "reset -fs"
   ]
  },
  {
   "cell_type": "code",
   "execution_count": 43,
   "metadata": {},
   "outputs": [
    {
     "name": "stdout",
     "output_type": "stream",
     "text": [
      "Interactive namespace is empty.\n"
     ]
    }
   ],
   "source": [
    "whos"
   ]
  },
  {
   "cell_type": "code",
   "execution_count": 44,
   "metadata": {},
   "outputs": [],
   "source": [
    "names = 'Mingming Stephanie Lina  Matthew Sunny'.split()\n",
    "names = [name.lower() for name in names]"
   ]
  },
  {
   "cell_type": "code",
   "execution_count": 45,
   "metadata": {},
   "outputs": [
    {
     "name": "stdout",
     "output_type": "stream",
     "text": [
      "Variable   Type    Data/Info\n",
      "----------------------------\n",
      "names      list    n=5\n"
     ]
    }
   ],
   "source": [
    "whos"
   ]
  },
  {
   "cell_type": "markdown",
   "metadata": {},
   "source": [
    "☝ no `name` variable in the namespace"
   ]
  },
  {
   "cell_type": "markdown",
   "metadata": {},
   "source": [
    " "
   ]
  }
 ],
 "metadata": {
  "kernelspec": {
   "display_name": "Python 3",
   "language": "python",
   "name": "python3"
  },
  "language_info": {
   "codemirror_mode": {
    "name": "ipython",
    "version": 3
   },
   "file_extension": ".py",
   "mimetype": "text/x-python",
   "name": "python",
   "nbconvert_exporter": "python",
   "pygments_lexer": "ipython3",
   "version": "3.8.3"
  },
  "toc": {
   "base_numbering": 1,
   "nav_menu": {},
   "number_sections": false,
   "sideBar": false,
   "skip_h1_title": false,
   "title_cell": "Table of Contents",
   "title_sidebar": "Contents",
   "toc_cell": true,
   "toc_position": {},
   "toc_section_display": true,
   "toc_window_display": false
  }
 },
 "nbformat": 4,
 "nbformat_minor": 2
}
