{
 "cells": [
  {
   "cell_type": "markdown",
   "metadata": {
    "nbgrader": {
     "grade": false,
     "grade_id": "cell-f49b8ea35a2dabd9",
     "locked": true,
     "schema_version": 1,
     "solution": false
    },
    "toc": true
   },
   "source": [
    "<h1>Table of Contents<span class=\"tocSkip\"></span></h1>\n",
    "<div class=\"toc\"><ul class=\"toc-item\"><li><span><a href=\"#Scope-Problems\" data-toc-modified-id=\"Scope-Problems-1\">Scope Problems</a></span><ul class=\"toc-item\"><li><span><a href=\"#Scope-Test-#1\" data-toc-modified-id=\"Scope-Test-#1-1.1\">Scope Test #1</a></span></li><li><span><a href=\"#Scope-Test-#2\" data-toc-modified-id=\"Scope-Test-#2-1.2\">Scope Test #2</a></span></li><li><span><a href=\"#Scope-Test-#3\" data-toc-modified-id=\"Scope-Test-#3-1.3\">Scope Test #3</a></span></li></ul></li><li><span><a href=\"#Create-a-Fibonacci-sequence-with-recursion\" data-toc-modified-id=\"Create-a-Fibonacci-sequence-with-recursion-2\">Create a Fibonacci sequence with recursion</a></span></li><li><span><a href=\"#Greatest-common-divisor-(GCD)-with-recursion\" data-toc-modified-id=\"Greatest-common-divisor-(GCD)-with-recursion-3\">Greatest common divisor (GCD) with recursion</a></span></li><li><span><a href=\"#Len(gth)-of-a-list-with-recursion\" data-toc-modified-id=\"Len(gth)-of-a-list-with-recursion-4\">Len(gth) of a list with recursion</a></span></li><li><span><a href=\"#Reverse-a-string-with-recursion\" data-toc-modified-id=\"Reverse-a-string-with-recursion-5\">Reverse a string with recursion</a></span></li></ul></div>"
   ]
  },
  {
   "cell_type": "markdown",
   "metadata": {},
   "source": [
    "Scope Problems\n",
    "-----\n",
    "\n",
    "The scope of a variable is the context in which an object exists, aka everywhere it is available in the namespace.\n",
    "\n",
    "Uncomment & run the following cells. Try to explain the results. Writing a comment on each line might help."
   ]
  },
  {
   "cell_type": "code",
   "execution_count": 12,
   "metadata": {},
   "outputs": [],
   "source": [
    "reset -fs"
   ]
  },
  {
   "cell_type": "markdown",
   "metadata": {},
   "source": [
    "### Scope Test #1"
   ]
  },
  {
   "cell_type": "code",
   "execution_count": 13,
   "metadata": {},
   "outputs": [],
   "source": [
    "# meaning = 42           \n",
    "\n",
    "# def scope_test():             \n",
    "#     name = \"Lambda 🐶\" \n",
    "#     print(meaning)     \n",
    "\n",
    "# scope_test()\n",
    "# print(name)            \n"
   ]
  },
  {
   "cell_type": "code",
   "execution_count": 14,
   "metadata": {},
   "outputs": [],
   "source": [
    "# Solutions\n",
    "\n",
    "# meaning = 42           # Global namespace\n",
    "\n",
    "# def scope_test():             \n",
    "#     name = \"Lambda 🐶\" # Local namespace      \n",
    "#     print(meaning)     # Find in global namespace \n",
    "\n",
    "# scope_test()\n",
    "# print(name)            # Not in global; \n",
    "\n",
    "\"\"\"\n",
    "Takeaways\n",
    "-----\n",
    "\n",
    "- A function stack only exists during a function call\n",
    "- Functions can always access globals. However that is error-prone. \n",
    "- It is best practice that if function uses a variable, pass the variable.\n",
    "\"\"\";"
   ]
  },
  {
   "cell_type": "markdown",
   "metadata": {},
   "source": [
    "### Scope Test #2"
   ]
  },
  {
   "cell_type": "code",
   "execution_count": 15,
   "metadata": {},
   "outputs": [],
   "source": [
    "# a = 1\n",
    "\n",
    "# def some_func():\n",
    "#     return a\n",
    "\n",
    "# def another_func():\n",
    "#     a += 1\n",
    "#     return a\n",
    "\n",
    "# some_func()\n",
    "# another_func()"
   ]
  },
  {
   "cell_type": "code",
   "execution_count": 27,
   "metadata": {},
   "outputs": [
    {
     "ename": "UnboundLocalError",
     "evalue": "local variable 'a' referenced before assignment",
     "output_type": "error",
     "traceback": [
      "\u001b[0;31m-------------------------------------\u001b[0m",
      "\u001b[0;31mUnboundLocalError\u001b[0mTraceback (most recent call last)",
      "\u001b[0;32m<ipython-input-27-9d8ca5c9603d>\u001b[0m in \u001b[0;36m<module>\u001b[0;34m\u001b[0m\n\u001b[1;32m     12\u001b[0m \u001b[0;34m\u001b[0m\u001b[0m\n\u001b[1;32m     13\u001b[0m \u001b[0msome_func\u001b[0m\u001b[0;34m(\u001b[0m\u001b[0;34m)\u001b[0m\u001b[0;34m\u001b[0m\u001b[0;34m\u001b[0m\u001b[0m\n\u001b[0;32m---> 14\u001b[0;31m \u001b[0manother_func\u001b[0m\u001b[0;34m(\u001b[0m\u001b[0;34m)\u001b[0m\u001b[0;34m\u001b[0m\u001b[0;34m\u001b[0m\u001b[0m\n\u001b[0m\u001b[1;32m     15\u001b[0m \u001b[0;34m\u001b[0m\u001b[0m\n\u001b[1;32m     16\u001b[0m \"\"\"\n",
      "\u001b[0;32m<ipython-input-27-9d8ca5c9603d>\u001b[0m in \u001b[0;36manother_func\u001b[0;34m()\u001b[0m\n\u001b[1;32m      8\u001b[0m \u001b[0;32mdef\u001b[0m \u001b[0manother_func\u001b[0m\u001b[0;34m(\u001b[0m\u001b[0;34m)\u001b[0m\u001b[0;34m:\u001b[0m\u001b[0;34m\u001b[0m\u001b[0;34m\u001b[0m\u001b[0m\n\u001b[1;32m      9\u001b[0m \u001b[0;31m#     a += 1          # Try to reference the global but fails\u001b[0m\u001b[0;34m\u001b[0m\u001b[0;34m\u001b[0m\u001b[0;34m\u001b[0m\u001b[0m\n\u001b[0;32m---> 10\u001b[0;31m     \u001b[0ma\u001b[0m \u001b[0;34m=\u001b[0m \u001b[0ma\u001b[0m \u001b[0;34m+\u001b[0m \u001b[0;36m1\u001b[0m\u001b[0;34m\u001b[0m\u001b[0;34m\u001b[0m\u001b[0m\n\u001b[0m\u001b[1;32m     11\u001b[0m     \u001b[0;32mreturn\u001b[0m \u001b[0ma\u001b[0m\u001b[0;34m\u001b[0m\u001b[0;34m\u001b[0m\u001b[0m\n\u001b[1;32m     12\u001b[0m \u001b[0;34m\u001b[0m\u001b[0m\n",
      "\u001b[0;31mUnboundLocalError\u001b[0m: local variable 'a' referenced before assignment"
     ]
    }
   ],
   "source": [
    "# Solutions\n",
    "\n",
    "a = 1               # Global\n",
    "\n",
    "def some_func():  \n",
    "    return a        # Find the reference in the global namespace\n",
    "\n",
    "def another_func():\n",
    "    a += 1          # Unable to find it in this local scope\n",
    "    return a\n",
    "\n",
    "some_func()\n",
    "another_func()\n",
    "\n",
    "\"\"\"\n",
    "When you make an assignment to a variable in a scope, \n",
    "it becomes local to that scope. \n",
    "So `a` variable becomes local to the scope of another_func, \n",
    "but it has not been initialized previously in the same scope \n",
    "which throws an error.\n",
    "\n",
    "DO NOT USE `global` to fix that error.\n",
    "`global` can cause subtle bugs that are hard to find.\n",
    "You should pass variables that functions need as parameters.\n",
    "\n",
    "def another_func(a):\n",
    "    a += 1          # Unable to find it in this local scope\n",
    "    return a\n",
    "\n",
    "# Sources:\n",
    "https://www.codementor.io/@satwikkansal/some-tricky-python-snippets-that-may-bite-you-off-bhndh45zp\n",
    "# https://sebastianraschka.com/Articles/2014_python_scope_and_namespaces.html\n",
    "\n",
    "\n",
    "\"\"\";"
   ]
  },
  {
   "cell_type": "markdown",
   "metadata": {},
   "source": [
    "### Scope Test #3\n",
    "\n",
    "Use [Python Tutor](http://www.pythontutor.com/) to trace through the functions. Pay attention to the \"Frames\" section.\n",
    "\n",
    "What is going on with `x`?"
   ]
  },
  {
   "cell_type": "code",
   "execution_count": 17,
   "metadata": {},
   "outputs": [
    {
     "name": "stdout",
     "output_type": "stream",
     "text": [
      "-10\n",
      "99\n",
      "Back from g\n",
      "Back from f\n"
     ]
    }
   ],
   "source": [
    "def f(x):\n",
    "    x = -10\n",
    "    g(x)\n",
    "    print(\"Back from g\")\n",
    "\n",
    "def g(y):\n",
    "    print(y)\n",
    "    print(x)\n",
    "    \n",
    "x = 99\n",
    "f(x=33)\n",
    "print(\"Back from f\")"
   ]
  },
  {
   "cell_type": "markdown",
   "metadata": {
    "nbgrader": {
     "grade": false,
     "grade_id": "cell-7fb930e14d1bc203",
     "locked": true,
     "schema_version": 1,
     "solution": false
    }
   },
   "source": [
    "Create a Fibonacci sequence with recursion\n",
    "----\n",
    "\n",
    "[Fibonacci sequence](https://en.wikipedia.org/wiki/Fibonacci_number) is a series in which each number is the sum of the two preceding numbers:   \n",
    "\n",
    "$$F(n)=\n",
    "\\begin{cases} \n",
    "      0 & n=0, \\\\\n",
    "      1, & n=1, \\\\\n",
    "      F(n-1) + F(n-2), & n > 1.\n",
    "   \\end{cases}$$\n",
    "\n",
    "Write a __recursive__ function that returns a specific Fibonacci number.\n",
    "\n",
    "Hint - Use [Python Tutor](http://www.pythontutor.com/) to understand your function."
   ]
  },
  {
   "cell_type": "code",
   "execution_count": 18,
   "metadata": {
    "nbgrader": {
     "grade": false,
     "grade_id": "cell-2cea8f1aacb0b678",
     "locked": false,
     "schema_version": 1,
     "solution": true
    }
   },
   "outputs": [],
   "source": [
    "from typing import List\n",
    "\n",
    "def fib(n: int) -> int: # This function should return the nth Fibonacci number\n",
    "\n",
    "    pass # TODO: Delete pass and write your code.\n",
    "    \n",
    "\n",
    "def test_fib(fib):\n",
    "    \n",
    "    # Small numbers\n",
    "    assert fib(0) == 0\n",
    "    assert fib(1) == 1\n",
    "    assert fib(2) == 1\n",
    "    assert fib(3) == 2\n",
    "    assert fib(4) == 3\n",
    "    assert fib(5) == 5\n",
    "    \n",
    "    # Larger numbers\n",
    "    assert fib(30) == 832040\n",
    "\n",
    "    return \"All tests pass 🙂\"\n",
    "\n",
    "# test_fib(fib)"
   ]
  },
  {
   "cell_type": "code",
   "execution_count": 19,
   "metadata": {},
   "outputs": [
    {
     "data": {
      "text/plain": [
       "'All tests pass 🙂'"
      ]
     },
     "execution_count": 19,
     "metadata": {},
     "output_type": "execute_result"
    }
   ],
   "source": [
    "# solutions\n",
    "\n",
    "\n",
    "def fib(n: int) -> int: # This function should return the nth Fibonacci number\n",
    "        \n",
    "    ### BEGIN SOLUTION\n",
    "    if n <= 1:\n",
    "        return n\n",
    "    else: \n",
    "        return fib(n-1) + fib(n-2)\n",
    "    ### END SOLUTION\n",
    "    \n",
    "    \n",
    "test_fib(fib)\n",
    "\n",
    "# # Benchmark times\n",
    "# fib_recursive = fib\n",
    "# %timeit -n 10 fib_recursive(n=30) \n",
    "\n",
    "# def fib_swap(n: int) -> int:\n",
    "#     a, b = 0, 1\n",
    "#     for _ in range(n):\n",
    "#         a, b = b, a+b\n",
    "#     return a\n",
    "\n",
    "# # [fib_swap(n) for n in range(10)] \n",
    "# %timeit -n 10 fib_swap(n=30) "
   ]
  },
  {
   "cell_type": "markdown",
   "metadata": {
    "nbgrader": {
     "grade": false,
     "grade_id": "cell-ccdd2e9f38f0f90e",
     "locked": true,
     "schema_version": 1,
     "solution": false
    }
   },
   "source": [
    "Greatest common divisor (GCD) with recursion\n",
    "----\n",
    "\n",
    "The greatest common divisor (GCD), also called the greatest common factor, of two numbers is the largest natural number $d$ that divides both numbers without a remainder.\n",
    "\n",
    "Let's code up [Euclidean algorithm](https://www.khanacademy.org/computing/computer-science/cryptography/modarithmetic/a/the-euclidean-algorithm) (one of the oldest algorithms in common use) to find the GCD.\n",
    "\n",
    "Write a __recursive__ function that returns the greatest common divisor for two numbers."
   ]
  },
  {
   "cell_type": "code",
   "execution_count": 20,
   "metadata": {
    "nbgrader": {
     "grade": false,
     "grade_id": "cell-b3a108fc09a64bcd",
     "locked": false,
     "schema_version": 1,
     "solution": true
    }
   },
   "outputs": [],
   "source": [
    "from math import gcd # Ground truth function for testing\n",
    "\n",
    "def my_gcd(a: int, b: int) -> int:\n",
    "    \n",
    "    pass # TODO: Delete pass and write your code.\n",
    "\n",
    "    \n",
    "def test_my_gcd(my_gcd):\n",
    "    assert my_gcd(0, 0)    ==  0 == gcd(0, 0)\n",
    "    assert my_gcd(1, 1)    ==  1 == gcd(1, 1)\n",
    "    assert my_gcd(3, 9)    ==  3 == gcd(3, 9)\n",
    "    assert my_gcd(12, 8)   ==  4 == gcd(12, 8)\n",
    "    assert my_gcd(12, 24)  == 12 == gcd(12, 24)\n",
    "    assert my_gcd(17, 13)  ==  1 == gcd(17, 13)\n",
    "    assert my_gcd(45, -12) ==  3 == gcd(45, -12)\n",
    "    assert my_gcd(40902, 24140) ==  34 == gcd(40902, 24140)\n",
    "    \n",
    "    return \"All tests pass 🙂\"\n",
    "\n",
    "# test_my_gcd(my_gcd)   "
   ]
  },
  {
   "cell_type": "code",
   "execution_count": 40,
   "metadata": {
    "nbgrader": {
     "grade": true,
     "grade_id": "cell-cd5d0a53c67f6a40",
     "locked": true,
     "points": 1,
     "schema_version": 1,
     "solution": false
    }
   },
   "outputs": [
    {
     "data": {
      "text/plain": [
       "'All tests pass 🙂'"
      ]
     },
     "execution_count": 40,
     "metadata": {},
     "output_type": "execute_result"
    }
   ],
   "source": [
    "# Solutions\n",
    "\n",
    "def my_gcd(a: int, b: int) -> int:\n",
    "    \n",
    "    ### BEGIN SOLUTION\n",
    "    # This code is a direct translation of the `while` loop verison\n",
    "    if b == 0:                  # Base case\n",
    "        return abs(a)           # GCD are always natural numbers\n",
    "    else:\n",
    "        return my_gcd(b, a%b)   # Update state / values\n",
    "    ### END SOLUTION\n",
    "\n",
    "test_my_gcd(my_gcd)   \n",
    "\n",
    "def my_gcd(a: int, b: int) -> int:\n",
    "\n",
    "    ### BEGIN SOLUTION\n",
    "    # Refactor as ternary operator / conditional expression\n",
    "    return my_gcd(b, a%b) if b else abs(a)  \n",
    "    ### END SOLUTION\n",
    "\n",
    "test_my_gcd(my_gcd)   "
   ]
  },
  {
   "cell_type": "markdown",
   "metadata": {
    "nbgrader": {
     "grade": false,
     "grade_id": "cell-9b69109eaf058bf8",
     "locked": true,
     "schema_version": 1,
     "solution": false
    }
   },
   "source": [
    "Len(gth) of a list with recursion\n",
    "----\n",
    "\n",
    "Find a recursive function that returns the number of items in a list.\n",
    "\n",
    "In other words, reimplement `len` function for lists."
   ]
  },
  {
   "cell_type": "code",
   "execution_count": null,
   "metadata": {
    "nbgrader": {
     "grade": false,
     "grade_id": "cell-e50f07139b923d61",
     "locked": false,
     "schema_version": 1,
     "solution": true
    }
   },
   "outputs": [],
   "source": [
    "from typing import List\n",
    "\n",
    "def len_list(a: List) -> int:\n",
    "    \n",
    "    pass # TODO: Delete pass and write your code.\n",
    "    \n",
    "        \n",
    "def test_len_list(len_list):\n",
    "    \n",
    "    assert len_list([])         == len([])         == 0\n",
    "    assert len_list([1])        == len([1])        == 1\n",
    "    assert len_list([\"a\", \"b\"]) == len([\"a\", \"b\"]) == 2\n",
    "    assert len_list([1, 2, 3])  == len([1, 2, 3])  == 3\n",
    "\n",
    "    return \"All tests pass 🙂\"\n",
    "\n",
    "# test_len_list(len_list)"
   ]
  },
  {
   "cell_type": "code",
   "execution_count": null,
   "metadata": {
    "nbgrader": {
     "grade": true,
     "grade_id": "cell-ec281ff9e30dab21",
     "locked": true,
     "points": 1,
     "schema_version": 1,
     "solution": false
    }
   },
   "outputs": [],
   "source": [
    "# Solutions\n",
    "\n",
    "def len_list(a: List) -> int:\n",
    "\n",
    "    ### BEGIN SOLUTION\n",
    "    if a == []:\n",
    "        return 0\n",
    "    else:\n",
    "        return 1 + len_list(a[1:])\n",
    "     ### END SOLUTION\n",
    "\n",
    "test_len_list(len_list)"
   ]
  },
  {
   "cell_type": "markdown",
   "metadata": {
    "nbgrader": {
     "grade": false,
     "grade_id": "cell-b14f4ac15b352373",
     "locked": true,
     "schema_version": 1,
     "solution": false
    }
   },
   "source": [
    "Reverse a string with recursion\n",
    "----\n",
    "\n",
    "Brian once had a technical interview for a Data Scientist role which was solely \"Brainstorm and implement as many ways as possible to reverse a string.\"\n",
    "\n",
    "He got tripped up trying to implement reversing a string with recursion. \n",
    "\n",
    "Be better than Brian."
   ]
  },
  {
   "cell_type": "code",
   "execution_count": 34,
   "metadata": {
    "nbgrader": {
     "grade": false,
     "grade_id": "cell-84f0c22e48d77c38",
     "locked": false,
     "schema_version": 1,
     "solution": true
    }
   },
   "outputs": [],
   "source": [
    "def reverse_string(string: str) -> str:\n",
    "\n",
    "    pass # TODO: Delete pass and write your code.\n",
    "    \n",
    "    \n",
    "def test_reverse_string(reverse_string):\n",
    "    \n",
    "    assert reverse_string(\"\")         == \"\"                 \n",
    "    assert reverse_string(\"a\")        == \"a\"               \n",
    "    assert reverse_string(\"ab\")       == \"ba\"             \n",
    "    assert reverse_string(\"abc\")      == \"cba\"             \n",
    "    assert reverse_string(\"stressed\") == \"desserts\" # When I get stressed, I flip it to desserts\n",
    "\n",
    "    return \"all tests pass 🙂\"\n",
    "\n",
    "# test_reverse_string(reverse_string)"
   ]
  },
  {
   "cell_type": "code",
   "execution_count": 38,
   "metadata": {
    "nbgrader": {
     "grade": true,
     "grade_id": "cell-e23e8f3c94043460",
     "locked": true,
     "points": 1,
     "schema_version": 1,
     "solution": false
    }
   },
   "outputs": [
    {
     "data": {
      "text/plain": [
       "'all tests pass 🙂'"
      ]
     },
     "execution_count": 38,
     "metadata": {},
     "output_type": "execute_result"
    }
   ],
   "source": [
    "# Solutions\n",
    "\n",
    "def reverse_string(string: str) -> str:\n",
    "    \n",
    "    ### BEGIN SOLUTION\n",
    "    if string == \"\": # Base case\n",
    "        return \"\"\n",
    "    else:\n",
    "        return string[-1] + reverse_string(string[:-1]) # \n",
    "    ### END SOLUTION\n",
    "\n",
    "test_reverse_string(reverse_string)\n",
    "\n",
    "def reverse_string(string: str) -> str:\n",
    "    \n",
    "    ### BEGIN SOLUTION\n",
    "    # Refactor as ternary operator / conditional expression\n",
    "    return string[-1] + reverse_string(string[:-1]) if string else \"\"\n",
    "    ### END SOLUTION\n",
    "\n",
    "test_reverse_string(reverse_string)\n",
    "\n",
    "\n",
    "# https://github.com/brianspiering/coding-challenges/blob/master/reverse_strings.ipynb"
   ]
  },
  {
   "cell_type": "markdown",
   "metadata": {
    "nbgrader": {
     "grade": false,
     "grade_id": "cell-ff2d070e25115ec4",
     "locked": true,
     "schema_version": 1,
     "solution": false
    }
   },
   "source": [
    "<br>\n",
    "<br> \n",
    "<br>\n",
    "\n",
    "----"
   ]
  }
 ],
 "metadata": {
  "anaconda-cloud": {},
  "celltoolbar": "Create Assignment",
  "kernelspec": {
   "display_name": "Python 3",
   "language": "python",
   "name": "python3"
  },
  "language_info": {
   "codemirror_mode": {
    "name": "ipython",
    "version": 3
   },
   "file_extension": ".py",
   "mimetype": "text/x-python",
   "name": "python",
   "nbconvert_exporter": "python",
   "pygments_lexer": "ipython3",
   "version": "3.8.3"
  },
  "toc": {
   "base_numbering": 1,
   "nav_menu": {},
   "number_sections": false,
   "sideBar": true,
   "skip_h1_title": false,
   "title_cell": "Table of Contents",
   "title_sidebar": "Contents",
   "toc_cell": true,
   "toc_position": {},
   "toc_section_display": true,
   "toc_window_display": false
  }
 },
 "nbformat": 4,
 "nbformat_minor": 1
}
