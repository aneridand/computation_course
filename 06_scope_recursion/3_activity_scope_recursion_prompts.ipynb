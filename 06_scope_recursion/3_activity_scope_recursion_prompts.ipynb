{
 "cells": [
  {
   "cell_type": "markdown",
   "metadata": {
    "nbgrader": {
     "grade": false,
     "grade_id": "cell-f49b8ea35a2dabd9",
     "locked": true,
     "schema_version": 1,
     "solution": false
    },
    "toc": true
   },
   "source": [
    "<h1>Table of Contents<span class=\"tocSkip\"></span></h1>\n",
    "<div class=\"toc\"><ul class=\"toc-item\"><li><span><a href=\"#Scope-Problems\" data-toc-modified-id=\"Scope-Problems-1\">Scope Problems</a></span><ul class=\"toc-item\"><li><span><a href=\"#Scope-Test-#1\" data-toc-modified-id=\"Scope-Test-#1-1.1\">Scope Test #1</a></span></li><li><span><a href=\"#Scope-Test-#2\" data-toc-modified-id=\"Scope-Test-#2-1.2\">Scope Test #2</a></span></li><li><span><a href=\"#Scope-Test-#3\" data-toc-modified-id=\"Scope-Test-#3-1.3\">Scope Test #3</a></span></li></ul></li><li><span><a href=\"#Create-a-Fibonacci-sequence-with-recursion\" data-toc-modified-id=\"Create-a-Fibonacci-sequence-with-recursion-2\">Create a Fibonacci sequence with recursion</a></span></li><li><span><a href=\"#Greatest-common-divisor-(GCD)-with-recursion\" data-toc-modified-id=\"Greatest-common-divisor-(GCD)-with-recursion-3\">Greatest common divisor (GCD) with recursion</a></span></li><li><span><a href=\"#Len(gth)-of-a-list-with-recursion\" data-toc-modified-id=\"Len(gth)-of-a-list-with-recursion-4\">Len(gth) of a list with recursion</a></span></li><li><span><a href=\"#Reverse-a-string-with-recursion\" data-toc-modified-id=\"Reverse-a-string-with-recursion-5\">Reverse a string with recursion</a></span></li></ul></div>"
   ]
  },
  {
   "cell_type": "markdown",
   "metadata": {},
   "source": [
    "Scope Problems\n",
    "-----\n",
    "\n",
    "The scope of a variable is the context in which an object exists, aka everywhere it is available in the namespace.\n",
    "\n",
    "Uncomment & run the following cells. Try to explain the results."
   ]
  },
  {
   "cell_type": "code",
   "execution_count": 1,
   "metadata": {},
   "outputs": [],
   "source": [
    "reset -fs"
   ]
  },
  {
   "cell_type": "markdown",
   "metadata": {},
   "source": [
    "### Scope Test #1"
   ]
  },
  {
   "cell_type": "code",
   "execution_count": 2,
   "metadata": {},
   "outputs": [],
   "source": [
    "# meaning = 42\n",
    "\n",
    "# def scope_test():\n",
    "#     name = \"Lambda 🐶\"\n",
    "#     print(meaning)\n",
    "\n",
    "# scope_test()\n",
    "# print(name)"
   ]
  },
  {
   "cell_type": "markdown",
   "metadata": {},
   "source": [
    "### Scope Test #2"
   ]
  },
  {
   "cell_type": "code",
   "execution_count": 3,
   "metadata": {},
   "outputs": [],
   "source": [
    "# a = 1\n",
    "\n",
    "# def some_func():\n",
    "#     return a\n",
    "\n",
    "# def another_func():\n",
    "#     a += 1\n",
    "#     return a\n",
    "\n",
    "# some_func()\n",
    "# another_func()"
   ]
  },
  {
   "cell_type": "markdown",
   "metadata": {},
   "source": [
    "### Scope Test #3\n",
    "\n",
    "Use [Python Tutor](http://www.pythontutor.com/) to trace through the functions. Pay attention to the \"Frames\" section.\n",
    "\n",
    "What is going on with `x`?"
   ]
  },
  {
   "cell_type": "code",
   "execution_count": 5,
   "metadata": {},
   "outputs": [
    {
     "name": "stdout",
     "output_type": "stream",
     "text": [
      "-10\n",
      "99\n",
      "Back from g\n",
      "Back from f\n"
     ]
    }
   ],
   "source": [
    "def f(x):\n",
    "    x = -10\n",
    "    g(x)\n",
    "    print(\"Back from g\")\n",
    "\n",
    "def g(y):\n",
    "    print(y)\n",
    "    print(x)\n",
    "    \n",
    "x = 99\n",
    "f(x=33)\n",
    "print(\"Back from f\")"
   ]
  },
  {
   "cell_type": "markdown",
   "metadata": {
    "nbgrader": {
     "grade": false,
     "grade_id": "cell-7fb930e14d1bc203",
     "locked": true,
     "schema_version": 1,
     "solution": false
    }
   },
   "source": [
    "Create a Fibonacci sequence with recursion\n",
    "----\n",
    "\n",
    "[Fibonacci sequence](https://en.wikipedia.org/wiki/Fibonacci_number) is a series in which each number is the sum of the two preceding numbers:   \n",
    "\n",
    "$$F(n)=\n",
    "\\begin{cases} \n",
    "      0 & n=0, \\\\\n",
    "      1, & n=1, \\\\\n",
    "      F(n-1) + F(n-2), & n > 1.\n",
    "   \\end{cases}$$\n",
    "\n",
    "Write a __recursive__ function that returns a specific Fibonacci number.\n",
    "\n",
    "Hint - Use [Python Tutor](http://www.pythontutor.com/) to understand your function."
   ]
  },
  {
   "cell_type": "code",
   "execution_count": 6,
   "metadata": {
    "nbgrader": {
     "grade": false,
     "grade_id": "cell-2cea8f1aacb0b678",
     "locked": false,
     "schema_version": 1,
     "solution": true
    }
   },
   "outputs": [],
   "source": [
    "from typing import List\n",
    "\n",
    "def fib(n: int) -> int: # This function should return the nth Fibonacci number\n",
    "\n",
    "    pass # TODO: Delete pass and write your code.\n",
    "    \n",
    "\n",
    "def test_fib(fib):\n",
    "    \n",
    "    # Small numbers\n",
    "    assert fib(0) == 0\n",
    "    assert fib(1) == 1\n",
    "    assert fib(2) == 1\n",
    "    assert fib(3) == 2\n",
    "    assert fib(4) == 3\n",
    "    assert fib(5) == 5\n",
    "    \n",
    "    # Larger numbers\n",
    "    assert fib(30) == 832040\n",
    "\n",
    "    return \"All tests pass 🙂\"\n",
    "\n",
    "# test_fib(fib)"
   ]
  },
  {
   "cell_type": "markdown",
   "metadata": {
    "nbgrader": {
     "grade": false,
     "grade_id": "cell-ccdd2e9f38f0f90e",
     "locked": true,
     "schema_version": 1,
     "solution": false
    }
   },
   "source": [
    "Greatest common divisor (GCD) with recursion\n",
    "----\n",
    "\n",
    "The greatest common divisor (GCD), also called the greatest common factor, of two numbers is the largest natural number $d$ that divides both numbers without a remainder.\n",
    "\n",
    "Let's code up [Euclidean algorithm](https://www.khanacademy.org/computing/computer-science/cryptography/modarithmetic/a/the-euclidean-algorithm) (one of the oldest algorithms in common use) to find the GCD.\n",
    "\n",
    "Write a __recursive__ function that returns the greatest common divisor for two numbers."
   ]
  },
  {
   "cell_type": "code",
   "execution_count": 8,
   "metadata": {
    "nbgrader": {
     "grade": false,
     "grade_id": "cell-b3a108fc09a64bcd",
     "locked": false,
     "schema_version": 1,
     "solution": true
    }
   },
   "outputs": [],
   "source": [
    "from math import gcd \n",
    "\n",
    "def my_gcd(a: int, b: int) -> int:\n",
    "    \n",
    "    pass # TODO: Delete pass and write your code.\n",
    "\n",
    "    \n",
    "def test_my_gcd(my_gcd):\n",
    "    assert my_gcd(0, 0)    ==  0 == gcd(0, 0)\n",
    "    assert my_gcd(1, 1)    ==  1 == gcd(1, 1)\n",
    "    assert my_gcd(3, 9)    ==  3 == gcd(3, 9)\n",
    "    assert my_gcd(12, 8)   ==  4 == gcd(12, 8)\n",
    "    assert my_gcd(12, 24)  == 12 == gcd(12, 24)\n",
    "    assert my_gcd(17, 13)  ==  1 == gcd(17, 13)\n",
    "    assert my_gcd(45, -12) ==  3 == gcd(45, -12)\n",
    "    assert my_gcd(40902, 24140) ==  34 == gcd(40902, 24140)\n",
    "    \n",
    "    return \"All tests pass 🙂\"\n",
    "\n",
    "# test_my_gcd(my_gcd)   "
   ]
  },
  {
   "cell_type": "markdown",
   "metadata": {
    "nbgrader": {
     "grade": false,
     "grade_id": "cell-9b69109eaf058bf8",
     "locked": true,
     "schema_version": 1,
     "solution": false
    }
   },
   "source": [
    "Len(gth) of a list with recursion\n",
    "----\n",
    "\n",
    "Find a recursive function that returns the number of items in a list.\n",
    "\n",
    "In other words, reimplement `len` function for lists."
   ]
  },
  {
   "cell_type": "code",
   "execution_count": 14,
   "metadata": {
    "nbgrader": {
     "grade": false,
     "grade_id": "cell-e50f07139b923d61",
     "locked": false,
     "schema_version": 1,
     "solution": true
    }
   },
   "outputs": [],
   "source": [
    "from typing import List\n",
    "\n",
    "def len_list(a: List) -> int:\n",
    "    \n",
    "    pass # TODO: Delete pass and write your code.\n",
    "    \n",
    "        \n",
    "def test_len_list(len_list):\n",
    "    \n",
    "    assert len_list([])         == len([])         == 0\n",
    "    assert len_list([1])        == len([1])        == 1\n",
    "    assert len_list([\"a\", \"b\"]) == len([\"a\", \"b\"]) == 2\n",
    "    assert len_list([1, 2, 3])  == len([1, 2, 3])  == 3\n",
    "\n",
    "    return \"All tests pass 🙂\"\n",
    "\n",
    "# test_len_list(len_list)"
   ]
  },
  {
   "cell_type": "markdown",
   "metadata": {
    "nbgrader": {
     "grade": false,
     "grade_id": "cell-b14f4ac15b352373",
     "locked": true,
     "schema_version": 1,
     "solution": false
    }
   },
   "source": [
    "Reverse a string with recursion\n",
    "----\n",
    "\n",
    "Brian once had a technical interview for a Data Scientist role which was solely \"Brainstorm and implement as many ways as possible to reverse a string.\"\n",
    "\n",
    "He got tripped up trying to implement reversing a string with recursion. \n",
    "\n",
    "Be better than Brian."
   ]
  },
  {
   "cell_type": "code",
   "execution_count": 12,
   "metadata": {
    "nbgrader": {
     "grade": false,
     "grade_id": "cell-84f0c22e48d77c38",
     "locked": false,
     "schema_version": 1,
     "solution": true
    }
   },
   "outputs": [],
   "source": [
    "def reverse_string(string: str) -> str:\n",
    "\n",
    "    pass # TODO: Delete pass and write your code.\n",
    "    \n",
    "    \n",
    "def test_reverse_string(reverse_string):\n",
    "    \n",
    "    assert reverse_string(\"\")         == \"\"                 \n",
    "    assert reverse_string(\"a\")        == \"a\"               \n",
    "    assert reverse_string(\"ab\")       == \"ba\"             \n",
    "    assert reverse_string(\"abc\")      == \"cba\"             \n",
    "    assert reverse_string(\"stressed\") == \"desserts\" # When I get stressed, I flip it to desserts\n",
    "\n",
    "    return \"all tests pass 🙂\"\n",
    "\n",
    "# test_reverse_string(reverse_string)"
   ]
  },
  {
   "cell_type": "markdown",
   "metadata": {
    "nbgrader": {
     "grade": false,
     "grade_id": "cell-ff2d070e25115ec4",
     "locked": true,
     "schema_version": 1,
     "solution": false
    }
   },
   "source": [
    "<br>\n",
    "<br> \n",
    "<br>\n",
    "\n",
    "----"
   ]
  }
 ],
 "metadata": {
  "anaconda-cloud": {},
  "celltoolbar": "Create Assignment",
  "kernelspec": {
   "display_name": "Python 3",
   "language": "python",
   "name": "python3"
  },
  "language_info": {
   "codemirror_mode": {
    "name": "ipython",
    "version": 3
   },
   "file_extension": ".py",
   "mimetype": "text/x-python",
   "name": "python",
   "nbconvert_exporter": "python",
   "pygments_lexer": "ipython3",
   "version": "3.8.3"
  },
  "toc": {
   "base_numbering": 1,
   "nav_menu": {},
   "number_sections": false,
   "sideBar": true,
   "skip_h1_title": false,
   "title_cell": "Table of Contents",
   "title_sidebar": "Contents",
   "toc_cell": true,
   "toc_position": {},
   "toc_section_display": true,
   "toc_window_display": false
  }
 },
 "nbformat": 4,
 "nbformat_minor": 1
}
