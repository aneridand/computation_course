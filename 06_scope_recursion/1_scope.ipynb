{
 "cells": [
  {
   "cell_type": "markdown",
   "metadata": {
    "slideshow": {
     "slide_type": "skip"
    },
    "toc": true
   },
   "source": [
    "<h1>Table of Contents<span class=\"tocSkip\"></span></h1>\n",
    "<div class=\"toc\"><ul class=\"toc-item\"><li><span><a href=\"#Scope\" data-toc-modified-id=\"Scope-1\">Scope</a></span></li><li><span><a href=\"#-LEGB-rule-\" data-toc-modified-id=\"-LEGB-rule--2\"> LEGB rule </a></span></li><li><span><a href=\"#Global-vs-Local\" data-toc-modified-id=\"Global-vs-Local-3\">Global vs Local</a></span></li><li><span><a href=\"#References\" data-toc-modified-id=\"References-4\">References</a></span></li><li><span><a href=\"#Bonus-Material\" data-toc-modified-id=\"Bonus-Material-5\">Bonus Material</a></span></li><li><span><a href=\"#globals()-and-locals()-functions\" data-toc-modified-id=\"globals()-and-locals()-functions-6\">globals() and locals() functions</a></span></li><li><span><a href=\"#Global-Statement\" data-toc-modified-id=\"Global-Statement-7\">Global Statement</a></span></li></ul></div>"
   ]
  },
  {
   "cell_type": "markdown",
   "metadata": {
    "slideshow": {
     "slide_type": "slide"
    }
   },
   "source": [
    "<center><h2>Scope</h2></center>\n",
    "\n",
    "The scope of an object is the context in which an object exists.\n",
    "\n",
    "In other words, everywhere object is available in the namespace."
   ]
  },
  {
   "cell_type": "markdown",
   "metadata": {},
   "source": [
    "<center><h2> LEGB rule </h2></center>\n",
    "\n",
    "Python's namespaces are hierarchical.\n",
    "\n",
    "In which order does Python search the hierarchy levels of namespaces before it find a variable?\n",
    " \n",
    "Local ⮕ Enclosed ⮕ Global ⮕ Built-in\n",
    "\n",
    "Local are often inside a function. \n",
    "\n",
    "Enclosed are often a function wrapped in another function .\n",
    "\n",
    "Global are often the script level.\n",
    "\n",
    "Built-in are special names that Python reserves for itself."
   ]
  },
  {
   "cell_type": "markdown",
   "metadata": {},
   "source": [
    "<center><img src=\"../images/legb_rule.jpg\" width=\"75%\"/></center>"
   ]
  },
  {
   "cell_type": "markdown",
   "metadata": {},
   "source": [
    "[Image Source](https://cf.ppt-online.org/files1/slide/u/UqPai0GX3pALJ4DObyoeMxh8Fwzj25uv6csfm1/slide-10.jpg)"
   ]
  },
  {
   "cell_type": "code",
   "execution_count": 19,
   "metadata": {},
   "outputs": [
    {
     "name": "stdout",
     "output_type": "stream",
     "text": [
      "42\n",
      "42\n",
      "-1\n",
      "-1\n",
      "-1\n",
      "100\n"
     ]
    }
   ],
   "source": [
    "# Let's create a namespace mess\n",
    "\n",
    "print(sum) # Built-in\n",
    "\n",
    "sum = 42 # Global\n",
    "print(sum) \n",
    " \n",
    "    \n",
    "def outer():\n",
    "    sum = -1 # Enclosing\n",
    "    print(sum)  \n",
    "    \n",
    "    def inner():\n",
    "        print(sum) # Prove enclosing  \n",
    "\n",
    "    inner()\n",
    "    \n",
    "outer()\n",
    "\n",
    "\n",
    "def outer_2():\n",
    "    sum = -1 # Enclosing\n",
    "    print(sum)  \n",
    "    \n",
    "    def inner_2():\n",
    "        sum = 100 # Local\n",
    "        print(sum)  \n",
    "\n",
    "    inner_2()\n",
    "    \n",
    "outer_2()"
   ]
  },
  {
   "cell_type": "code",
   "execution_count": 11,
   "metadata": {},
   "outputs": [],
   "source": [
    "reset -fs"
   ]
  },
  {
   "cell_type": "markdown",
   "metadata": {},
   "source": [
    "☝ Reset namespace after messing it up"
   ]
  },
  {
   "cell_type": "markdown",
   "metadata": {
    "slideshow": {
     "slide_type": "slide"
    }
   },
   "source": [
    "<center><h2>Global vs Local</h2></center>\n",
    "\n",
    "Global: Variable that is defined everywhere\n",
    "\n",
    "Local: Variable defined only inside a function\n",
    "\n",
    "Be careful when the same identifiers are in both local and global.\n",
    "\n",
    "It is best practice to name them something different. Generally, the global is a more generic version."
   ]
  },
  {
   "cell_type": "code",
   "execution_count": 4,
   "metadata": {},
   "outputs": [
    {
     "data": {
      "text/plain": [
       "110"
      ]
     },
     "execution_count": 4,
     "metadata": {},
     "output_type": "execute_result"
    }
   ],
   "source": [
    "total_grand = 0  # Global variable \n",
    "\n",
    "def sum_something_something(n: float) -> float:\n",
    "    \n",
    "    total_sub = 10 # Local variable\n",
    "    total_sub += n\n",
    "    return total_sub\n",
    "\n",
    "total_grand += sum_something_something(100)  \n",
    "total_grand \n"
   ]
  },
  {
   "cell_type": "markdown",
   "metadata": {},
   "source": [
    "References\n",
    "-------\n",
    "\n",
    "- https://stackabuse.com/local-and-global-variables-in-python/\n",
    "- https://sebastianraschka.com/Articles/2014_python_scope_and_namespaces.html"
   ]
  },
  {
   "cell_type": "markdown",
   "metadata": {},
   "source": [
    "Bonus Material\n",
    "------"
   ]
  },
  {
   "cell_type": "markdown",
   "metadata": {},
   "source": [
    "globals() and locals() functions\n",
    "-------\n",
    "\n",
    "globals() and locals() allow you to determine whether a variable is either part of the global namespace or the local namespace. "
   ]
  },
  {
   "cell_type": "code",
   "execution_count": 1,
   "metadata": {},
   "outputs": [
    {
     "data": {
      "text/plain": [
       "{'__name__': '__main__',\n",
       " '__doc__': 'Automatically created module for IPython interactive environment',\n",
       " '__package__': None,\n",
       " '__loader__': None,\n",
       " '__spec__': None,\n",
       " '__builtin__': <module 'builtins' (built-in)>,\n",
       " '__builtins__': <module 'builtins' (built-in)>,\n",
       " '_ih': ['', 'globals()'],\n",
       " '_oh': {},\n",
       " '_dh': ['/Users/brian/github/computation_course_lessons_instructor/06_scope_recursion'],\n",
       " 'In': ['', 'globals()'],\n",
       " 'Out': {},\n",
       " 'get_ipython': <bound method InteractiveShell.get_ipython of <ipykernel.zmqshell.ZMQInteractiveShell object at 0x10670fbe0>>,\n",
       " 'exit': <IPython.core.autocall.ZMQExitAutocall at 0x1067782e0>,\n",
       " 'quit': <IPython.core.autocall.ZMQExitAutocall at 0x1067782e0>,\n",
       " '_': '',\n",
       " '__': '',\n",
       " '___': '',\n",
       " '_i': '',\n",
       " '_ii': '',\n",
       " '_iii': '',\n",
       " '_i1': 'globals()'}"
      ]
     },
     "execution_count": 1,
     "metadata": {},
     "output_type": "execute_result"
    }
   ],
   "source": [
    "globals()"
   ]
  },
  {
   "cell_type": "code",
   "execution_count": 2,
   "metadata": {},
   "outputs": [
    {
     "data": {
      "text/plain": [
       "{'__name__': '__main__',\n",
       " '__doc__': 'Automatically created module for IPython interactive environment',\n",
       " '__package__': None,\n",
       " '__loader__': None,\n",
       " '__spec__': None,\n",
       " '__builtin__': <module 'builtins' (built-in)>,\n",
       " '__builtins__': <module 'builtins' (built-in)>,\n",
       " '_ih': ['', 'globals()', 'locals()'],\n",
       " '_oh': {1: {...}},\n",
       " '_dh': ['/Users/brian/github/computation_course_lessons_instructor/06_scope_recursion'],\n",
       " 'In': ['', 'globals()', 'locals()'],\n",
       " 'Out': {1: {...}},\n",
       " 'get_ipython': <bound method InteractiveShell.get_ipython of <ipykernel.zmqshell.ZMQInteractiveShell object at 0x10670fbe0>>,\n",
       " 'exit': <IPython.core.autocall.ZMQExitAutocall at 0x1067782e0>,\n",
       " 'quit': <IPython.core.autocall.ZMQExitAutocall at 0x1067782e0>,\n",
       " '_': {...},\n",
       " '__': '',\n",
       " '___': '',\n",
       " '_i': 'globals()',\n",
       " '_ii': '',\n",
       " '_iii': '',\n",
       " '_i1': 'globals()',\n",
       " '_1': {...},\n",
       " '_i2': 'locals()'}"
      ]
     },
     "execution_count": 2,
     "metadata": {},
     "output_type": "execute_result"
    }
   ],
   "source": [
    "locals()"
   ]
  },
  {
   "cell_type": "markdown",
   "metadata": {},
   "source": [
    "Global Statement\n",
    "-----\n",
    "\n",
    "`global` can allow local variables in a function to be referenced without return them.\n",
    "\n",
    "__DO NOT__ use `global`. You should properly pass and return variables. Using global can cause bugs because variables will be referenced in too many namespaces. "
   ]
  },
  {
   "cell_type": "markdown",
   "metadata": {
    "slideshow": {
     "slide_type": "slide"
    }
   },
   "source": [
    " "
   ]
  }
 ],
 "metadata": {
  "celltoolbar": "Raw Cell Format",
  "kernelspec": {
   "display_name": "Python 3",
   "language": "python",
   "name": "python3"
  },
  "language_info": {
   "codemirror_mode": {
    "name": "ipython",
    "version": 3
   },
   "file_extension": ".py",
   "mimetype": "text/x-python",
   "name": "python",
   "nbconvert_exporter": "python",
   "pygments_lexer": "ipython3",
   "version": "3.8.3"
  },
  "toc": {
   "base_numbering": 1,
   "nav_menu": {},
   "number_sections": false,
   "sideBar": false,
   "skip_h1_title": false,
   "title_cell": "Table of Contents",
   "title_sidebar": "Contents",
   "toc_cell": true,
   "toc_position": {},
   "toc_section_display": true,
   "toc_window_display": false
  }
 },
 "nbformat": 4,
 "nbformat_minor": 2
}
