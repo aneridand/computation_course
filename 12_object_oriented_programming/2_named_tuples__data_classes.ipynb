{
 "cells": [
  {
   "cell_type": "markdown",
   "metadata": {
    "toc": true
   },
   "source": [
    "<h1>Table of Contents<span class=\"tocSkip\"></span></h1>\n",
    "<div class=\"toc\"><ul class=\"toc-item\"><li><span><a href=\"#Name-Tuples-&amp;-Data-Classes\" data-toc-modified-id=\"Name-Tuples-&amp;-Data-Classes-1\">Name Tuples &amp; Data Classes</a></span></li><li><span><a href=\"#Learning-Outcomes\" data-toc-modified-id=\"Learning-Outcomes-2\">Learning Outcomes</a></span></li><li><span><a href=\"#Data-modeling-with-a-tuple\" data-toc-modified-id=\"Data-modeling-with-a-tuple-3\">Data modeling with a <code>tuple</code></a></span></li><li><span><a href=\"#Named-Tuples\" data-toc-modified-id=\"Named-Tuples-4\">Named Tuples</a></span></li><li><span><a href=\"#Model-stocks-as-a-named-tuple,-then-define-custom-sorting\" data-toc-modified-id=\"Model-stocks-as-a-named-tuple,-then-define-custom-sorting-5\">Model stocks as a named tuple, then define custom sorting</a></span></li><li><span><a href=\"#Modeling-data-with-a-dict\" data-toc-modified-id=\"Modeling-data-with-a-dict-6\">Modeling data with a <code>dict</code></a></span></li><li><span><a href=\"#dataclasses----Modern-Python-way-to-create-classes\" data-toc-modified-id=\"dataclasses----Modern-Python-way-to-create-classes-7\"><code>dataclasses</code> -  Modern Python way to create classes</a></span></li><li><span><a href=\"#What-the-heck-is-@dataclass?\" data-toc-modified-id=\"What-the-heck-is-@dataclass?-8\">What the heck is <code>@dataclass</code>?</a></span></li><li><span><a href=\"#Dataclassess-make-class-easier-to-write\" data-toc-modified-id=\"Dataclassess-make-class-easier-to-write-9\">Dataclassess make class easier to write</a></span></li><li><span><a href=\"#Data-classes-allow-for-more-human-readable-code\" data-toc-modified-id=\"Data-classes-allow-for-more-human-readable-code-10\">Data classes allow for more human-readable code</a></span></li><li><span><a href=\"#Dataclasses-aren't-restricted-to-data-only\" data-toc-modified-id=\"Dataclasses-aren't-restricted-to-data-only-11\">Dataclasses aren't restricted to data only</a></span></li><li><span><a href=\"#Takeaways\" data-toc-modified-id=\"Takeaways-12\">Takeaways</a></span></li><li><span><a href=\"#Bonus-Material\" data-toc-modified-id=\"Bonus-Material-13\">Bonus Material</a></span></li></ul></div>"
   ]
  },
  {
   "cell_type": "markdown",
   "metadata": {},
   "source": [
    "Name Tuples & Data Classes\n",
    "-----\n",
    "\n"
   ]
  },
  {
   "cell_type": "markdown",
   "metadata": {},
   "source": [
    "<center><h2>Learning Outcomes</h2></center>\n",
    "\n",
    "__By the end of this session, you should be able to__:\n",
    "\n",
    "- Model immutable data with `namedtuples`\n",
    "- Write classes faster with `dataclass`"
   ]
  },
  {
   "cell_type": "markdown",
   "metadata": {},
   "source": [
    "Data modeling with a `tuple`\n",
    "------\n",
    "\n",
    "Often data does not need to be mutable.\n",
    "\n",
    "Especially when dealing with production environments."
   ]
  },
  {
   "cell_type": "code",
   "execution_count": 54,
   "metadata": {},
   "outputs": [],
   "source": [
    "# Model a geometric point\n",
    "\n",
    "point = tuple((11, 22))"
   ]
  },
  {
   "cell_type": "code",
   "execution_count": 55,
   "metadata": {},
   "outputs": [
    {
     "data": {
      "text/plain": [
       "11"
      ]
     },
     "execution_count": 55,
     "metadata": {},
     "output_type": "execute_result"
    }
   ],
   "source": [
    "# Look up by index\n",
    "point[0]"
   ]
  },
  {
   "cell_type": "code",
   "execution_count": 56,
   "metadata": {},
   "outputs": [],
   "source": [
    "# It would be useful to have fields accessible by attribute lookup\n",
    "\n",
    "# point.x"
   ]
  },
  {
   "cell_type": "markdown",
   "metadata": {},
   "source": [
    "Named Tuples\n",
    "----"
   ]
  },
  {
   "cell_type": "code",
   "execution_count": 57,
   "metadata": {},
   "outputs": [],
   "source": [
    "from collections import namedtuple\n",
    "\n",
    "Point = namedtuple('Point', ['x', 'y'])\n",
    "p = Point(11, y=22)     # instantiate with positional or keyword arguments"
   ]
  },
  {
   "cell_type": "code",
   "execution_count": 58,
   "metadata": {
    "code_folding": []
   },
   "outputs": [
    {
     "data": {
      "text/plain": [
       "11"
      ]
     },
     "execution_count": 58,
     "metadata": {},
     "output_type": "execute_result"
    }
   ],
   "source": [
    "# Field accessible by attribute lookup\n",
    "p.x"
   ]
  },
  {
   "cell_type": "code",
   "execution_count": 59,
   "metadata": {},
   "outputs": [
    {
     "data": {
      "text/plain": [
       "11"
      ]
     },
     "execution_count": 59,
     "metadata": {},
     "output_type": "execute_result"
    }
   ],
   "source": [
    "# Still can be indexes\n",
    "p[0]"
   ]
  },
  {
   "cell_type": "markdown",
   "metadata": {},
   "source": [
    "Learn more in the Python docs [here](https://docs.python.org/3/library/collections.html#namedtuple-factory-function-for-tuples-with-named-fields)"
   ]
  },
  {
   "cell_type": "markdown",
   "metadata": {},
   "source": [
    "Model stocks as a named tuple, then define custom sorting\n",
    "-----\n",
    "\n",
    "\n",
    "You are managing a small portfolio of stocks and want to use Python to help you.\n",
    "\n",
    "1. Create a named tuple store to the relevant features of your stocks.\n",
    "1. Sort portfolio by price from smallest-to-largest using a `lambda` function.\n"
   ]
  },
  {
   "cell_type": "code",
   "execution_count": 60,
   "metadata": {},
   "outputs": [],
   "source": [
    "from collections import namedtuple\n",
    "\n",
    "Stock = namedtuple('Stock', ['name', 'n_shares', 'closing_date', 'price'])"
   ]
  },
  {
   "cell_type": "code",
   "execution_count": 61,
   "metadata": {},
   "outputs": [],
   "source": [
    "# Create instances\n",
    "\n",
    "uber_stock  = Stock(name='UBER',  price=44.52,      n_shares=19,   closing_date=\"2020-04-03\", )\n",
    "apple_stock = Stock(name='AAPL',  price=207.74,     n_shares=100,  closing_date=\"2020-04-03\", )\n",
    "berk_stock  = Stock(name='BRK-A', price=315_000.00, n_shares=1,    closing_date=\"2020-04-03\", )\n",
    "fb_stock    = Stock(name='FB',    price=199.75,     n_shares=435,  closing_date=\"2020-04-03\", )\n",
    "\n",
    "portfolio = [uber_stock, apple_stock, berk_stock, fb_stock]"
   ]
  },
  {
   "cell_type": "code",
   "execution_count": 62,
   "metadata": {},
   "outputs": [
    {
     "data": {
      "text/plain": [
       "[('BRK-A', 315000.0), ('AAPL', 207.74), ('FB', 199.75), ('UBER', 44.52)]"
      ]
     },
     "execution_count": 62,
     "metadata": {},
     "output_type": "execute_result"
    }
   ],
   "source": [
    "# Sort profolio by price from smallest-to-largest. \n",
    "# Use list.sort with a lambda function\n",
    "\n",
    "# Note - How the lambda function is now far more readable because of name attribute\n",
    "portfolio.sort(key=lambda portfolio:portfolio.price,\n",
    "               reverse=True)\n",
    "\n",
    "\n",
    "[(p.name, p.price) for p in portfolio]"
   ]
  },
  {
   "cell_type": "markdown",
   "metadata": {},
   "source": [
    "Modeling data with a `dict`\n",
    "---"
   ]
  },
  {
   "cell_type": "code",
   "execution_count": 63,
   "metadata": {},
   "outputs": [
    {
     "data": {
      "text/plain": [
       "'PlayStation 5'"
      ]
     },
     "execution_count": 63,
     "metadata": {},
     "output_type": "execute_result"
    }
   ],
   "source": [
    "item_dict = dict(name=\"PlayStation 5\",\n",
    "                 price=499.99,\n",
    "                 currency=\"US dollars\",\n",
    "                 quantity=None)\n",
    "item_dict['name']"
   ]
  },
  {
   "cell_type": "code",
   "execution_count": 64,
   "metadata": {},
   "outputs": [],
   "source": [
    "# dicts do not allow for . (dot) access\n",
    "# item_dict.name"
   ]
  },
  {
   "cell_type": "markdown",
   "metadata": {},
   "source": [
    "`dataclasses` -  Modern Python way to create classes\n",
    "-----\n",
    "\n",
    "\n",
    "Dataclasses allows us to model data more elegantly and create classes with less boilerplate code."
   ]
  },
  {
   "cell_type": "code",
   "execution_count": 65,
   "metadata": {},
   "outputs": [],
   "source": [
    "from dataclasses import dataclass"
   ]
  },
  {
   "cell_type": "code",
   "execution_count": 72,
   "metadata": {},
   "outputs": [],
   "source": [
    "@dataclass\n",
    "class InventoryItem:\n",
    "    \"A class to track of an item in inventory.\"\n",
    "\n",
    "    name: str\n",
    "    price: float\n",
    "    currency: str=\"US dollars\"\n",
    "    quantity: int=0"
   ]
  },
  {
   "cell_type": "markdown",
   "metadata": {},
   "source": [
    "What the heck is `@dataclass`?\n",
    "----\n",
    "\n",
    "`@` symbol is a decorator.\n",
    "\n",
    "A decorator can be applied to a function or class to change to its behavior at runtime.\n",
    "\n",
    "You can think of decorator like a hat that gives the function or class super powers.\n",
    "\n",
    "Decorator allows a programmer to extend the behavior of an existing function or class."
   ]
  },
  {
   "cell_type": "markdown",
   "metadata": {},
   "source": [
    "Learn more about decorators [here](https://realpython.com/primer-on-python-decorators/)"
   ]
  },
  {
   "cell_type": "markdown",
   "metadata": {},
   "source": [
    "Dataclassess make class easier to write\n",
    "--------\n",
    "\n",
    "Dataclasses reduces boilerplate code, boilerplate code is code that you have to write but does add unique value.\n",
    "\n",
    "You don't need `__int__`, you don't need to write out explicit `self` on every line.\n",
    "\n",
    "You only have to write a attribute once (not three times).\n",
    "\n",
    "Data class allow us to store data in class. A class is more human readable each field has a name and easier to access because the `.` interface."
   ]
  },
  {
   "cell_type": "markdown",
   "metadata": {},
   "source": [
    "Data classes allow for more human-readable code\n",
    "-----"
   ]
  },
  {
   "cell_type": "code",
   "execution_count": 67,
   "metadata": {},
   "outputs": [],
   "source": [
    "item = InventoryItem(name=\"PlayStation 5\",\n",
    "                     price=499.99,\n",
    "                     currency=\"US dollars\",\n",
    "                     quantity=0)"
   ]
  },
  {
   "cell_type": "code",
   "execution_count": 68,
   "metadata": {},
   "outputs": [
    {
     "data": {
      "text/plain": [
       "'PlayStation 5'"
      ]
     },
     "execution_count": 68,
     "metadata": {},
     "output_type": "execute_result"
    }
   ],
   "source": [
    "# Data classes allow for . (dot) access\n",
    "item.name"
   ]
  },
  {
   "cell_type": "code",
   "execution_count": 69,
   "metadata": {},
   "outputs": [
    {
     "data": {
      "text/plain": [
       "'PLAYSTATION 5'"
      ]
     },
     "execution_count": 69,
     "metadata": {},
     "output_type": "execute_result"
    }
   ],
   "source": [
    "# Thus enables fluent interface with custom classes\n",
    "item.name.upper()"
   ]
  },
  {
   "cell_type": "markdown",
   "metadata": {},
   "source": [
    "Dataclasses aren't restricted to data only\n",
    "-------\n",
    "\n",
    "You can add methods."
   ]
  },
  {
   "cell_type": "code",
   "execution_count": 70,
   "metadata": {},
   "outputs": [],
   "source": [
    "@dataclass\n",
    "class InventoryItem:\n",
    "    \"A class to track of an item in inventory.\"\n",
    "    \n",
    "    name: str\n",
    "    price: float\n",
    "    currency: str=\"US dollars\"\n",
    "    quantity: int=0\n",
    "\n",
    "    def total_cost(self) -> float:\n",
    "        \"Find the sunk cost of current inventory item\"\n",
    "        return self.price * self.quantity"
   ]
  },
  {
   "cell_type": "code",
   "execution_count": 71,
   "metadata": {},
   "outputs": [
    {
     "data": {
      "text/plain": [
       "1990.0"
      ]
     },
     "execution_count": 71,
     "metadata": {},
     "output_type": "execute_result"
    }
   ],
   "source": [
    "item = InventoryItem(name='Apple AirPods 2',\n",
    "                     price=199.00,\n",
    "                     currency=\"US dollars\",\n",
    "                     quantity=10)\n",
    "item.total_cost()"
   ]
  },
  {
   "cell_type": "markdown",
   "metadata": {},
   "source": [
    "I love data classes (like I love f strings) and use them everywhere."
   ]
  },
  {
   "cell_type": "markdown",
   "metadata": {},
   "source": [
    "<center><h2>Takeaways</h2></center>\n",
    "\n",
    "- `namedtuples` take a tuples (a great thing) and make them better by adding named attribute access.\n",
    "- `dataclass` remove some of the boilerplate of Python classes."
   ]
  },
  {
   "cell_type": "markdown",
   "metadata": {},
   "source": [
    " "
   ]
  },
  {
   "cell_type": "markdown",
   "metadata": {},
   "source": [
    "Bonus Material\n",
    "----"
   ]
  },
  {
   "cell_type": "markdown",
   "metadata": {},
   "source": [
    "__dataclass references__:\n",
    "\n",
    "- [Python docs](https://docs.python.org/3/library/dataclasses.html)\n",
    "- [Real Python](https://realpython.com/python-data-classes/)\n",
    "- [Raymond Hettinger - Dataclasses: The code generator to end all code generators - PyCon 2018](https://www.youtube.com/watch?v=T-TwcmT6Rcwz)"
   ]
  },
  {
   "cell_type": "markdown",
   "metadata": {},
   "source": [
    " "
   ]
  }
 ],
 "metadata": {
  "kernelspec": {
   "display_name": "Python 3",
   "language": "python",
   "name": "python3"
  },
  "language_info": {
   "codemirror_mode": {
    "name": "ipython",
    "version": 3
   },
   "file_extension": ".py",
   "mimetype": "text/x-python",
   "name": "python",
   "nbconvert_exporter": "python",
   "pygments_lexer": "ipython3",
   "version": "3.8.3"
  },
  "toc": {
   "base_numbering": 1,
   "nav_menu": {},
   "number_sections": false,
   "sideBar": false,
   "skip_h1_title": false,
   "title_cell": "Table of Contents",
   "title_sidebar": "Contents",
   "toc_cell": true,
   "toc_position": {},
   "toc_section_display": true,
   "toc_window_display": false
  }
 },
 "nbformat": 4,
 "nbformat_minor": 2
}
