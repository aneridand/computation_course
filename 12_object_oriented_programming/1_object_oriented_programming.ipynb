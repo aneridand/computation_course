{
 "cells": [
  {
   "cell_type": "markdown",
   "metadata": {
    "toc": true
   },
   "source": [
    "<h1>Table of Contents<span class=\"tocSkip\"></span></h1>\n",
    "<div class=\"toc\"><ul class=\"toc-item\"><li><span><a href=\"#Object-Oriented-Programming-(OOP)\" data-toc-modified-id=\"Object-Oriented-Programming-(OOP)-1\">Object-Oriented Programming (OOP)</a></span></li><li><span><a href=\"#OOP-Blueprint\" data-toc-modified-id=\"OOP-Blueprint-2\">OOP Blueprint</a></span></li><li><span><a href=\"#Learning-Outcomes\" data-toc-modified-id=\"Learning-Outcomes-3\">Learning Outcomes</a></span></li><li><span><a href=\"#Why-do-we-need-OOP?\" data-toc-modified-id=\"Why-do-we-need-OOP?-4\">Why do we need OOP?</a></span></li><li><span><a href=\"#You-have-already-been-doing-OOP\" data-toc-modified-id=\"You-have-already-been-doing-OOP-5\">You have already been doing OOP</a></span></li><li><span><a href=\"#Python-Class-Naming-Convention\" data-toc-modified-id=\"Python-Class-Naming-Convention-6\">Python Class Naming Convention</a></span></li><li><span><a href=\"#How-to-name-a-class\" data-toc-modified-id=\"How-to-name-a-class-7\">How to name a class</a></span></li><li><span><a href=\"#Using-existing-classes\" data-toc-modified-id=\"Using-existing-classes-8\">Using existing classes</a></span></li><li><span><a href=\"#A-class-is-“data-with-functions-attached&quot;\" data-toc-modified-id=\"A-class-is-“data-with-functions-attached&quot;-9\">A class is “data with functions attached\"</a></span></li><li><span><a href=\"#Class-vs.-instance\" data-toc-modified-id=\"Class-vs.-instance-10\">Class vs. instance</a></span></li><li><span><a href=\"#Defining-a-custom-class\" data-toc-modified-id=\"Defining-a-custom-class-11\">Defining a custom class</a></span></li><li><span><a href=\"#Let's-make-a-Dog-class\" data-toc-modified-id=\"Let's-make-a-Dog-class-12\">Let's make a Dog class</a></span></li><li><span><a href=\"#Brian's-Approach-to-Programming\" data-toc-modified-id=\"Brian's-Approach-to-Programming-13\">Brian's Approach to Programming</a></span></li><li><span><a href=\"#Let's-model-a-Dog\" data-toc-modified-id=\"Let's-model-a-Dog-14\">Let's model a Dog</a></span></li><li><span><a href=\"#Ask\" data-toc-modified-id=\"Ask-15\">Ask</a></span></li><li><span><a href=\"#Understand\" data-toc-modified-id=\"Understand-16\">Understand</a></span></li><li><span><a href=\"#Plan\" data-toc-modified-id=\"Plan-17\">Plan</a></span></li><li><span><a href=\"#Instantiation\" data-toc-modified-id=\"Instantiation-18\">Instantiation</a></span></li><li><span><a href=\"#self\" data-toc-modified-id=\"self-19\"><code>self</code></a></span></li><li><span><a href=\"#What-happens-if-I-forgot-self-in-init?\" data-toc-modified-id=\"What-happens-if-I-forgot-self-in-init?-20\">What happens if I forgot <code>self</code> in <strong>init</strong>?</a></span></li><li><span><a href=\"#Methods\" data-toc-modified-id=\"Methods-21\">Methods</a></span></li><li><span><a href=\"#What-happens-if-I-forgot-self-in-a-method?\" data-toc-modified-id=\"What-happens-if-I-forgot-self-in-a-method?-22\">What happens if I forgot <code>self</code> in a method?</a></span></li><li><span><a href=\"#Inheritance\" data-toc-modified-id=\"Inheritance-23\">Inheritance</a></span></li><li><span><a href=\"#Best-uses-of-OOP\" data-toc-modified-id=\"Best-uses-of-OOP-24\">Best uses of OOP</a></span></li><li><span><a href=\"#Limitations-of-OOP\" data-toc-modified-id=\"Limitations-of-OOP-25\">Limitations of OOP</a></span></li><li><span><a href=\"#Takeaways\" data-toc-modified-id=\"Takeaways-26\">Takeaways</a></span></li><li><span><a href=\"#Bonus-Material\" data-toc-modified-id=\"Bonus-Material-27\">Bonus Material</a></span></li><li><span><a href=\"#&quot;Everything*-in-Python-is-an-object&quot;\" data-toc-modified-id=\"&quot;Everything*-in-Python-is-an-object&quot;-28\">\"Everything<sup>*</sup> in Python is an object\"</a></span></li><li><span><a href=\"#Sources\" data-toc-modified-id=\"Sources-29\">Sources</a></span></li><li><span><a href=\"#How-many-responsibilities-should-a-class-have?\" data-toc-modified-id=\"How-many-responsibilities-should-a-class-have?-30\">How many responsibilities should a class have?</a></span></li><li><span><a href=\"#Can-a-class-have-multiple-inheritance?\" data-toc-modified-id=\"Can-a-class-have-multiple-inheritance?-31\">Can a class have multiple inheritance?</a></span></li><li><span><a href=\"#Further-Study\" data-toc-modified-id=\"Further-Study-32\">Further Study</a></span></li></ul></div>"
   ]
  },
  {
   "cell_type": "markdown",
   "metadata": {},
   "source": [
    "Object-Oriented Programming (OOP)\n",
    "-----\n",
    "\n"
   ]
  },
  {
   "cell_type": "markdown",
   "metadata": {},
   "source": [
    "<center><img src=\"../images/cabin.png\" width=\"75%\"/></center>\n",
    "\n",
    "My family owns a cabin in the mountains which was built by my father-in-law and his father from a kit. \n",
    "\n",
    "They started with a template for \"A Cabin\" (a class)\n",
    "\n",
    "\n",
    "They created a specific one called \"The Truckee Cabin\" (an instance)."
   ]
  },
  {
   "cell_type": "markdown",
   "metadata": {},
   "source": [
    "OOP Blueprint\n",
    "-----\n",
    "\n",
    "First, define a general category with nouns and verbs.\n",
    "\n",
    "Then, define many specific examples.\n"
   ]
  },
  {
   "cell_type": "markdown",
   "metadata": {},
   "source": [
    "<center><h2>Learning Outcomes</h2></center>\n",
    "\n",
    "__By the end of this session, you should be able to__:\n",
    "\n",
    "- Use classes already created for you.\n",
    "- Create your own classes with the `class` \n",
    "- Be able to inherit from existing classes.\n",
    "- Define fundamental OOP concepts and terms in your own words."
   ]
  },
  {
   "cell_type": "markdown",
   "metadata": {},
   "source": [
    "Why do we need OOP?\n",
    "----\n",
    "\n",
    "OOP is a common framework and language to build medium-scale software.\n",
    "\n",
    "It helps people reuse code. One person can create a class, many others can use that class.\n",
    "\n",
    "In particular, Data Scientists need to know the basics of OOP to use `scikit-learn`, the most common machine learning library in Python."
   ]
  },
  {
   "cell_type": "markdown",
   "metadata": {},
   "source": [
    "You have already been doing OOP\n",
    "-----"
   ]
  },
  {
   "cell_type": "code",
   "execution_count": 9,
   "metadata": {},
   "outputs": [],
   "source": [
    "reset -fs"
   ]
  },
  {
   "cell_type": "code",
   "execution_count": 10,
   "metadata": {},
   "outputs": [],
   "source": [
    "from collections import Counter"
   ]
  },
  {
   "cell_type": "code",
   "execution_count": 11,
   "metadata": {},
   "outputs": [],
   "source": [
    "from pathlib import Path"
   ]
  },
  {
   "cell_type": "markdown",
   "metadata": {},
   "source": [
    "Python Class Naming Convention\n",
    "------\n",
    "\n",
    "Typically, Python class names will be in camel case 🐫.\n",
    "\n",
    "Camel case is where there are no spaces between words and the first letter of each word is upper case.\n",
    "\n",
    "```python\n",
    "from collections import Counter\n",
    "\n",
    "from sklearn.linear_model import LinearRegression\n",
    "\n",
    "from sklearn.linear_model import MultiTaskLasso\n",
    "```\n",
    "\n",
    "\n",
    "How to name a class\n",
    "-------\n",
    "\n",
    "Single categorical noun. Hopefully as concrete as possible.\n",
    "\n",
    "`User`\n",
    "\n",
    "`Employee`\n",
    "\n",
    "`TrainingData`"
   ]
  },
  {
   "cell_type": "markdown",
   "metadata": {},
   "source": [
    "\n",
    "Using existing classes\n",
    "-----\n",
    "\n",
    "Most of the time when you'll be using existing classes, either Standard Library, 3rd party, or ones created for a specific project.\n",
    "\n",
    "You must create an instance, an instance is specific example of a general class."
   ]
  },
  {
   "cell_type": "code",
   "execution_count": 12,
   "metadata": {},
   "outputs": [
    {
     "data": {
      "text/plain": [
       "Counter()"
      ]
     },
     "execution_count": 12,
     "metadata": {},
     "output_type": "execute_result"
    }
   ],
   "source": [
    "c = Counter() # Counter is the class\n",
    "c             # c is the instance"
   ]
  },
  {
   "cell_type": "markdown",
   "metadata": {},
   "source": [
    "Often you'll pass in an arugment to the class"
   ]
  },
  {
   "cell_type": "code",
   "execution_count": 14,
   "metadata": {},
   "outputs": [
    {
     "data": {
      "text/plain": [
       "Counter({'L': 1, 'a': 2, 'm': 1, 'b': 1, 'd': 1})"
      ]
     },
     "execution_count": 14,
     "metadata": {},
     "output_type": "execute_result"
    }
   ],
   "source": [
    "counter_lambda = Counter('Lambda')\n",
    "counter_lambda"
   ]
  },
  {
   "cell_type": "markdown",
   "metadata": {},
   "source": [
    "A class is “data with functions attached\"\n",
    "-----\n",
    "\n",
    "In the abstract, a data structure is just data (nouns).  \n",
    "In the abstract, a function is just operations (verbs). \n",
    "\n",
    "Use only data structures when there is only data.   \n",
    "Use only functions when there is only operations.\n",
    "\n",
    "Sometimes the problem will be best solved with data and operations together. Classes are best used when there is both data and operations."
   ]
  },
  {
   "cell_type": "code",
   "execution_count": 15,
   "metadata": {},
   "outputs": [
    {
     "data": {
      "text/plain": [
       "Counter({'L': 1, 'a': 2, 'm': 1, 'b': 1, 'd': 1})"
      ]
     },
     "execution_count": 15,
     "metadata": {},
     "output_type": "execute_result"
    }
   ],
   "source": [
    "# Data\n",
    "counter_lambda"
   ]
  },
  {
   "cell_type": "code",
   "execution_count": 16,
   "metadata": {},
   "outputs": [
    {
     "data": {
      "text/plain": [
       "[('a', 2)]"
      ]
     },
     "execution_count": 16,
     "metadata": {},
     "output_type": "execute_result"
    }
   ],
   "source": [
    "# Functions (methods) attached to the data\n",
    "counter_lambda.most_common(n=1)"
   ]
  },
  {
   "cell_type": "markdown",
   "metadata": {},
   "source": [
    "Class vs. instance\n",
    "------\n",
    "\n",
    "A class:\n",
    "\n",
    "-  A abstract template to make things.\n",
    "- Could be in Python (e.g., `float` or `collections.Counter`) or user-defined\n",
    "- Has general definitions for :\n",
    "    -   Attributes (data fields)\n",
    "    -   Methods (operations you can perform on the object)\n",
    "\n",
    "An instance:\n",
    "\n",
    "- A specific, concrete example of a class.\n",
    "- Attributes have item specific values.\n",
    "- Methods do item specific actions. "
   ]
  },
  {
   "cell_type": "markdown",
   "metadata": {},
   "source": [
    "Defining a custom class\n",
    "----\n",
    "\n",
    "Sometimes you'll want to make your own custom class.\n",
    "\n",
    "We could spend a week or two on the subject. I'm just quick start guide."
   ]
  },
  {
   "cell_type": "markdown",
   "metadata": {},
   "source": [
    "Let's make a Dog class\n",
    "----\n",
    "\n",
    "1. Apply problem solving method.\n",
    "1. Create a class.\n",
    "1. Define instances."
   ]
  },
  {
   "cell_type": "markdown",
   "metadata": {},
   "source": [
    "<center><h2>Brian's Approach to Programming</h2></center>\n",
    "\n",
    "A-UPS-CI:\n",
    "\n",
    "1. Ask\n",
    "1. Understand\n",
    "1. Plan\n",
    "1. Solve \n",
    "1. Confirm\n",
    "1. Improve"
   ]
  },
  {
   "cell_type": "markdown",
   "metadata": {},
   "source": [
    "Let's model a Dog\n",
    "-----"
   ]
  },
  {
   "cell_type": "markdown",
   "metadata": {},
   "source": [
    "Ask\n",
    "-----\n",
    "\n",
    "What are the nouns?\n",
    "\n",
    "What are the verbs?"
   ]
  },
  {
   "cell_type": "markdown",
   "metadata": {},
   "source": [
    "Understand\n",
    "-----\n",
    "\n",
    "How much of a dog do we want to simulation?"
   ]
  },
  {
   "cell_type": "markdown",
   "metadata": {},
   "source": [
    "Plan\n",
    "-----\n",
    "\n",
    "\"Wishful\" programming - What would be nice to have (without worrying about implementation)?\n",
    "\n",
    "What kind of porcelain do we want?\n",
    "\n",
    "\n",
    "The nouns of the category become the attributes of the class.  \n",
    "The verbs of the category becomes the methods of the class. \n",
    "\n",
    "Give that Python is dynamic we don't need a complete plan."
   ]
  },
  {
   "cell_type": "code",
   "execution_count": 17,
   "metadata": {},
   "outputs": [],
   "source": [
    "class Dog:\n",
    "    \"Simulate the best parts of a real canine.\"\n",
    "    \n",
    "    def __init__(self, name, breed, birth_year):\n",
    "        self.name = name             # Most dogs have names\n",
    "        self.breed = breed           # Most dogs are identified by breed\n",
    "        self.birth_year = birth_year # Birth year is absolute; Age is relative; It is best practice to plan for your code to be around for little while. "
   ]
  },
  {
   "cell_type": "markdown",
   "metadata": {},
   "source": [
    "Instantiation\n",
    "----\n",
    "\n",
    "Instantiation is the process of creating instances from classes.\n",
    "\n",
    "`def __init__` is how that happens in Python.\n",
    "\n",
    "__init__ is short for initialize.\n",
    "\n",
    "`def __init__` is the __constructor__ that makes guarantees during initialization. Every instance of this class will have these attributes by default."
   ]
  },
  {
   "cell_type": "markdown",
   "metadata": {},
   "source": [
    "`self`\n",
    "------\n",
    "\n",
    "`self` refers to the specific instance (think of it as \"this particular one\")\n",
    "\n",
    "Use self.data to access class’s data member.\n",
    "\n",
    "`self` is kinda silly but I'll show you a trick later."
   ]
  },
  {
   "cell_type": "code",
   "execution_count": 18,
   "metadata": {},
   "outputs": [],
   "source": [
    "my_dog = Dog(name=\"Lambda\",\n",
    "            breed=\"Big Mutt\",\n",
    "            birth_year=2016)"
   ]
  },
  {
   "cell_type": "code",
   "execution_count": 19,
   "metadata": {},
   "outputs": [],
   "source": [
    "# my_dog.<tab>"
   ]
  },
  {
   "cell_type": "markdown",
   "metadata": {},
   "source": [
    "Let's teach the dog its first trick - speak"
   ]
  },
  {
   "cell_type": "markdown",
   "metadata": {},
   "source": [
    "What happens if I forgot `self` in __init__?\n",
    "-----\n",
    "\n",
    "A strange `TypeError`"
   ]
  },
  {
   "cell_type": "code",
   "execution_count": 17,
   "metadata": {},
   "outputs": [],
   "source": [
    "class Dog:\n",
    "    \"Simulate the best parts of a real canine.\"\n",
    "    \n",
    "    def __init__(name, breed, birth_year):\n",
    "        self.name = name             \n",
    "        self.breed = breed           \n",
    "        self.birth_year = birth_year"
   ]
  },
  {
   "cell_type": "code",
   "execution_count": 18,
   "metadata": {},
   "outputs": [
    {
     "ename": "TypeError",
     "evalue": "__init__() got multiple values for argument 'name'",
     "output_type": "error",
     "traceback": [
      "\u001b[0;31m---------------------------------------------------------------------------\u001b[0m",
      "\u001b[0;31mTypeError\u001b[0m                                 Traceback (most recent call last)",
      "\u001b[0;32m<ipython-input-18-1683c6548741>\u001b[0m in \u001b[0;36m<module>\u001b[0;34m\u001b[0m\n\u001b[0;32m----> 1\u001b[0;31m my_dog = Dog(name=\"Lambda\",\n\u001b[0m\u001b[1;32m      2\u001b[0m             \u001b[0mbreed\u001b[0m\u001b[0;34m=\u001b[0m\u001b[0;34m\"Big Mutt\"\u001b[0m\u001b[0;34m,\u001b[0m\u001b[0;34m\u001b[0m\u001b[0;34m\u001b[0m\u001b[0m\n\u001b[1;32m      3\u001b[0m             birth_year=2016)\n",
      "\u001b[0;31mTypeError\u001b[0m: __init__() got multiple values for argument 'name'"
     ]
    }
   ],
   "source": [
    "my_dog = Dog(name=\"Lambda\",\n",
    "            breed=\"Big Mutt\",\n",
    "            birth_year=2016)"
   ]
  },
  {
   "cell_type": "markdown",
   "metadata": {},
   "source": [
    "Methods\n",
    "-----\n",
    "\n",
    "Methods look like a regular function with an extra argument `self`.\n",
    "\n",
    "`self` refers to the instance that the method is operating on.\n",
    "\n",
    "Otherwise, write like a regular function\n"
   ]
  },
  {
   "cell_type": "code",
   "execution_count": 22,
   "metadata": {},
   "outputs": [],
   "source": [
    "class Dog:\n",
    "    \"Simulate a the best parts of a real canine.\"\n",
    "    \n",
    "    def __init__(self, name, breed, birth_year):\n",
    "        self.name = name\n",
    "        self.breed = breed\n",
    "        self.birth_year = birth_year\n",
    "        self.tricks = set()\n",
    "\n",
    "    def speak(self, n_times=1): \n",
    "        \"What does a dog say?\"\n",
    "        for _ in range(n_times):       \n",
    "            print(\"Whoof!\")"
   ]
  },
  {
   "cell_type": "code",
   "execution_count": 23,
   "metadata": {},
   "outputs": [
    {
     "name": "stdout",
     "output_type": "stream",
     "text": [
      "Whoof!\n"
     ]
    }
   ],
   "source": [
    "my_dog = Dog(name=\"Lambda\",\n",
    "            breed=\"Big Mutt\",\n",
    "            birth_year=2016)\n",
    "\n",
    "my_dog.speak()"
   ]
  },
  {
   "cell_type": "markdown",
   "metadata": {},
   "source": [
    "What happens if I forgot `self` in a method?\n",
    "-----\n",
    "\n",
    "A strange `TypeError`"
   ]
  },
  {
   "cell_type": "code",
   "execution_count": 25,
   "metadata": {},
   "outputs": [],
   "source": [
    "class Dog:\n",
    "    \"Simulate a the best parts of a real canine.\"\n",
    "    \n",
    "    def __init__(self, name, breed, birth_year):\n",
    "        self.name = name\n",
    "        self.breed = breed\n",
    "        self.birth_year = birth_year\n",
    "        self.tricks = set()\n",
    "\n",
    "    def speak(n_times=1): \n",
    "        \"What does a dog say?\"\n",
    "        for _ in range(n_times):       \n",
    "            print(\"Whoof!\")"
   ]
  },
  {
   "cell_type": "code",
   "execution_count": 26,
   "metadata": {},
   "outputs": [
    {
     "ename": "TypeError",
     "evalue": "'Dog' object cannot be interpreted as an integer",
     "output_type": "error",
     "traceback": [
      "\u001b[0;31m---------------------------------------------------------------------------\u001b[0m",
      "\u001b[0;31mTypeError\u001b[0m                                 Traceback (most recent call last)",
      "\u001b[0;32m<ipython-input-26-4c860561e4b6>\u001b[0m in \u001b[0;36m<module>\u001b[0;34m\u001b[0m\n\u001b[1;32m      3\u001b[0m             birth_year=2016)\n\u001b[1;32m      4\u001b[0m \u001b[0;34m\u001b[0m\u001b[0m\n\u001b[0;32m----> 5\u001b[0;31m \u001b[0mmy_dog\u001b[0m\u001b[0;34m.\u001b[0m\u001b[0mspeak\u001b[0m\u001b[0;34m(\u001b[0m\u001b[0;34m)\u001b[0m\u001b[0;34m\u001b[0m\u001b[0;34m\u001b[0m\u001b[0m\n\u001b[0m",
      "\u001b[0;32m<ipython-input-25-4d27cebe928c>\u001b[0m in \u001b[0;36mspeak\u001b[0;34m(n_times)\u001b[0m\n\u001b[1;32m     10\u001b[0m     \u001b[0;32mdef\u001b[0m \u001b[0mspeak\u001b[0m\u001b[0;34m(\u001b[0m\u001b[0mn_times\u001b[0m\u001b[0;34m=\u001b[0m\u001b[0;36m1\u001b[0m\u001b[0;34m)\u001b[0m\u001b[0;34m:\u001b[0m\u001b[0;34m\u001b[0m\u001b[0;34m\u001b[0m\u001b[0m\n\u001b[1;32m     11\u001b[0m         \u001b[0;34m\"What does a dog say?\"\u001b[0m\u001b[0;34m\u001b[0m\u001b[0;34m\u001b[0m\u001b[0m\n\u001b[0;32m---> 12\u001b[0;31m         \u001b[0;32mfor\u001b[0m \u001b[0m_\u001b[0m \u001b[0;32min\u001b[0m \u001b[0mrange\u001b[0m\u001b[0;34m(\u001b[0m\u001b[0mn_times\u001b[0m\u001b[0;34m)\u001b[0m\u001b[0;34m:\u001b[0m\u001b[0;34m\u001b[0m\u001b[0;34m\u001b[0m\u001b[0m\n\u001b[0m\u001b[1;32m     13\u001b[0m             \u001b[0mprint\u001b[0m\u001b[0;34m(\u001b[0m\u001b[0;34m\"Whoof!\"\u001b[0m\u001b[0;34m)\u001b[0m\u001b[0;34m\u001b[0m\u001b[0;34m\u001b[0m\u001b[0m\n",
      "\u001b[0;31mTypeError\u001b[0m: 'Dog' object cannot be interpreted as an integer"
     ]
    }
   ],
   "source": [
    "my_dog = Dog(name=\"Lambda\",\n",
    "            breed=\"Big Mutt\",\n",
    "            birth_year=2016)\n",
    "\n",
    "my_dog.speak()"
   ]
  },
  {
   "cell_type": "markdown",
   "metadata": {},
   "source": [
    "Let's teach the dog how to do a bunch of tricks."
   ]
  },
  {
   "cell_type": "code",
   "execution_count": 27,
   "metadata": {},
   "outputs": [],
   "source": [
    "from random import choice\n",
    "\n",
    "class Dog:\n",
    "    \"Simulate a the best parts of a real canine.\"\n",
    "    \n",
    "    def __init__(self, name, breed, birth_year):\n",
    "        self.name = name\n",
    "        self.breed = breed\n",
    "        self.birth_year = birth_year\n",
    "        self.tricks = set()\n",
    "\n",
    "    def speak(self, n_times=1): \n",
    "        \"What does a dog say?\"\n",
    "        for _ in range(n_times):       \n",
    "            print(\"Whoof!\")\n",
    "\n",
    "    def learn_trick(self, trick):\n",
    "        \"Easy to teach a digital dog new tricks.\"\n",
    "        self.tricks.add(trick)\n",
    "\n",
    "    def do_a_trick(self):\n",
    "        \"Pick something from repertoire.\"\n",
    "        return choice(tuple(self.tricks))"
   ]
  },
  {
   "cell_type": "code",
   "execution_count": 22,
   "metadata": {},
   "outputs": [],
   "source": [
    "my_dog = Dog(name='Lambda',\n",
    "            breed='big mutt',\n",
    "            birth_year='2016')"
   ]
  },
  {
   "cell_type": "code",
   "execution_count": 23,
   "metadata": {},
   "outputs": [
    {
     "name": "stdout",
     "output_type": "stream",
     "text": [
      "Help on Dog in module __main__ object:\n",
      "\n",
      "class Dog(builtins.object)\n",
      " |  Dog(name, breed, birth_year)\n",
      " |  \n",
      " |  Simulate a the best parts of a real canine.\n",
      " |  \n",
      " |  Methods defined here:\n",
      " |  \n",
      " |  __init__(self, name, breed, birth_year)\n",
      " |      Initialize self.  See help(type(self)) for accurate signature.\n",
      " |  \n",
      " |  do_a_trick(self)\n",
      " |      Pick something from repertoire.\n",
      " |  \n",
      " |  learn_trick(self, trick)\n",
      " |      Easy to teach a digital dog new tricks.\n",
      " |  \n",
      " |  speak(self, n_times=1)\n",
      " |      What does a dog say?\n",
      " |  \n",
      " |  ----------------------------------------------------------------------\n",
      " |  Data descriptors defined here:\n",
      " |  \n",
      " |  __dict__\n",
      " |      dictionary for instance variables (if defined)\n",
      " |  \n",
      " |  __weakref__\n",
      " |      list of weak references to the object (if defined)\n",
      "\n"
     ]
    }
   ],
   "source": [
    "help(my_dog)"
   ]
  },
  {
   "cell_type": "code",
   "execution_count": 24,
   "metadata": {},
   "outputs": [
    {
     "name": "stdout",
     "output_type": "stream",
     "text": [
      "Whoof!\n",
      "Whoof!\n",
      "Whoof!\n",
      "Whoof!\n",
      "Whoof!\n"
     ]
    }
   ],
   "source": [
    "# Speak for me\n",
    "my_dog.speak()\n",
    "my_dog.speak(n_times=4)"
   ]
  },
  {
   "cell_type": "code",
   "execution_count": 25,
   "metadata": {},
   "outputs": [],
   "source": [
    "# Learn tricks\n",
    "my_dog.learn_trick('sit')\n",
    "my_dog.learn_trick('down')\n",
    "my_dog.learn_trick('come')\n",
    "my_dog.learn_trick('roll over')\n",
    "my_dog.learn_trick('play dead')"
   ]
  },
  {
   "cell_type": "code",
   "execution_count": 26,
   "metadata": {},
   "outputs": [
    {
     "data": {
      "text/plain": [
       "{'come', 'down', 'play dead', 'roll over', 'sit'}"
      ]
     },
     "execution_count": 26,
     "metadata": {},
     "output_type": "execute_result"
    }
   ],
   "source": [
    "# What tricks are available?\n",
    "my_dog.tricks"
   ]
  },
  {
   "cell_type": "code",
   "execution_count": 27,
   "metadata": {},
   "outputs": [
    {
     "data": {
      "text/plain": [
       "'down'"
      ]
     },
     "execution_count": 27,
     "metadata": {},
     "output_type": "execute_result"
    }
   ],
   "source": [
    "# Do a trick\n",
    "my_dog.do_a_trick()"
   ]
  },
  {
   "cell_type": "markdown",
   "metadata": {},
   "source": [
    "Inheritance\n",
    "-----\n",
    "\n",
    "Inheritance allows a newly defined `class` to have all the features of existing class.\n",
    "\n",
    "Our mantra = \"Let Python (or others) do the work!\"\n",
    "\n",
    "We'll doing all by extending `scikit-learn` classes later."
   ]
  },
  {
   "cell_type": "code",
   "execution_count": 10,
   "metadata": {},
   "outputs": [],
   "source": [
    "from collections import Counter"
   ]
  },
  {
   "cell_type": "code",
   "execution_count": 11,
   "metadata": {},
   "outputs": [],
   "source": [
    "class PMF(Counter):\n",
    "    \"A Counter with probabilities.\"\n",
    "\n",
    "    def normalize(self):\n",
    "        \"Normalizes the PMF so the probabilities add to 1.\"\n",
    "        total = sum(self.values())\n",
    "        for key in self:\n",
    "            self[key] /= total\n",
    "    "
   ]
  },
  {
   "cell_type": "code",
   "execution_count": 12,
   "metadata": {},
   "outputs": [
    {
     "data": {
      "text/plain": [
       "PMF({'a': 0.45454545454545453,\n",
       "     'b': 0.18181818181818182,\n",
       "     'r': 0.18181818181818182,\n",
       "     'c': 0.09090909090909091,\n",
       "     'd': 0.09090909090909091})"
      ]
     },
     "execution_count": 12,
     "metadata": {},
     "output_type": "execute_result"
    }
   ],
   "source": [
    "pmf = PMF(\"abracadabra\")\n",
    "\n",
    "pmf.normalize()\n",
    "pmf"
   ]
  },
  {
   "cell_type": "markdown",
   "metadata": {},
   "source": [
    "[Source](https://www.dataquest.io/blog/python-counter-class/)"
   ]
  },
  {
   "cell_type": "markdown",
   "metadata": {},
   "source": [
    "Best uses of OOP\n",
    "------\n",
    "\n",
    "Object-oriented programming (OOP) a good design choice when there is a large number of related data abstractions organized in a hierarchy.\n",
    "\n",
    "For example, types of animals in a zoo or employees in company (IMHO - very similar).\n",
    "\n",
    "Then you define a base case (aka, a simple common ancestor) and all other items in the  hierarchy inherit from it.\n",
    "\n",
    "For example, `scikit-learn` defines the common attributes and methods of all machine learning algorithms. Each type of algorithm is a variation of that common template. This design patterns allows for consistent user interface and composability. A walk through is [here](https://scikit-learn.org/stable/developers/develop.html)."
   ]
  },
  {
   "cell_type": "markdown",
   "metadata": {},
   "source": [
    "Limitations of OOP\n",
    "-----\n",
    "\n",
    "1. Too soon - Simple code should be simple, just use data structures and functions if you can.\n",
    "1. Too big - Large complex, distributed systems are difficult to build with OOP. Objects depend on state, each instance has attributes with values. State is very difficult to manage in large, distributed systems. It is better to be stateless, use REST(ful) API and microservices."
   ]
  },
  {
   "cell_type": "markdown",
   "metadata": {},
   "source": [
    "<center><h2>Takeaways</h2></center>\n",
    "\n",
    "- OO programming paradigm works well when we want to model and simulate the to the real world with a computer. \n",
    "- Classes are collections of related nouns (attributes) and verbs (methods).\n",
    "\n",
    "- Specific examples of the categories are instances.\n",
    "- Define classes with `__init___`.\n",
    "- Do __not__ forgot to add `self` to every method in a class definition.\n",
    "\n",
    "\n"
   ]
  },
  {
   "cell_type": "markdown",
   "metadata": {},
   "source": [
    " "
   ]
  },
  {
   "cell_type": "markdown",
   "metadata": {},
   "source": [
    "Bonus Material\n",
    "----"
   ]
  },
  {
   "cell_type": "markdown",
   "metadata": {},
   "source": [
    "\"Everything<sup>*</sup> in Python is an object\"\n",
    "-----\n",
    "\n",
    "Python is a little different there is no such thing as pure data structure. Everything is object so everything can have attributes and methods.\n",
    "\n",
    "> Different programming languages define “object” in different ways. \n",
    "\n",
    "> In some, it means that all objects must have attributes and methods; in others, it means that all objects are subclassable. \n",
    "\n",
    "> In Python, the definition is looser; some objects have neither attributes nor methods (more on this in Chapter 3), and not all objects are subclassable (more on this in Chapter 5). But everything is an object in the sense that it can be assigned to a variable or passed as an argument to a function (more in this in Chapter 4).\n",
    "\n",
    "\\* For example, `if` is not an object in Python"
   ]
  },
  {
   "cell_type": "markdown",
   "metadata": {},
   "source": [
    "Sources\n",
    "-----\n",
    "\n",
    "- http://www.ruby-lang.org/en/documentation/ruby-from-other-languages/to-ruby-from-python/\n",
    "- https://stackoverflow.com/questions/865911/is-everything-an-object-in-python-like-ruby\n"
   ]
  },
  {
   "cell_type": "markdown",
   "metadata": {},
   "source": [
    "How many responsibilities should a class have?\n",
    "-----\n",
    "\n",
    "Only a single one.\n",
    "\n",
    "Don't make a `OpenFetchWriteData` class. That might seem simple now. But your future-self will hate you.\n",
    "\n",
    "```python\n",
    "class ConnectDatabase …\n",
    "\n",
    "class FetchData …\n",
    "\n",
    "class WriteData …\n",
    "```\n",
    "\n",
    "It is called \"ball of mud\" programming when classes do too much."
   ]
  },
  {
   "cell_type": "markdown",
   "metadata": {},
   "source": [
    "Can a class have multiple inheritance?\n",
    "-----\n",
    "\n",
    "Yes - A subclass can have two parents. However, in most Data Science cases it is not a good idea.\n",
    "\n",
    "Multiple inheritance can often cause conflicts during __init__."
   ]
  },
  {
   "cell_type": "markdown",
   "metadata": {},
   "source": [
    "Further Study\n",
    "------\n",
    "\n",
    "- [OOP from PyCon](https://www.youtube.com/watch?v=mUu_4k6a5-I)                                              \n",
    "- https://stackabuse.com/object-oriented-programming-in-python/\n",
    "- https://towardsdatascience.com/a-data-scientist-should-know-at-least-this-much-python-oop-d63f37eaac4d\n"
   ]
  },
  {
   "cell_type": "markdown",
   "metadata": {},
   "source": [
    " "
   ]
  }
 ],
 "metadata": {
  "kernelspec": {
   "display_name": "Python 3",
   "language": "python",
   "name": "python3"
  },
  "language_info": {
   "codemirror_mode": {
    "name": "ipython",
    "version": 3
   },
   "file_extension": ".py",
   "mimetype": "text/x-python",
   "name": "python",
   "nbconvert_exporter": "python",
   "pygments_lexer": "ipython3",
   "version": "3.8.3"
  },
  "toc": {
   "base_numbering": 1,
   "nav_menu": {},
   "number_sections": false,
   "sideBar": false,
   "skip_h1_title": false,
   "title_cell": "Table of Contents",
   "title_sidebar": "Contents",
   "toc_cell": true,
   "toc_position": {},
   "toc_section_display": true,
   "toc_window_display": false
  }
 },
 "nbformat": 4,
 "nbformat_minor": 2
}
