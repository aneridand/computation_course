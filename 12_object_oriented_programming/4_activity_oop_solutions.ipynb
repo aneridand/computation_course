{
 "cells": [
  {
   "cell_type": "markdown",
   "metadata": {
    "nbgrader": {
     "grade": false,
     "grade_id": "cell-f49b8ea35a2dabd9",
     "locked": true,
     "schema_version": 1,
     "solution": false
    },
    "toc": true
   },
   "source": [
    "<h1>Table of Contents<span class=\"tocSkip\"></span></h1>\n",
    "<div class=\"toc\"><ul class=\"toc-item\"><li><span><a href=\"#Instructions\" data-toc-modified-id=\"Instructions-1\">Instructions</a></span></li><li><span><a href=\"#Define-a-new-class\" data-toc-modified-id=\"Define-a-new-class-2\">Define a new class</a></span></li><li><span><a href=\"#Create-a-namedtuple-for-data-modeling\" data-toc-modified-id=\"Create-a-namedtuple-for-data-modeling-3\">Create a <code>namedtuple</code> for data modeling</a></span></li><li><span><a href=\"#Make-a-dataclass--for-server-log-data\" data-toc-modified-id=\"Make-a-dataclass--for-server-log-data-4\">Make a <code>dataclass</code>  for server log data</a></span></li><li><span><a href=\"#Extend-list-class\" data-toc-modified-id=\"Extend-list-class-5\">Extend <code>list</code> class</a></span></li></ul></div>"
   ]
  },
  {
   "cell_type": "markdown",
   "metadata": {},
   "source": [
    "Instructions\n",
    "--------\n",
    "\n",
    "- __First thing__ - Change the name of this file to avoid a [merge conflict](https://docs.github.com/en/github/getting-started-with-github/github-glossary#merge-conflict) with GitHub.\n",
    "- You should type every character for the following activities. \n",
    "- Work together with your peers in the same shared code environment. The following environments allow the importation of Jupyter Notebook from GitHub urls:\n",
    "    - [Google Colab](https://colab.research.google.com)\n",
    "    - [Deepnote](https://deepnote.com/)\n",
    "- These activities are not graded.\n",
    "- They are open resource - feel free to reference documentation, books, videos, and any other resource.\n",
    "- Attempt each problem. If stuck, move onto next one and come back to a difficult problem.\n",
    "- During class:\n",
    "    - Brian will bounce between breakout rooms. Feel free to ask questions or just ignore him.\n",
    "    - After your group has finished, leave your breakout room and return to the main room."
   ]
  },
  {
   "cell_type": "code",
   "execution_count": 69,
   "metadata": {
    "nbgrader": {
     "grade": false,
     "grade_id": "cell-a0410474f2612710",
     "locked": false,
     "schema_version": 1,
     "solution": true
    }
   },
   "outputs": [],
   "source": [
    "reset -fs"
   ]
  },
  {
   "cell_type": "markdown",
   "metadata": {},
   "source": [
    "Define a new class\n",
    "------\n",
    "\n",
    "Make a new class called `Cryptocurrency`\n",
    "\n",
    "`Cryptocurrency` will have the following attributes:\n",
    "\n",
    "- `ico` - Initial Coin Offering\n",
    "- `symbol` - An emoji to represent the coin for easy tagging on Instagram\n",
    "- `protocol` - The software definition of the network\n",
    "\n",
    "`Cryptocurrency` will have the following method:\n",
    "\n",
    "- `check_validity` - Given a block, if the block is FizzBuzzy then the block is valid."
   ]
  },
  {
   "cell_type": "code",
   "execution_count": 70,
   "metadata": {},
   "outputs": [],
   "source": [
    "# Solutions\n",
    "\n",
    "class Cryptocurrency:\n",
    "    \"Model a digitial asset.\"\n",
    "    \n",
    "    def __init__(self, ico:int, symbol:str, protocol:str):\n",
    "        self.ico      = ico\n",
    "        self.symbol   = symbol\n",
    "        self.protocol = protocol\n",
    "        \n",
    "    def check_validity(self, block: int):\n",
    "        \"Valid if block is modulo 15\"\n",
    "        return block % 15 == 0 "
   ]
  },
  {
   "cell_type": "code",
   "execution_count": 71,
   "metadata": {},
   "outputs": [],
   "source": [
    "# Tests for Cryptocurrency\n",
    "\n",
    "msds_coin = Cryptocurrency(ico=10_000_000,\n",
    "                           symbol=\"💰\",\n",
    "                           protocol=\"ethereum\")\n",
    "\n",
    "assert msds_coin.check_validity(block=15) \n",
    "assert not msds_coin.check_validity(block=3)\n",
    "assert not msds_coin.check_validity(block=5)\n",
    "assert not msds_coin.check_validity(block=14) \n",
    "assert not msds_coin.check_validity(block=16) "
   ]
  },
  {
   "cell_type": "markdown",
   "metadata": {},
   "source": [
    "Create a `namedtuple` for data modeling\n",
    "----\n",
    "\n",
    "Imagine you are working for an on-demand car service and need to model pickups.\n",
    "\n",
    "1. Import `namedtuple` \n",
    "1. Create a `namedtuple` to model pick-ups with following attributes\n",
    "    - driver_id\n",
    "    - requester_id\n",
    "    - latitude\n",
    "    - longitude\n",
    "    - datestamp"
   ]
  },
  {
   "cell_type": "code",
   "execution_count": 72,
   "metadata": {},
   "outputs": [],
   "source": [
    "# Solutions\n",
    "from collections import namedtuple\n",
    "\n",
    "Pickup = namedtuple('Pickup', ['driver_id', 'requester_id', 'datestamp', 'latitude', 'longitude'])"
   ]
  },
  {
   "cell_type": "code",
   "execution_count": 73,
   "metadata": {},
   "outputs": [
    {
     "name": "stdout",
     "output_type": "stream",
     "text": [
      "Successfully immutable\n"
     ]
    }
   ],
   "source": [
    "# Test namedtuple\n",
    "\n",
    "pickup = Pickup(driver_id=33716002811,\n",
    "                requester_id=3185567453,\n",
    "                datestamp='01/Aug/2020:13:02:57 -0800',\n",
    "                latitude=37.773972,\n",
    "                longitude=-122.431297)\n",
    "\n",
    "assert pickup[0] == 33716002811\n",
    "assert {a for a in dir(pickup) if not a.startswith(\"_\")} =={'count', 'datestamp', 'driver_id', 'index', 'latitude', 'longitude', 'requester_id'}\n",
    "try:\n",
    "    pickup.driver_id = 1\n",
    "except AttributeError:\n",
    "    print(\"Successfully immutable\")"
   ]
  },
  {
   "cell_type": "markdown",
   "metadata": {
    "nbgrader": {
     "grade": false,
     "grade_id": "cell-59bab6291ead48e1",
     "locked": true,
     "schema_version": 1,
     "solution": false
    }
   },
   "source": [
    "Make a `dataclass`  for server log data\n",
    "------\n",
    "\n",
    "Server log files are a raw, unfiltered look at the traffic to a website. They are the text files stored on a webserver. Every time anything (mostly browsers) request anything (mostly urls) from your server, the server adds a line in the log. The logs also store the errors and the attacks on a webserver.\n",
    "\n",
    "[Apache](https://httpd.apache.org/) is one of the most common software systems to run HTTP servers.\n",
    "\n",
    "Examples of real Apache web server logs are [here](http://www.monitorware.com/en/logsamples/apache.php).\n",
    "\n",
    "1. Import `dataclass` \n",
    "2. Define a `dataclass` called `ApacheLog` with following attributes:\n",
    "    - ip\n",
    "    - datestamp\n",
    "    - status_code\n",
    "3. For each attribute, pick the most appropriate type annotations from built-in types."
   ]
  },
  {
   "cell_type": "code",
   "execution_count": 74,
   "metadata": {
    "nbgrader": {
     "grade": false,
     "grade_id": "cell-d20f2c6bd85416c4",
     "locked": false,
     "schema_version": 1,
     "solution": true
    }
   },
   "outputs": [],
   "source": [
    "# Solutions\n",
    "\n",
    "from dataclasses import dataclass\n",
    "\n",
    "@dataclass\n",
    "class ApacheLog:\n",
    "    \"Model an Apache Server Log\"\n",
    "    \n",
    "    ip: str\n",
    "    datestamp: str\n",
    "    status_code: int\n"
   ]
  },
  {
   "cell_type": "code",
   "execution_count": 75,
   "metadata": {
    "nbgrader": {
     "grade": true,
     "grade_id": "cell-f967452b7b148e5e",
     "locked": true,
     "points": 1,
     "schema_version": 1,
     "solution": false
    }
   },
   "outputs": [],
   "source": [
    "# Test the dataclass was created correctly\n",
    "\n",
    "al = ApacheLog(ip='192.168.0.1',\n",
    "              datestamp='07/Mar/2020:16:05:49 -0800',\n",
    "              status_code=200,\n",
    "              )\n",
    "\n",
    "assert isinstance(al, ApacheLog)\n",
    "assert '__dataclass_fields__' in dir(al)\n",
    "assert {a for a in dir(al) if not a.startswith(\"__\")} == {'datestamp', 'ip', 'status_code'}"
   ]
  },
  {
   "cell_type": "markdown",
   "metadata": {},
   "source": [
    "Extend `list` class\n",
    "------\n",
    "\n",
    "Write a new class `CustomList` that inherits from `list`. `CustomList` will everything that a regular `list` does.\n",
    "\n",
    "In addition, add a method `len` that will return the number of items in the container.\n",
    "\n",
    "This is example of adding a fluent interface to a class."
   ]
  },
  {
   "cell_type": "code",
   "execution_count": 5,
   "metadata": {},
   "outputs": [],
   "source": [
    "# Solutions\n",
    "\n",
    "class CustomList(list): \n",
    "    \"Extend built-in list class with additional funcationality.\"\n",
    "\n",
    "    def len(self): \n",
    "        \"Add len as a method. Wrapper for `len` built-in function.\"\n",
    "        return len(self) # This is the global len\n",
    "    "
   ]
  },
  {
   "cell_type": "code",
   "execution_count": 77,
   "metadata": {},
   "outputs": [],
   "source": [
    "# Test the custom list class\n",
    "\n",
    "cl = CustomList([1, 2, 3])\n",
    "assert issubclass(CustomList, list)\n",
    "assert cl.len() == len(cl)"
   ]
  },
  {
   "cell_type": "markdown",
   "metadata": {},
   "source": [
    "<br>\n",
    "<br> \n",
    "<br>\n",
    "\n",
    "----"
   ]
  },
  {
   "cell_type": "markdown",
   "metadata": {
    "nbgrader": {
     "grade": false,
     "grade_id": "cell-ff2d070e25115ec4",
     "locked": true,
     "schema_version": 1,
     "solution": false
    }
   },
   "source": [
    "<br>\n",
    "<br> \n",
    "<br>\n",
    "\n",
    "----"
   ]
  }
 ],
 "metadata": {
  "anaconda-cloud": {},
  "celltoolbar": "Create Assignment",
  "kernelspec": {
   "display_name": "Python 3",
   "language": "python",
   "name": "python3"
  },
  "language_info": {
   "codemirror_mode": {
    "name": "ipython",
    "version": 3
   },
   "file_extension": ".py",
   "mimetype": "text/x-python",
   "name": "python",
   "nbconvert_exporter": "python",
   "pygments_lexer": "ipython3",
   "version": "3.8.3"
  },
  "toc": {
   "base_numbering": 1,
   "nav_menu": {},
   "number_sections": false,
   "sideBar": true,
   "skip_h1_title": false,
   "title_cell": "Table of Contents",
   "title_sidebar": "Contents",
   "toc_cell": true,
   "toc_position": {},
   "toc_section_display": true,
   "toc_window_display": false
  }
 },
 "nbformat": 4,
 "nbformat_minor": 1
}
