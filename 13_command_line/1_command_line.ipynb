{
 "cells": [
  {
   "cell_type": "markdown",
   "metadata": {
    "toc": true
   },
   "source": [
    "<h1>Table of Contents<span class=\"tocSkip\"></span></h1>\n",
    "<div class=\"toc\"><ul class=\"toc-item\"><li><span><a href=\"#Command-Line---Bashing-Your-Way-to-Victory\" data-toc-modified-id=\"Command-Line---Bashing-Your-Way-to-Victory-1\">Command Line - Bashing Your Way to Victory</a></span></li><li><span><a href=\"#Learning-Outcomes\" data-toc-modified-id=\"Learning-Outcomes-2\">Learning Outcomes</a></span></li><li><span><a href=\"#Why-bash?\" data-toc-modified-id=\"Why-bash?-3\">Why bash?</a></span></li><li><span><a href=\"#Bash-is-broad\" data-toc-modified-id=\"Bash-is-broad-4\">Bash is broad</a></span></li><li><span><a href=\"#Aliases-for-CLI\" data-toc-modified-id=\"Aliases-for-CLI-5\">Aliases for CLI</a></span></li><li><span><a href=\"#bash-vs-zsh-(aka,-cloud-vs-local)\" data-toc-modified-id=\"bash-vs-zsh-(aka,-cloud-vs-local)-6\"><code>bash</code> vs <code>zsh</code> (aka, cloud vs local)</a></span></li><li><span><a href=\"#Use-iterm2-application-(if-on-MacOS)\" data-toc-modified-id=\"Use-iterm2-application-(if-on-MacOS)-7\">Use iterm2 application (if on MacOS)</a></span></li><li><span><a href=\"#Navigating-the-file-system\" data-toc-modified-id=\"Navigating-the-file-system-8\">Navigating the file system</a></span></li><li><span><a href=\"#Absolute-and-relative-paths\" data-toc-modified-id=\"Absolute-and-relative-paths-9\">Absolute and relative paths</a></span></li><li><span><a href=\"#Starting-Applications\" data-toc-modified-id=\"Starting-Applications-10\">Starting Applications</a></span></li><li><span><a href=\"#Command-Line-arguments\" data-toc-modified-id=\"Command-Line-arguments-11\">Command Line arguments</a></span></li><li><span><a href=\"#Command-line-in-the-Jupyter-Notebook\" data-toc-modified-id=\"Command-line-in-the-Jupyter-Notebook-12\">Command line in the Jupyter Notebook</a></span></li><li><span><a href=\"#Text-editing-at-the-command-line\" data-toc-modified-id=\"Text-editing-at-the-command-line-13\">Text editing at the command line</a></span></li><li><span><a href=\"#Other-common-commands-to-learn\" data-toc-modified-id=\"Other-common-commands-to-learn-14\">Other common commands to learn</a></span></li><li><span><a href=\"#Why-aren't-you-teaching-us--x-command?\" data-toc-modified-id=\"Why-aren't-you-teaching-us--x-command?-15\">Why aren't you teaching us  <code>x</code> command?</a></span></li><li><span><a href=\"#Takeaways\" data-toc-modified-id=\"Takeaways-16\">Takeaways</a></span></li><li><span><a href=\"#Bonus-Material\" data-toc-modified-id=\"Bonus-Material-17\">Bonus Material</a></span></li><li><span><a href=\"#Managing-software-with-brew\" data-toc-modified-id=\"Managing-software-with-brew-18\">Managing software with brew</a></span></li><li><span><a href=\"#Fun-at-the-Command-line\" data-toc-modified-id=\"Fun-at-the-Command-line-19\">Fun at the Command line</a></span></li><li><span><a href=\"#Other-common-commands\" data-toc-modified-id=\"Other-common-commands-20\">Other common commands</a></span></li><li><span><a href=\"#Further-Study\" data-toc-modified-id=\"Further-Study-21\">Further Study</a></span></li><li><span><a href=\"#Brian's-Bash-Profile\" data-toc-modified-id=\"Brian's-Bash-Profile-22\">Brian's Bash Profile</a></span></li><li><span><a href=\"#Creating-your-bash-profile\" data-toc-modified-id=\"Creating-your-bash-profile-23\">Creating your bash profile</a></span></li><li><span><a href=\"#Why-am-I-getting-command-not-found?\" data-toc-modified-id=\"Why-am-I-getting-command-not-found?-24\">Why am I getting <code>command not found</code>?</a></span></li><li><span><a href=\"#What-the-heck-is-python--v?\" data-toc-modified-id=\"What-the-heck-is-python--v?-25\">What the heck is <code>python -v</code>?</a></span></li><li><span><a href=\"#Unix-philosophy\" data-toc-modified-id=\"Unix-philosophy-26\">Unix philosophy</a></span></li></ul></div>"
   ]
  },
  {
   "cell_type": "markdown",
   "metadata": {
    "toc": true
   },
   "source": [
    "<h1>Table of Contents<span class=\"tocSkip\"></span></h1>\n",
    "<div class=\"toc\"><ul class=\"toc-item\"><li><span><a href=\"#Command-Line---Bashing-Your-Way-to-Victory\" data-toc-modified-id=\"Command-Line---Bashing-Your-Way-to-Victory-1\">Command Line - Bashing Your Way to Victory</a></span></li><li><span><a href=\"#Learning-Outcomes\" data-toc-modified-id=\"Learning-Outcomes-2\">Learning Outcomes</a></span></li><li><span><a href=\"#Why-bash?\" data-toc-modified-id=\"Why-bash?-3\">Why bash?</a></span></li><li><span><a href=\"#Bash-is-broad\" data-toc-modified-id=\"Bash-is-broad-4\">Bash is broad</a></span></li><li><span><a href=\"#Aliases-for-CLI\" data-toc-modified-id=\"Aliases-for-CLI-5\">Aliases for CLI</a></span></li><li><span><a href=\"#bash-vs-zsh-(aka,-cloud-vs-local)\" data-toc-modified-id=\"bash-vs-zsh-(aka,-cloud-vs-local)-6\"><code>bash</code> vs <code>zsh</code> (aka, cloud vs local)</a></span></li><li><span><a href=\"#Use-iterm2-application-(if-on-MacOS)\" data-toc-modified-id=\"Use-iterm2-application-(if-on-MacOS)-7\">Use iterm2 application (if on MacOS)</a></span></li><li><span><a href=\"#Navigating-the-file-system\" data-toc-modified-id=\"Navigating-the-file-system-8\">Navigating the file system</a></span></li><li><span><a href=\"#Absolute-and-relative-paths\" data-toc-modified-id=\"Absolute-and-relative-paths-9\">Absolute and relative paths</a></span></li><li><span><a href=\"#Starting-Applications\" data-toc-modified-id=\"Starting-Applications-10\">Starting Applications</a></span></li><li><span><a href=\"#Command-Line-arguments\" data-toc-modified-id=\"Command-Line-arguments-11\">Command Line arguments</a></span></li><li><span><a href=\"#Command-line-in-the-Jupyter-Notebook\" data-toc-modified-id=\"Command-line-in-the-Jupyter-Notebook-12\">Command line in the Jupyter Notebook</a></span></li><li><span><a href=\"#Text-editing-at-the-command-line\" data-toc-modified-id=\"Text-editing-at-the-command-line-13\">Text editing at the command line</a></span></li><li><span><a href=\"#Other-common-commands-to-learn\" data-toc-modified-id=\"Other-common-commands-to-learn-14\">Other common commands to learn</a></span></li><li><span><a href=\"#Why-aren't-you-teaching-us--x-command?\" data-toc-modified-id=\"Why-aren't-you-teaching-us--x-command?-15\">Why aren't you teaching us  <code>x</code> command?</a></span></li><li><span><a href=\"#Takeaways\" data-toc-modified-id=\"Takeaways-16\">Takeaways</a></span></li><li><span><a href=\"#Bonus-Material\" data-toc-modified-id=\"Bonus-Material-17\">Bonus Material</a></span></li><li><span><a href=\"#Managing-software-with-brew\" data-toc-modified-id=\"Managing-software-with-brew-18\">Managing software with brew</a></span></li><li><span><a href=\"#Fun-at-the-Command-line\" data-toc-modified-id=\"Fun-at-the-Command-line-19\">Fun at the Command line</a></span></li><li><span><a href=\"#Other-common-commands\" data-toc-modified-id=\"Other-common-commands-20\">Other common commands</a></span></li><li><span><a href=\"#Further-Study\" data-toc-modified-id=\"Further-Study-21\">Further Study</a></span></li><li><span><a href=\"#Brian's-Bash-Profile\" data-toc-modified-id=\"Brian's-Bash-Profile-22\">Brian's Bash Profile</a></span></li><li><span><a href=\"#Creating-your-bash-profile\" data-toc-modified-id=\"Creating-your-bash-profile-23\">Creating your bash profile</a></span></li><li><span><a href=\"#Why-am-I-getting-command-not-found?\" data-toc-modified-id=\"Why-am-I-getting-command-not-found?-24\">Why am I getting <code>command not found</code>?</a></span></li><li><span><a href=\"#What-the-heck-is-python--v?\" data-toc-modified-id=\"What-the-heck-is-python--v?-25\">What the heck is <code>python -v</code>?</a></span></li><li><span><a href=\"#Unix-philosophy\" data-toc-modified-id=\"Unix-philosophy-26\">Unix philosophy</a></span></li></ul></div>"
   ]
  },
  {
   "cell_type": "markdown",
   "metadata": {},
   "source": [
    "<center><h2>Command Line - Bashing Your Way to Victory</h2></center>\n",
    "<br>\n",
    "<center><img src=\"https://i0.wp.com/www.robcottingham.ca/cartoon/wp-content/uploads/2018/11/2018.11.03.whois_.png?fit=3000%2C3000&ssl=1\" width=\"75%\"/></center>"
   ]
  },
  {
   "cell_type": "markdown",
   "metadata": {},
   "source": [
    "<center><h2>Learning Outcomes</h2></center>\n",
    "\n",
    "__By the end of this session, you should be able to__:\n",
    "\n",
    "- Explain in your own words what the command line interface (CLI) is and why it is useful for Data Science.\n",
    "- Be able to do common tasks at the CLI."
   ]
  },
  {
   "cell_type": "markdown",
   "metadata": {},
   "source": [
    "Why bash?\n",
    "-----\n",
    "\n",
    "We have been using GUI (graphic user interface) thus far. For example, GitHub Desktop app.\n",
    "\n",
    "Those work great but are limited in their functionality. Someone maintaining that software has add a button or dropdown menu for each option. \n",
    "\n",
    "The command line interface (CLI) allows us to:\n",
    "\n",
    "1. More directly control behavior of the computer \n",
    "1. Use more options when running programs\n",
    "\n",
    "There is often command line replacements for most GUIs\n",
    "\n",
    "`$ cal`"
   ]
  },
  {
   "cell_type": "markdown",
   "metadata": {},
   "source": [
    "Bash is broad\n",
    "------\n",
    "\n",
    "There are thousands of bash commands. As data scientists, we only really need to use a handful of bash commands.\n",
    "\n",
    "Data Science mostly uses the command line to:\n",
    "\n",
    "1. Navigating the file system\n",
    "2. Starting and stopping applications\n",
    "3. Working with git / GitHub\n",
    "4. Using remote machines, aka the cloud\n",
    "\n",
    "We are going to focus on those 4 uses for now. \n",
    "\n",
    "You'll learn the other commands as you need them."
   ]
  },
  {
   "cell_type": "markdown",
   "metadata": {},
   "source": [
    "Aliases for CLI\n",
    "-----\n",
    "\n",
    "CLI is sometimes called:\n",
    "\n",
    "- shell\n",
    "- terminal\n",
    "- bash (Bourne-again shell)\n",
    "- sh (Bourne Shell)\n",
    "- ksh (Korn Shell)\n",
    "- csh (C shell)\n",
    "- tcsh\n",
    "- zsh\n",
    "\n",
    "Each of those are subtly different, but those differences are not important to you right now."
   ]
  },
  {
   "cell_type": "markdown",
   "metadata": {},
   "source": [
    "`bash` vs `zsh` (aka, cloud vs local)\n",
    "------\n",
    "\n",
    "`bash` is very common but limited version of the command line. Deepnote (on the cloud) uses `bash`. \n",
    "\n",
    "`zsh` is much more powerful is growing popularity and is easier to use. Mac (local) uses `zsh`. \n",
    "\n",
    "We can find out shell we are using with this command:\n",
    "\n",
    "`$ echo $0`\n"
   ]
  },
  {
   "cell_type": "markdown",
   "metadata": {},
   "source": [
    "Use iterm2 application (if on MacOS)\n",
    "------\n",
    "\n",
    "terminal.app is the built-in/ default terminal interface for MacOS. It is very limited.\n",
    "\n",
    "[iterm2](https://www.iterm2.com/) is much, much better. Let's use the better option."
   ]
  },
  {
   "cell_type": "markdown",
   "metadata": {},
   "source": [
    "Navigating the file system\n",
    "----\n",
    "\n",
    "The 3 most important commands for navigating the file system:\n",
    "\n",
    "1. `pwd` - Stands for `print working directory`; Writes the full pathname of the current working directory to the terminal. It is where you are right now in the file system.\n",
    "2. `cd` - Stands for `change directory`; Changes location in directory structure.\n",
    "3. `ls` - Stands for `list`, aka \"list stuff\"; Displays the items in a directory.\n",
    "  \n",
    "-----\n",
    " \n",
    "1. `pwd` In a Unix-based operating system, files are organized in a tree-like pattern. The top directory in a filesystem is called the _root directory_.\n",
    "\n",
    "2. `cd` changes from one directory to another by simply placing\n",
    "the name of the directory you want to go to after the `cd` command. \n",
    "    - `cd ..` - change directory up one level\n",
    "\n",
    "3. `ls` allows you to list the files in the current directory or any directory placed after the `ls` command. \n",
    "\n",
    "Special directories aliases:\n",
    "\n",
    "- `/` root, the top-level directory\n",
    "- `~` your home directory\n",
    "- `.` the current directory\n",
    "- `..` the parent directory\n",
    "\n",
    "Directories contain files and other directories, with names separated by `/`\n",
    "\n",
    "\n",
    "\n",
    "Let's check out the CLI_Cheat_Sheet.pdf."
   ]
  },
  {
   "cell_type": "markdown",
   "metadata": {},
   "source": [
    "Absolute and relative paths\n",
    "----\n",
    "    \n",
    "- Absolute Paths\n",
    "    - Absolute paths start with `/` or `~`\n",
    "    - Start at the root directory and work your way down the tree.\n",
    "    - Your home directory has an absolute path of /Users/[yourAccountName] `cd /Users/brian`\n",
    "- Relative Paths\n",
    "    - Any path that doesn’t start with `/` or `~` is relative to your current working directory\n",
    "    - If you are in currently in home dir these two commands are equivalent\n",
    "    \n",
    "    \n",
    "Absolute paths are easier to work and debug.\n",
    "\n",
    "Relative paths allow your code to work on other machines (including the cloud)."
   ]
  },
  {
   "cell_type": "markdown",
   "metadata": {},
   "source": [
    "Starting Applications\n",
    "-----\n",
    "\n",
    "You can launch application from the CLI:\n",
    "\n",
    "`$ jupyter notebook`\n",
    "\n",
    "which starts are Jupyter Notebook server.\n",
    "\n",
    "To stop a server or process, `control+c` is the standard method"
   ]
  },
  {
   "cell_type": "markdown",
   "metadata": {},
   "source": [
    "Command Line arguments\n",
    "-----\n",
    "\n",
    "Most often called \"flags\".\n",
    "\n",
    "Old school command line arguments are very terse.    \n",
    "They start with a `-` then have a single-character.\n",
    "\n",
    "List \"stuff\" all of it:  \n",
    "`$ ls -a`\n",
    "\n",
    "Modern command line arguments are more human readable.   \n",
    "They still start with a `-` but are followed with a full-word options \n",
    " \n",
    "Start a jupyter notebook server in Chrome:  \n",
    "`$ jupyter notebook --browser=Chrome`\n",
    "\n",
    "Default to human readable."
   ]
  },
  {
   "cell_type": "markdown",
   "metadata": {},
   "source": [
    "Command line in the Jupyter Notebook\n",
    "----"
   ]
  },
  {
   "cell_type": "code",
   "execution_count": 3,
   "metadata": {},
   "outputs": [
    {
     "name": "stdout",
     "output_type": "stream",
     "text": [
      "\u001b[31m git to process.md\u001b[m\u001b[m              \u001b[34minstructor\u001b[m\u001b[m\r\n",
      "1_bash.ipynb                    \u001b[34mmy_new_repo\u001b[m\u001b[m\r\n",
      "2_file_handling_in_python.ipynb \u001b[31mprimes.txt\u001b[m\u001b[m\r\n",
      "3_git_and_github.ipynb          readme.md\r\n",
      "CLI_Cheat_Sheet.pdf alias       students.txt\r\n",
      "\u001b[34mimages\u001b[m\u001b[m                          workflow-of-version-control.pdf\r\n"
     ]
    }
   ],
   "source": [
    "! ls"
   ]
  },
  {
   "cell_type": "code",
   "execution_count": 4,
   "metadata": {},
   "outputs": [
    {
     "name": "stdout",
     "output_type": "stream",
     "text": [
      " git to process.md\n",
      "1_bash.ipynb\n",
      "2_file_handling_in_python.ipynb\n",
      "3_git_and_github.ipynb\n",
      "CLI_Cheat_Sheet.pdf alias\n",
      "images\n",
      "instructor\n",
      "my_new_repo\n",
      "primes.txt\n",
      "readme.md\n",
      "students.txt\n",
      "workflow-of-version-control.pdf\n"
     ]
    }
   ],
   "source": [
    "%%bash\n",
    "\n",
    "ls"
   ]
  },
  {
   "cell_type": "markdown",
   "metadata": {},
   "source": [
    "Text editing at the command line\n",
    "------\n",
    "\n",
    "Sometimes you need to change a couple of lines in a text file quickly at the command line.\n",
    "\n",
    "`nano` is installed on almost all systems.\n",
    "\n",
    "It has only 12 commands. I only use 2 of them."
   ]
  },
  {
   "cell_type": "markdown",
   "metadata": {},
   "source": [
    "Other common commands to learn\n",
    "-----\n",
    "\n",
    "`mkdir` dir : Make a new directory\n",
    "\n",
    "`rmdir` dir : Delete directory\n",
    "\n",
    "`rm` file : Delete file\n",
    "\n",
    "`rm -rf` * : Nuke everything, file or an entire directory. This cannot be undone. It will not give you a warning if you're about to delete something important. Never do this.\n",
    "\n",
    "`mv` from to : Move a file or directory. Can also be used to rename a file or directory.\n",
    "\n",
    "`cp` : Copy files or directories.\n",
    "\n"
   ]
  },
  {
   "cell_type": "markdown",
   "metadata": {},
   "source": [
    "Why aren't you teaching us  `x` command?\n",
    "------\n",
    "\n",
    "You might have heard about:\n",
    "\n",
    "- `grep`\n",
    "- `sed`\n",
    "- `awk`\n",
    "\n",
    "Honestly, it is better to use Python than those commands. Python has the  the same functionality. \n",
    "\n",
    "Compared to shell commands, Python has the advantages:\n",
    "\n",
    "- More readable\n",
    "- More reusable\n",
    "- Most testable\n",
    "\n",
    "I would suggest learning Python very well (compared to being mediocre at both Python and shell scripting).\n",
    "\n",
    "For example, I use Python's [seashore](https://pypi.org/project/seashore/) package to automate command line stuff.\n",
    "\n",
    "Another example of replacing shell scripting with Python is [here](https://medium.com/capital-one-tech/bashing-the-bash-replacing-shell-scripts-with-python-d8d201bc0989)."
   ]
  },
  {
   "cell_type": "markdown",
   "metadata": {},
   "source": [
    "<center><h2>Takeaways</h2></center>\n",
    "\n",
    "- The command line use is required for some specific tasks. However, the command line is a strange, old language.\n",
    "- You should be able to:\n",
    "    - Navigate the file system \n",
    "    - Manipulate files\n",
    "    - Start and stop applications\n",
    "- If possible, try to use Python. It is more readable and reproducible.\n",
    "- The best way to learn the command line bit-by-bit."
   ]
  },
  {
   "cell_type": "markdown",
   "metadata": {},
   "source": [
    "  "
   ]
  },
  {
   "cell_type": "markdown",
   "metadata": {},
   "source": [
    "Bonus Material\n",
    "----"
   ]
  },
  {
   "cell_type": "markdown",
   "metadata": {},
   "source": [
    "[Brian's UNIX flashcard](https://ankiweb.net/shared/info/321161592)"
   ]
  },
  {
   "cell_type": "markdown",
   "metadata": {},
   "source": [
    "Managing software with brew\n",
    "----\n",
    "\n",
    "`homebrew` is awesome. Install right after class [https://brew.sh/](https://brew.sh/)\n",
    "\n",
    "It allows you install CLI applications (and other applications) from the command line.\n",
    "\n",
    "Brian's [brewfile](https://gist.github.com/brianspiering/2f87fbdfaea37b501f7b77811f332545)\n",
    "\n",
    "This is how Brian installs __all__ apps, including `postgres`. Nick may suggest something different."
   ]
  },
  {
   "cell_type": "code",
   "execution_count": 1,
   "metadata": {},
   "outputs": [
    {
     "name": "stdout",
     "output_type": "stream",
     "text": [
      "Updating Homebrew...\n",
      "\u001b[34m==>\u001b[0m \u001b[1mAuto-updated Homebrew!\u001b[0m\n",
      "Updated 4 taps (homebrew/cask-versions, homebrew/core, homebrew/cask and homebrew/bundle).\n",
      "\u001b[34m==>\u001b[0m \u001b[1mNew Formulae\u001b[0m\n",
      "cpl                                      tflint\n",
      "\u001b[34m==>\u001b[0m \u001b[1mUpdated Formulae\u001b[0m\n",
      "ask-cli                    ffmpeg@2.8                 rex\n",
      "binaryen                   fn                         rpm2cpio\n",
      "cake                       git-absorb                 rsyslog\n",
      "certbot                    glooctl                    rush\n",
      "cfssl                      gpgme                      scamper\n",
      "clojure                    haskell-stack              snakemake\n",
      "cmake                      hidapi                     stella\n",
      "cockroach                  imageoptim-cli             stress-ng\n",
      "contentful-cli             jenkins                    stuntman\n",
      "cpprestsdk                 jenkins-lts                topgrade\n",
      "curl                       libheif                    twine-pypi\n",
      "curl-openssl               libvpx                     txr\n",
      "deno                       liquibase                  vert.x\n",
      "digdag                     media-info                 vfuse\n",
      "direvent                   netlify-cli                vmtouch\n",
      "docker-credential-helper   newt                       webpack\n",
      "exploitdb                  pulumi                     wireshark\n",
      "faas-cli                   qmmp                       x265\n",
      "ffmpeg                     remarshal\n",
      "\n",
      "\u001b[33mWarning:\u001b[0m git 2.22.0_1 is already installed and up-to-date\n",
      "To reinstall 2.22.0_1, run `brew reinstall git`\n",
      "\u001b[33mWarning:\u001b[0m bash-completion 1.3_3 is already installed and up-to-date\n",
      "To reinstall 1.3_3, run `brew reinstall bash-completion`\n"
     ]
    }
   ],
   "source": [
    "! brew install git bash-completion "
   ]
  },
  {
   "cell_type": "code",
   "execution_count": 2,
   "metadata": {},
   "outputs": [],
   "source": [
    "# ! brew install postgres"
   ]
  },
  {
   "cell_type": "markdown",
   "metadata": {},
   "source": [
    "Fun at the Command line\n",
    "----\n",
    "\n",
    "Matrix-movie screen saver. Press 'q' to stop\n",
    "\n",
    "`$ cmatrix`\n",
    "\n",
    "Play Star Wars IV: A New Hope at the command line\n",
    "\n",
    "`$  telnet towel.blinkenlights.nl`"
   ]
  },
  {
   "cell_type": "markdown",
   "metadata": {},
   "source": [
    "Other common commands\n",
    "-----\n",
    "\n",
    "`find` : Traverse directory tree and execute commands  \n",
    "\n",
    "`find ~/github -type d -name \"13_command_line\"`: find a specific directory\n",
    "\n",
    "`chmod` : Change permissions\n",
    "\n",
    "`chown` : Change ownership"
   ]
  },
  {
   "cell_type": "markdown",
   "metadata": {},
   "source": [
    "Further Study\n",
    "------\n",
    "\n",
    "- https://github.com/jlevy/the-art-of-command-line                                                        "
   ]
  },
  {
   "cell_type": "markdown",
   "metadata": {},
   "source": [
    "Brian's Bash Profile\n",
    "-----\n",
    "\n",
    "[.bash_profile](https://gist.github.com/brianspiering/bf593902d750d8e61fb729cc2d38bdc7)"
   ]
  },
  {
   "cell_type": "markdown",
   "metadata": {},
   "source": [
    "Creating your bash profile\n",
    "------\n",
    "\n",
    "1. Start up Terminal\n",
    "1. Type \"cd ~/\" to go to your home folder\n",
    "1. Type \"touch .bash_profile\" to create your new file.\n",
    "1. Edit .bash_profile with your favorite editor (or you can just type \"open -e .bash_profile\" to open it in TextEdit.)"
   ]
  },
  {
   "cell_type": "markdown",
   "metadata": {},
   "source": [
    "Why am I getting `command not found`?\n",
    "------\n",
    "\n",
    "The application you are calling is not on your Path.\n",
    "\n",
    "Path is a list of file directories that your computer will look for applications.\n",
    "\n",
    "Most of the time when you install an application it is automatically put where it can be found. When it is not you get a `command not found` error on the CLI.\n",
    "\n",
    "You can have multiple applications with the same name (e.g., Python). Path tells your computer which one is should be tried first.\n",
    "\n",
    "If an app is not the path, it does not exist in the eyes of your computer.\n",
    "\n",
    "Generally, just install the missing app with brew\n",
    "\n",
    "`telnet: command not found`\n",
    "\n",
    "`$ brew install telnet`\n",
    "\n",
    "Do __not__ mess with your path. It is easy to mess up your path and render your computer usable for a little while.  Please ask me (or someone else) that know about paths before you mess with it.\n",
    "\n",
    "Give that, here is how you prepend something to your Path:\n",
    "\n",
    "`$ export PATH=\"$HOME/Users/brianspiering/desktop:$PATH`"
   ]
  },
  {
   "cell_type": "code",
   "execution_count": 5,
   "metadata": {},
   "outputs": [
    {
     "name": "stdout",
     "output_type": "stream",
     "text": [
      "/Users/brian/anaconda3/envs/bootcamp/bin:/Users/brian/anaconda3/condabin:/usr/local/bin:/usr/bin:/bin:/usr/sbin:/sbin:/Library/TeX/texbin\r\n"
     ]
    }
   ],
   "source": [
    "# echo means display\n",
    "# $ is the symbol for a variable\n",
    "# PATH is the name of the variable\n",
    "\n",
    "! echo $PATH"
   ]
  },
  {
   "cell_type": "code",
   "execution_count": 6,
   "metadata": {},
   "outputs": [
    {
     "name": "stdout",
     "output_type": "stream",
     "text": [
      "/Users/brian/anaconda3/envs/bootcamp/bin/python\r\n"
     ]
    }
   ],
   "source": [
    "# Find where all the versions of Python are and the order which they will be tried\n",
    "! which python"
   ]
  },
  {
   "cell_type": "markdown",
   "metadata": {},
   "source": [
    "What the heck is `python -v`?\n",
    "------\n",
    "\n",
    "from `$ man python`\n",
    "\n",
    "```\n",
    "\n",
    "   -v     Print  a  message each time a module is initialized, showing the\n",
    "          place (filename or built-in module) from  which  it  is  loaded.\n",
    "          When  given twice, print a message for each file that is checked\n",
    "          for when searching for a module.  Also provides  information  on\n",
    "          module cleanup at exit.\n",
    "\n",
    "   -V ,  --version\n",
    "          Prints  the  Python  version number of the executable and exits.\n",
    "          When given twice, print more information about the build.\n",
    "```"
   ]
  },
  {
   "cell_type": "markdown",
   "metadata": {},
   "source": [
    "Unix philosophy\n",
    "-----\n",
    "\n",
    "Developing small yet capable software\n",
    "\n",
    "The concepts of modularity and reusability \n",
    "\n",
    "Building short, simple, clear, modular, and extensible code \n",
    "that can be easily maintained and repurposed by developers (other than its creators)\n",
    "\n",
    "Do one thing and do it well"
   ]
  },
  {
   "cell_type": "markdown",
   "metadata": {},
   "source": [
    "  "
   ]
  },
  {
   "cell_type": "markdown",
   "metadata": {},
   "source": [
    " "
   ]
  }
 ],
 "metadata": {
  "kernelspec": {
   "display_name": "Python 3",
   "language": "python",
   "name": "python3"
  },
  "language_info": {
   "codemirror_mode": {
    "name": "ipython",
    "version": 3
   },
   "file_extension": ".py",
   "mimetype": "text/x-python",
   "name": "python",
   "nbconvert_exporter": "python",
   "pygments_lexer": "ipython3",
   "version": "3.8.3"
  },
  "toc": {
   "base_numbering": 1,
   "nav_menu": {},
   "number_sections": false,
   "sideBar": false,
   "skip_h1_title": false,
   "title_cell": "Table of Contents",
   "title_sidebar": "Contents",
   "toc_cell": true,
   "toc_position": {},
   "toc_section_display": true,
   "toc_window_display": false
  }
 },
 "nbformat": 4,
 "nbformat_minor": 2
}
