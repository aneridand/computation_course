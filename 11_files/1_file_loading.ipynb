{
 "cells": [
  {
   "cell_type": "markdown",
   "metadata": {
    "toc": true
   },
   "source": [
    "<h1>Table of Contents<span class=\"tocSkip\"></span></h1>\n",
    "<div class=\"toc\"><ul class=\"toc-item\"><li><span><a href=\"#File-Loading-in-Python\" data-toc-modified-id=\"File-Loading-in-Python-1\">File Loading in Python</a></span></li><li><span><a href=\"#Learning-Outcomes\" data-toc-modified-id=\"Learning-Outcomes-2\">Learning Outcomes</a></span></li><li><span><a href=\"#File-loading\" data-toc-modified-id=\"File-loading-3\">File loading</a></span></li><li><span><a href=\"#Using-with:\" data-toc-modified-id=\"Using-with:-4\">Using <code>with</code>:</a></span></li><li><span><a href=\"#Why-use-with?\" data-toc-modified-id=\"Why-use-with?-5\">Why use <code>with</code>?</a></span></li><li><span><a href=\"#with-/-context-managers-in-PyTorch\" data-toc-modified-id=\"with-/-context-managers-in-PyTorch-6\"><code>with</code> / context managers in PyTorch</a></span></li><li><span><a href=\"#3-Parts-of-Working-with-Files\" data-toc-modified-id=\"3-Parts-of-Working-with-Files-7\">3 Parts of Working with Files</a></span></li><li><span><a href=\"#Different-ways-to-read-data-into-memory\" data-toc-modified-id=\"Different-ways-to-read-data-into-memory-8\">Different ways to read data into memory</a></span></li><li><span><a href=\"#How-to-navigate-the-file-system\" data-toc-modified-id=\"How-to-navigate-the-file-system-9\">How to navigate the file system</a></span></li><li><span><a href=\"#pathlib-module\" data-toc-modified-id=\"pathlib-module-10\"><code>pathlib</code> module</a></span></li><li><span><a href=\"#Data-scientists-primarily-needs-to-load-files\" data-toc-modified-id=\"Data-scientists-primarily-needs-to-load-files-11\">Data scientists primarily needs to load files</a></span></li><li><span><a href=\"#Takeaways\" data-toc-modified-id=\"Takeaways-12\">Takeaways</a></span></li><li><span><a href=\"#Bonus-Material\" data-toc-modified-id=\"Bonus-Material-13\">Bonus Material</a></span></li><li><span><a href=\"#Why-is--everything-not-in-memory?\" data-toc-modified-id=\"Why-is--everything-not-in-memory?-14\">Why is  everything not in memory?</a></span></li><li><span><a href=\"#Path-components\" data-toc-modified-id=\"Path-components-15\">Path components</a></span></li><li><span><a href=\"#Writing-files\" data-toc-modified-id=\"Writing-files-16\">Writing files</a></span></li><li><span><a href=\"#Further-Study\" data-toc-modified-id=\"Further-Study-17\">Further Study</a></span></li></ul></div>"
   ]
  },
  {
   "cell_type": "markdown",
   "metadata": {},
   "source": [
    "<center><h2>File Loading in Python</h2></center>\n"
   ]
  },
  {
   "cell_type": "markdown",
   "metadata": {},
   "source": [
    "<center><h2>Learning Outcomes</h2></center>\n",
    "\n",
    "__By the end of this session, you should be able to__:\n",
    "\n",
    "- Load files using as a `with` context manager.\n",
    "- Process the contents of the files.\n",
    "- Programmatically load files with the `Path` class."
   ]
  },
  {
   "cell_type": "code",
   "execution_count": 5,
   "metadata": {},
   "outputs": [
    {
     "name": "stdout",
     "output_type": "stream",
     "text": [
      "0000000 4f 6e 65 20 46 69 73 68 2c 20 54 77 6f 20 46 69\n",
      "0000010 73 68 2c 20 52 65 64 20 46 69 73 68 2c 20 42 6c\n",
      "0000020 75 65 20 46 69 73 68 0a 42 79 20 44 72 2e 20 53\n",
      "0000030 65 75 73 73 2e 0a 4f 6e 65 20 66 69 73 68 0a 54\n",
      "0000040 77 6f 20 66 69 73 68 0a 52 65 64 20 66 69 73 68\n",
      "0000050 0a 42 6c 75 65 20 66 69 73 68 2e 0a 42 6c 61 63\n",
      "0000060\n",
      "0000000 ff d8 ff e0 00 10 4a 46 49 46 00 01 01 00 00 01\n",
      "0000010 00 01 00 00 ff db 00 43 00 06 04 05 06 05 04 06\n",
      "0000020 06 05 06 07 07 06 08 0a 10 0a 0a 09 09 0a 14 0e\n",
      "0000030 0f 0c 10 17 14 18 18 17 14 16 16 1a 1d 25 1f 1a\n",
      "0000040 1b 23 1c 16 16 20 2c 20 23 26 27 29 2a 29 19 1f\n",
      "0000050 2d 30 2d 28 30 25 28 29 28 ff db 00 43 01 07 07\n",
      "0000060\n"
     ]
    }
   ],
   "source": [
    "# All data is just bytes. \n",
    "# We must tell the computer how to handle those bytes.\n",
    "\n",
    "# Hexdump shows the hexidecimal (base 16)\n",
    "# `hexdump` is for mac os\n",
    "# -n is a flag to show length in bytes\n",
    "! hexdump -n 96 one_fish.txt\n",
    "\n",
    "# All data is just bytes. \n",
    "! hexdump -n 96 i_am_not_text.jpg"
   ]
  },
  {
   "cell_type": "code",
   "execution_count": 6,
   "metadata": {},
   "outputs": [],
   "source": [
    "# `xxd` is for linux\n",
    "\n",
    "# ! xxd -l 96 one_fish.txt\n",
    "\n",
    "# ! xxd -l 96 i_am_not_text.jpg"
   ]
  },
  {
   "cell_type": "markdown",
   "metadata": {},
   "source": [
    "File loading\n",
    "------\n",
    "\n",
    "Files are stored data. \n",
    "\n",
    "Let's grab some data:"
   ]
  },
  {
   "cell_type": "code",
   "execution_count": 7,
   "metadata": {},
   "outputs": [],
   "source": [
    "reset -fs"
   ]
  },
  {
   "cell_type": "code",
   "execution_count": 8,
   "metadata": {},
   "outputs": [
    {
     "name": "stdout",
     "output_type": "stream",
     "text": [
      "Alex\n",
      "Amee\n",
      "Aneri\n",
      "Annie\n",
      "Audrey\n",
      "Kai\n",
      "Binaya \n",
      "Boliang\n",
      "Chris\n",
      "Nguyen\n",
      "Catie\n",
      "Daniel \n",
      "Dash \n",
      "Efrem\n",
      "Elyse\n",
      "Emre\n",
      "\n"
     ]
    }
   ],
   "source": [
    "with open(\"students.txt\") as f:\n",
    "    names = f.read()\n",
    "\n",
    "print(names[:99])"
   ]
  },
  {
   "cell_type": "markdown",
   "metadata": {},
   "source": [
    "Using `with`:\n",
    "-----\n",
    "\n",
    "In Python, we use context managers to handle files. \n",
    "\n",
    "- `with` automatically handles opening, processing, and closing a file when used with `open`.\n",
    "- `open` is the function, what we are doing\n",
    "- \"students.txt\" is the file name\n",
    "- `as` is alias or nickname\n",
    "- `f` is the file handler. Technically a buffered text stream of data\n",
    "- `f.read()` is a function that reads the entire file\n"
   ]
  },
  {
   "cell_type": "markdown",
   "metadata": {},
   "source": [
    "Why use `with`?\n",
    "----\n",
    "\n",
    "1. It automatically keeps track of what is happening with the file and does the correct thing.\n",
    "\n",
    "1. Guaranteed to close the file no matter how the block exits."
   ]
  },
  {
   "cell_type": "markdown",
   "metadata": {},
   "source": [
    "`with` / context managers in PyTorch\n",
    "-----\n",
    "\n",
    "The Deep Learning framework PyTorch using context managers in training neural networks\n",
    "\n",
    "```python\n",
    "with torch.no_grad():\n",
    "    w1 -= learning_rate * w1.grad\n",
    "    w2 -= learning_rate * w2.grad\n",
    "\n",
    "    # Manually zero the gradients after updating weights\n",
    "    w1.grad.zero_()\n",
    "    w2.grad.zero_()\n",
    "```"
   ]
  },
  {
   "cell_type": "markdown",
   "metadata": {},
   "source": [
    "3 Parts of Working with Files\n",
    "-----\n",
    "\n",
    "1. File name\n",
    "    \n",
    "    The file name has to be the location of the file according to the file system. It needs to be exact location and name, something like \"./data/training_data.txt\"\n",
    "    \n",
    "    \n",
    "1. File handler\n",
    "\n",
    "    `f` is a \"file object\" that is really just a handle or descriptor that the operating system gives us. It's a unique identifier and how the operating system likes to identify a file that we work with. \n",
    "\n",
    "    **The file object is not the filename and is also not the file itself on the disk.** \n",
    "\n",
    "    It's really just a descriptor and a reference to the file.\n",
    "\n",
    "1. File contents\n",
    "\n",
    "    Python loads the file contents as a string. The file contents can be processed as a string and be cast to other data types."
   ]
  },
  {
   "cell_type": "markdown",
   "metadata": {},
   "source": [
    "Different ways to read data into memory\n",
    "----"
   ]
  },
  {
   "cell_type": "code",
   "execution_count": 10,
   "metadata": {},
   "outputs": [],
   "source": [
    "filename = \"students.txt\""
   ]
  },
  {
   "cell_type": "code",
   "execution_count": 30,
   "metadata": {},
   "outputs": [
    {
     "data": {
      "text/plain": [
       "'import random\\n'"
      ]
     },
     "execution_count": 30,
     "metadata": {},
     "output_type": "execute_result"
    }
   ],
   "source": [
    "# A single line\n",
    "\n",
    "with open(filename) as f:    \n",
    "    one_line = f.readline()\n",
    "\n",
    "one_line"
   ]
  },
  {
   "cell_type": "code",
   "execution_count": 12,
   "metadata": {},
   "outputs": [
    {
     "data": {
      "text/plain": [
       "'Alex'"
      ]
     },
     "execution_count": 12,
     "metadata": {},
     "output_type": "execute_result"
    }
   ],
   "source": [
    "# Get rid of line break\n",
    "\n",
    "with open(filename) as f:    \n",
    "    single_line = f.readline().strip() \n",
    "\n",
    "single_line"
   ]
  },
  {
   "cell_type": "code",
   "execution_count": 13,
   "metadata": {},
   "outputs": [
    {
     "data": {
      "text/plain": [
       "['Alex',\n",
       " 'Amee',\n",
       " 'Aneri',\n",
       " 'Annie',\n",
       " 'Audrey',\n",
       " 'Kai',\n",
       " 'Binaya ',\n",
       " 'Boliang',\n",
       " 'Chris',\n",
       " 'Nguyen',\n",
       " 'Catie',\n",
       " 'Daniel ',\n",
       " 'Dash ',\n",
       " 'Efrem',\n",
       " 'Elyse',\n",
       " 'Emre',\n",
       " 'Eriko',\n",
       " 'Evan',\n",
       " 'Eileen',\n",
       " 'Flora',\n",
       " 'Grant',\n",
       " 'Hashneet',\n",
       " 'Danny',\n",
       " 'Huidong',\n",
       " 'Veronica',\n",
       " 'Janson',\n",
       " 'Jared',\n",
       " 'Jiahui',\n",
       " 'Jordan',\n",
       " 'Josh',\n",
       " 'Kexin',\n",
       " 'Kyle',\n",
       " 'Lucia',\n",
       " 'Matt ',\n",
       " 'Michelle',\n",
       " 'Ming',\n",
       " 'Moh',\n",
       " 'Nicolas',\n",
       " 'Okeefe ',\n",
       " 'Yue',\n",
       " 'April',\n",
       " 'Phillip ',\n",
       " 'Rahul',\n",
       " 'Sherry',\n",
       " 'Adam',\n",
       " 'Stephen',\n",
       " 'Hsuanyu',\n",
       " 'Veeral',\n",
       " 'Tony',\n",
       " 'Siwei',\n",
       " 'Somya',\n",
       " 'Sophie',\n",
       " 'Sophie ',\n",
       " 'Tako',\n",
       " 'Tao',\n",
       " 'Tiance',\n",
       " 'Tian',\n",
       " 'Trevor',\n",
       " 'Luke',\n",
       " 'Victor',\n",
       " 'Victor',\n",
       " 'Vaishnavi',\n",
       " 'Wenyao',\n",
       " 'Yi',\n",
       " 'Yingtong',\n",
       " 'Yixuan',\n",
       " 'Yueling',\n",
       " 'Zach',\n",
       " 'Zixi']"
      ]
     },
     "execution_count": 13,
     "metadata": {},
     "output_type": "execute_result"
    }
   ],
   "source": [
    "# Read file and remove \\n from each line\n",
    "with open(filename) as f:\n",
    "    names = f.read().splitlines()\n",
    "names"
   ]
  },
  {
   "cell_type": "code",
   "execution_count": 14,
   "metadata": {},
   "outputs": [
    {
     "name": "stdout",
     "output_type": "stream",
     "text": [
      "Alex\n"
     ]
    }
   ],
   "source": [
    "# Read line-by-line\n",
    "with open(filename) as f:    \n",
    "    for line in f:        \n",
    "        print(line.strip())\n",
    "        break"
   ]
  },
  {
   "cell_type": "code",
   "execution_count": 15,
   "metadata": {},
   "outputs": [
    {
     "data": {
      "text/plain": [
       "'2\\n3\\n5\\n7\\n11\\n13\\n17\\n19\\n23\\n29\\n31\\n37\\n41\\n43\\n47\\n53\\n59\\n61\\n67\\n71\\n73\\n79\\n83\\n89\\n97\\n101\\n103\\n107\\n109\\n113\\n127\\n131\\n137\\n139\\n149\\n151\\n157\\n163\\n167\\n173\\n179\\n181\\n191\\n193\\n197\\n199'"
      ]
     },
     "execution_count": 15,
     "metadata": {},
     "output_type": "execute_result"
    }
   ],
   "source": [
    "# Read in numbers\n",
    "filename = 'primes.txt'\n",
    "with open(filename) as f: \n",
    "    primes = f.read()\n",
    "\n",
    "primes"
   ]
  },
  {
   "cell_type": "code",
   "execution_count": 16,
   "metadata": {},
   "outputs": [
    {
     "data": {
      "text/plain": [
       "{2,\n",
       " 3,\n",
       " 5,\n",
       " 7,\n",
       " 11,\n",
       " 13,\n",
       " 17,\n",
       " 19,\n",
       " 23,\n",
       " 29,\n",
       " 31,\n",
       " 37,\n",
       " 41,\n",
       " 43,\n",
       " 47,\n",
       " 53,\n",
       " 59,\n",
       " 61,\n",
       " 67,\n",
       " 71,\n",
       " 73,\n",
       " 79,\n",
       " 83,\n",
       " 89,\n",
       " 97,\n",
       " 101,\n",
       " 103,\n",
       " 107,\n",
       " 109,\n",
       " 113,\n",
       " 127,\n",
       " 131,\n",
       " 137,\n",
       " 139,\n",
       " 149,\n",
       " 151,\n",
       " 157,\n",
       " 163,\n",
       " 167,\n",
       " 173,\n",
       " 179,\n",
       " 181,\n",
       " 191,\n",
       " 193,\n",
       " 197,\n",
       " 199}"
      ]
     },
     "execution_count": 16,
     "metadata": {},
     "output_type": "execute_result"
    }
   ],
   "source": [
    "# A better way to read in numbers\n",
    "with open(filename) as f: \n",
    "    primes = {int(x) for x in f} # Use a comprehension to cast each item (remeber sets are awesome!)\n",
    "\n",
    "primes"
   ]
  },
  {
   "cell_type": "markdown",
   "metadata": {},
   "source": [
    "How to navigate the file system\n",
    "-----\n",
    "\n",
    "| Symbol | Meaning |  \n",
    "|:-------:|:------:|\n",
    "| `.` |  the current directory   |\n",
    "| `..` | up one directory level |  \n",
    "| `~` | your home directory |  \n",
    "\n",
    "\n",
    "```python\n",
    "path =  \"./\"       # Relative path to current directory   \n",
    "path = \"./data/\"   # Relative path to subfolder   \n",
    "path = \"../data/\"   # Relative path to up one directory level and into a folder called data   \n",
    "\n",
    "path = \"~/Desktop\" # Use alias for home directory then go to Desktop folder\n",
    "\n",
    "path = \"~/Desktop\" # Relative path           \n",
    "path = \"/Users/brian/Desktop\" # Absolute path / hard coded\n",
    "```\n",
    "\n",
    "Relative paths will work on other people's machines (including the cloud).\n",
    "\n",
    "Absolute paths are easier to debug.\n",
    "\n",
    "In general, let's use relative paths rather than absolute paths."
   ]
  },
  {
   "cell_type": "code",
   "execution_count": 28,
   "metadata": {},
   "outputs": [
    {
     "name": "stdout",
     "output_type": "stream",
     "text": [
      "One Fish, Two Fish, Red Fish, Blue Fish\n",
      "By Dr. Seuss.\n",
      "One fish\n",
      "Two fish\n",
      "Red fish\n",
      "Blue fish.\n",
      "Black fish\n",
      "\n"
     ]
    }
   ],
   "source": [
    "with open(\"../data/one_fish.txt\") as f:\n",
    "    one_fish = f.read()\n",
    "\n",
    "print(one_fish[:103])"
   ]
  },
  {
   "cell_type": "markdown",
   "metadata": {},
   "source": [
    "`pathlib` module\n",
    "-----\n",
    "\n",
    "Let's let Python do the work for us."
   ]
  },
  {
   "cell_type": "code",
   "execution_count": 18,
   "metadata": {},
   "outputs": [],
   "source": [
    "from pathlib import Path"
   ]
  },
  {
   "cell_type": "markdown",
   "metadata": {},
   "source": [
    "`Path` will let us write code that works across different operating systems (mac, linux, and windows)"
   ]
  },
  {
   "cell_type": "code",
   "execution_count": 19,
   "metadata": {},
   "outputs": [],
   "source": [
    "help(Path)"
   ]
  },
  {
   "cell_type": "code",
   "execution_count": 20,
   "metadata": {},
   "outputs": [
    {
     "data": {
      "text/plain": [
       "'Alex\\nAmee\\nAneri\\nAnnie\\nAudrey\\nKai\\nBinaya \\nBoliang\\nChris\\nNguyen\\nCatie\\nDaniel \\nDash \\nEfrem\\nElyse\\nEmre\\nEriko\\nEvan\\nEileen\\nFlora\\nGrant\\nHashneet\\nDanny\\nHuidong\\nVeronica\\nJanson\\nJared\\nJiahui\\nJordan\\nJosh\\nKexin\\nKyle\\nLucia\\nMatt \\nMichelle\\nMing\\nMoh\\nNicolas\\nOkeefe \\nYue\\nApril\\nPhillip \\nRahul\\nSherry\\nAdam\\nStephen\\nHsuanyu\\nVeeral\\nTony\\nSiwei\\nSomya\\nSophie\\nSophie \\nTako\\nTao\\nTiance\\nTian\\nTrevor\\nLuke\\nVictor\\nVictor\\nVaishnavi\\nWenyao\\nYi\\nYingtong\\nYixuan\\nYueling\\nZach\\nZixi'"
      ]
     },
     "execution_count": 20,
     "metadata": {},
     "output_type": "execute_result"
    }
   ],
   "source": [
    "# Easy to read in a complete file with path \n",
    "Path(\"students.txt\").read_text()"
   ]
  },
  {
   "cell_type": "code",
   "execution_count": 21,
   "metadata": {},
   "outputs": [],
   "source": [
    "# Define the path as up one level in the file directory, then into a folder named data\n",
    "path = Path(\"../data/\")"
   ]
  },
  {
   "cell_type": "code",
   "execution_count": 22,
   "metadata": {},
   "outputs": [
    {
     "data": {
      "text/plain": [
       "pathlib.PosixPath"
      ]
     },
     "execution_count": 22,
     "metadata": {},
     "output_type": "execute_result"
    }
   ],
   "source": [
    "# Kinda like a special str\n",
    "type(path)"
   ]
  },
  {
   "cell_type": "code",
   "execution_count": 31,
   "metadata": {},
   "outputs": [],
   "source": [
    "# glob is a method that performs wildcard pattern matching on filenames\n",
    "# * operator in pathnames is a wildcard, aka everything\n",
    "# \"**/\" means search for sub within each subdirectory\n",
    "# '*.*' means for all filenames and all file types in the directory\n",
    "\n",
    "# from pathlib import Path\n",
    "\n",
    "# path = Path(\"../\")\n",
    "\n",
    "# for filename in path.glob('**/*.*'):\n",
    "#     print(filename)"
   ]
  },
  {
   "cell_type": "markdown",
   "metadata": {},
   "source": [
    "Data scientists primarily needs to load files\n",
    "-----\n",
    "\n",
    "Most data science work is loading and processing a collection of files for analysis.\n",
    "\n",
    "Data scientist rarely have to write text files. Most of the time data scientist writes out data as:\n",
    "\n",
    "- Comma-separated values (CSV) file\n",
    "- Dataframe\n",
    "- JSON \n",
    "- Python object using [`pickle`](https://docs.python.org/3/library/pickle.html)"
   ]
  },
  {
   "cell_type": "markdown",
   "metadata": {},
   "source": [
    "<center><h2>Takeaways</h2></center>\n",
    "\n",
    "\n",
    "- We need to read (input) and write (output) data to files.\n",
    "- Typically reading just plain text files.\n",
    "- It is most common to use a `with open()` block\n",
    "- `Path` enables programmatic file access across all operating systems."
   ]
  },
  {
   "cell_type": "markdown",
   "metadata": {},
   "source": [
    "Bonus Material\n",
    "----"
   ]
  },
  {
   "cell_type": "markdown",
   "metadata": {},
   "source": [
    "Why is  everything not in memory?\n",
    "----\n",
    "\n",
    "Why do we have a separation between memory and storage?\n",
    "\n",
    "There is __no__ a single computing substrate that is fast and nonvolatile and cheap."
   ]
  },
  {
   "cell_type": "markdown",
   "metadata": {},
   "source": [
    "Path components\n",
    "-----\n",
    "\n",
    "- name: the file name without any directory\n",
    "\n",
    "- parent: the directory if a file or the parent directory if directory\n",
    "\n",
    "- stem: the file name without the suffix\n",
    "\n",
    "- suffix: the file extension\n",
    "\n",
    "- anchor: the part of the path before the directories"
   ]
  },
  {
   "cell_type": "markdown",
   "metadata": {},
   "source": [
    "Writing files\n",
    "-----\n",
    "\n",
    "\n",
    "3 modes:\n",
    "\n",
    "1. `r` - read, default\n",
    "\n",
    "1. `w` - write, delete was already there\n",
    "\n",
    "1. `a` - append, concatenate\n"
   ]
  },
  {
   "cell_type": "code",
   "execution_count": 24,
   "metadata": {},
   "outputs": [],
   "source": [
    "# filename = 'temp.txt'\n",
    "\n",
    "# with open(filename, 'w') as f:\n",
    "#     f.write(\"hi!\")"
   ]
  },
  {
   "cell_type": "code",
   "execution_count": 25,
   "metadata": {},
   "outputs": [
    {
     "name": "stdout",
     "output_type": "stream",
     "text": [
      "Victor\n",
      "\n"
     ]
    }
   ],
   "source": [
    "# One-liner to get random line\n",
    "import random\n",
    "\n",
    "print(random.choice(open(\"students.txt\").readlines()))"
   ]
  },
  {
   "cell_type": "markdown",
   "metadata": {},
   "source": [
    "Further Study\n",
    "------\n",
    "\n",
    "- Real Python\n",
    "    - https://realpython.com/courses/reading-and-writing-files-python/\n",
    "    - https://realpython.com/courses/practical-recipes-files/\n",
    "    - https://realpython.com/python-pathlib/\n",
    "- Stackabuse\n",
    "    - https://stackabuse.com/read-a-file-line-by-line-in-python/\n",
    "    - https://stackabuse.com/file-handling-in-python/\n",
    "    - https://stackabuse.com/reading-files-with-python/\n",
    "    - https://stackabuse.com/writing-files-using-python/\n",
    "    - https://stackabuse.com/reading-and-writing-lists-to-a-file-in-python/\n",
    "    - https://stackabuse.com/how-to-create-move-and-delete-files-in-python/\n"
   ]
  },
  {
   "cell_type": "markdown",
   "metadata": {},
   "source": [
    " "
   ]
  }
 ],
 "metadata": {
  "kernelspec": {
   "display_name": "Python 3",
   "language": "python",
   "name": "python3"
  },
  "language_info": {
   "codemirror_mode": {
    "name": "ipython",
    "version": 3
   },
   "file_extension": ".py",
   "mimetype": "text/x-python",
   "name": "python",
   "nbconvert_exporter": "python",
   "pygments_lexer": "ipython3",
   "version": "3.8.3"
  },
  "toc": {
   "base_numbering": 1,
   "nav_menu": {},
   "number_sections": false,
   "sideBar": false,
   "skip_h1_title": false,
   "title_cell": "Table of Contents",
   "title_sidebar": "Contents",
   "toc_cell": true,
   "toc_position": {},
   "toc_section_display": true,
   "toc_window_display": false
  }
 },
 "nbformat": 4,
 "nbformat_minor": 2
}
