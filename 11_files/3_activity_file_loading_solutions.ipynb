{
 "cells": [
  {
   "cell_type": "markdown",
   "metadata": {
    "toc": true
   },
   "source": [
    "<h1>Table of Contents<span class=\"tocSkip\"></span></h1>\n",
    "<div class=\"toc\"><ul class=\"toc-item\"><li><span><a href=\"#Instructions\" data-toc-modified-id=\"Instructions-1\">Instructions</a></span></li><li><span><a href=\"#Additional-Instructions\" data-toc-modified-id=\"Additional-Instructions-2\">Additional Instructions</a></span></li><li><span><a href=\"#Read-file-using-with\" data-toc-modified-id=\"Read-file-using-with-3\">Read file using <code>with</code></a></span></li><li><span><a href=\"#Read-file-with-Path-class\" data-toc-modified-id=\"Read-file-with-Path-class-4\">Read file with <code>Path</code> class</a></span></li><li><span><a href=\"#Revenge-of-FizzBuzz\" data-toc-modified-id=\"Revenge-of-FizzBuzz-5\">Revenge of FizzBuzz</a></span></li><li><span><a href=\"#ELT-(Extract,-Transform,-Load):-A-text-file-of-emojis-into-a-Python-dict\" data-toc-modified-id=\"ELT-(Extract,-Transform,-Load):-A-text-file-of-emojis-into-a-Python-dict-6\">ELT (Extract, Transform, Load): A text file of emojis into a Python dict</a></span></li><li><span><a href=\"#Count-number-of-image-files-in-images-folder\" data-toc-modified-id=\"Count-number-of-image-files-in-images-folder-7\">Count number of image files in <code>images</code> folder</a></span></li></ul></div>"
   ]
  },
  {
   "cell_type": "markdown",
   "metadata": {},
   "source": [
    "Instructions\n",
    "--------\n",
    "\n",
    "- __First thing__ - Change the name of this file to avoid a [merge conflict](https://docs.github.com/en/github/getting-started-with-github/github-glossary#merge-conflict) with GitHub.\n",
    "- You should type every character for the following activities. \n",
    "- Work together with your peers in the same shared code environment. The following environments allow the importation of Jupyter Notebook from GitHub urls:\n",
    "    - [Google Colab](https://colab.research.google.com)\n",
    "    - [Deepnote](https://deepnote.com/)\n",
    "- These activities are not graded.\n",
    "- They are open resource - feel free to reference documentation, books, videos, and any other resource.\n",
    "- Attempt each problem. If stuck, move onto next one and come back to a difficult problem.\n",
    "- During class:\n",
    "    - Brian will bounce between breakout rooms. Feel free to ask questions or just ignore him.\n",
    "    - After your group has finished, leave your breakout room and return to the main room."
   ]
  },
  {
   "cell_type": "markdown",
   "metadata": {},
   "source": [
    "Additional Instructions\n",
    "------\n",
    "\n",
    "Either do these activities locally on your computer in your local copy of the repo or upload the `data` and `images` folder to Deepnote."
   ]
  },
  {
   "cell_type": "code",
   "execution_count": 64,
   "metadata": {},
   "outputs": [],
   "source": [
    "reset -fs"
   ]
  },
  {
   "cell_type": "markdown",
   "metadata": {},
   "source": [
    "Read file using `with`\n",
    "-------\n",
    "\n",
    "Using a `with` statement, load `success_by_emily_dickinson.txt` from the `data` folder into a variable named `success_poem`. `success_poem` should be a list of strings (with no empty strings)."
   ]
  },
  {
   "cell_type": "code",
   "execution_count": null,
   "metadata": {},
   "outputs": [],
   "source": []
  },
  {
   "cell_type": "code",
   "execution_count": 4,
   "metadata": {},
   "outputs": [],
   "source": [
    "# Solutions\n",
    "\n",
    "with open(\"../data/success_by_emily_dickinson.txt\") as f:\n",
    "    success_poem = f.read().splitlines()\n",
    "\n",
    "success_poem = [line for line in success_poem if line]\n",
    "    \n"
   ]
  },
  {
   "cell_type": "code",
   "execution_count": 5,
   "metadata": {},
   "outputs": [],
   "source": [
    "# Test the file was loaded and processed correctly\n",
    "\n",
    "assert success_poem == ['Success is counted sweetest',\n",
    "                         'By those who never succeed.',\n",
    "                         'To comprehend a nectar',\n",
    "                         'Requires sorest need.',\n",
    "                         'Not one of all the purple host',\n",
    "                         'Who took the flag to-day',\n",
    "                         'Can tell the definition,',\n",
    "                         'So clear, of victory,',\n",
    "                         'As he, defeated, dying,',\n",
    "                         'On whose forbidden ear',\n",
    "                         'The distant strains of triumph',\n",
    "                         'Break, agonized and clear!']"
   ]
  },
  {
   "cell_type": "markdown",
   "metadata": {},
   "source": [
    "Read file with `Path` class\n",
    "------\n",
    "\n",
    "1. Import `Path` \n",
    "1. Define a path instance to location of the `gettysburg_address.txt` which should be in the `data` folder.\n",
    "1. Load `gettysburg_address.txt` into a variable called `gettysburg`\n",
    "1. Remove line breaks"
   ]
  },
  {
   "cell_type": "code",
   "execution_count": null,
   "metadata": {},
   "outputs": [],
   "source": []
  },
  {
   "cell_type": "code",
   "execution_count": 1,
   "metadata": {},
   "outputs": [],
   "source": [
    "# Solutions\n",
    "\n",
    "from pathlib import Path\n",
    "\n",
    "path = Path('../data/gettysburg_address.txt') \n",
    "gettysburg = path.read_text().replace(\"\\n\", \"\")\n"
   ]
  },
  {
   "cell_type": "code",
   "execution_count": 40,
   "metadata": {},
   "outputs": [
    {
     "ename": "NameError",
     "evalue": "name 'gettysburg' is not defined",
     "output_type": "error",
     "traceback": [
      "\u001b[0;31m---------------------------------------------------------------------------\u001b[0m",
      "\u001b[0;31mNameError\u001b[0m                                 Traceback (most recent call last)",
      "\u001b[0;32m<ipython-input-40-051b974150a9>\u001b[0m in \u001b[0;36m<module>\u001b[0;34m\u001b[0m\n\u001b[1;32m      1\u001b[0m \u001b[0;31m# Test the file was loaded and processed correctly\u001b[0m\u001b[0;34m\u001b[0m\u001b[0;34m\u001b[0m\u001b[0;34m\u001b[0m\u001b[0m\n\u001b[1;32m      2\u001b[0m \u001b[0;34m\u001b[0m\u001b[0m\n\u001b[0;32m----> 3\u001b[0;31m \u001b[0;32massert\u001b[0m \u001b[0mgettysburg\u001b[0m \u001b[0;34m==\u001b[0m \u001b[0;34m'Four score and seven years ago our fathers brought forth on this continent, a new nation, conceived in Liberty, and dedicated to the proposition that all men are created equal.Now we are engaged in a great civil war, testing whether that nation, or any nation so conceived and so dedicated, can long endure. We are met on a great battle-field of that war. We have come to dedicate a portion of that field, as a final resting place for those who here gave their lives that that nation might live. It is altogether fitting and proper that we should do this.But, in a larger sense, we can not dedicate -- we can not consecrate -- we can not hallow -- this ground. The brave men, living and dead, who struggled here, have consecrated it, far above our poor power to add or detract. The world will little note, nor long remember what we say here, but it can never forget what they did here. It is for us the living, rather, to be dedicated here to the unfinished work which they who fought here have thus far so nobly advanced. It is rather for us to be here dedicated to the great task remaining before us -- that from these honored dead we take increased devotion to that cause for which they gave the last full measure of devotion -- that we here highly resolve that these dead shall not have died in vain -- that this nation, under God, shall have a new birth of freedom -- and that government of the people, by the people, for the people, shall not perish from the earth.'\u001b[0m\u001b[0;34m\u001b[0m\u001b[0;34m\u001b[0m\u001b[0m\n\u001b[0m",
      "\u001b[0;31mNameError\u001b[0m: name 'gettysburg' is not defined"
     ]
    }
   ],
   "source": [
    "# Test the file was loaded and processed correctly\n",
    "\n",
    "assert gettysburg == 'Four score and seven years ago our fathers brought forth on this continent, a new nation, conceived in Liberty, and dedicated to the proposition that all men are created equal.Now we are engaged in a great civil war, testing whether that nation, or any nation so conceived and so dedicated, can long endure. We are met on a great battle-field of that war. We have come to dedicate a portion of that field, as a final resting place for those who here gave their lives that that nation might live. It is altogether fitting and proper that we should do this.But, in a larger sense, we can not dedicate -- we can not consecrate -- we can not hallow -- this ground. The brave men, living and dead, who struggled here, have consecrated it, far above our poor power to add or detract. The world will little note, nor long remember what we say here, but it can never forget what they did here. It is for us the living, rather, to be dedicated here to the unfinished work which they who fought here have thus far so nobly advanced. It is rather for us to be here dedicated to the great task remaining before us -- that from these honored dead we take increased devotion to that cause for which they gave the last full measure of devotion -- that we here highly resolve that these dead shall not have died in vain -- that this nation, under God, shall have a new birth of freedom -- and that government of the people, by the people, for the people, shall not perish from the earth.'"
   ]
  },
  {
   "cell_type": "markdown",
   "metadata": {},
   "source": [
    "Revenge of FizzBuzz\n",
    "-----\n",
    "\n",
    "Remember [FizzBuzz](https://wiki.c2.com/?FizzBuzzTest)…\n",
    "\n",
    "1. Write code that loads the solutions to FizzBuzz from `fizz_buzz.txt`. The numbers should be integers and the words should be strings.\n",
    "\n",
    "2. Then write a function named `fizz_buzz` that solves FizzBuzz.\n",
    "\n",
    "3. Then write your own tests to confirm that your implementation matches the loaded solutions"
   ]
  },
  {
   "cell_type": "code",
   "execution_count": null,
   "metadata": {},
   "outputs": [],
   "source": []
  },
  {
   "cell_type": "code",
   "execution_count": 6,
   "metadata": {},
   "outputs": [],
   "source": [
    "# Solutions\n",
    "\n",
    "with open(\"../data/fizz_buzz.txt\") as f: \n",
    "\n",
    "    fizz_buzz_solutions = []\n",
    "    \n",
    "    for line in f:\n",
    "        line = line.replace(\"\\n\", \"\")\n",
    "        if line.isdigit():\n",
    "            fizz_buzz_solutions.append(int(line))\n",
    "        elif line:\n",
    "            fizz_buzz_solutions.append(line)\n",
    "\n",
    "\n",
    "def fizz_buzz(n):\n",
    "    \"Implement fizz buzz\"\n",
    "    message = ''\n",
    "\n",
    "    if n % 3 == 0:  message += 'fizz'\n",
    "    if n % 5 == 0:  message += 'buzz'\n",
    "    if not message: message = n\n",
    "\n",
    "    return message\n",
    "\n"
   ]
  },
  {
   "cell_type": "code",
   "execution_count": 7,
   "metadata": {},
   "outputs": [],
   "source": [
    "# Test the file was loaded and processed correctly\n",
    "\n",
    "assert fizz_buzz_solutions == [1, 2, 'fizz', 4, 'buzz', 'fizz', 7, 8, 'fizz', 'buzz', 11, 'fizz', 13, 14, 'fizzbuzz', 16, 17, 'fizz', 19, 'buzz', 'fizz', 22, 23, 'fizz', 'buzz', 26, 'fizz', 28, 29, 'fizzbuzz', 31, 32, 'fizz', 34, 'buzz', 'fizz', 37, 38, 'fizz', 'buzz', 41, 'fizz', 43, 44, 'fizzbuzz', 46, 47, 'fizz', 49, 'buzz', 'fizz', 52, 53, 'fizz', 'buzz', 56, 'fizz', 58, 59, 'fizzbuzz', 61, 62, 'fizz', 64, 'buzz', 'fizz', 67, 68, 'fizz', 'buzz', 71, 'fizz', 73, 74, 'fizzbuzz', 76, 77, 'fizz', 79, 'buzz', 'fizz', 82, 83, 'fizz', 'buzz', 86, 'fizz', 88, 89, 'fizzbuzz', 91, 92, 'fizz', 94, 'buzz', 'fizz', 97, 98, 'fizz', 'buzz'] "
   ]
  },
  {
   "cell_type": "code",
   "execution_count": 8,
   "metadata": {},
   "outputs": [],
   "source": [
    "# Test fizz buzz function\n",
    "\n",
    "assert all(fizz_buzz(n) == fizz_buzz_solutions[n-1] for n in range(1, 101))"
   ]
  },
  {
   "cell_type": "markdown",
   "metadata": {},
   "source": [
    "ELT (Extract, Transform, Load): A text file of emojis into a Python dict\n",
    "----\n",
    "\n",
    "1. Read (extract) `emoji_table.txt`.\n",
    "1. Munge (transform) the data to clean it up.\n",
    "1. Put (load) into a Python `dict`.\n",
    "\n",
    "Hints: \n",
    "\n",
    "- https://emojipedia.org/family-man-woman-girl-boy/\n",
    "- http://www.fileformat.info/info/unicode/char/200d/index.htm\n",
    "- http://archives.miloush.net/michkap/archive/2006/02/15/532394.html"
   ]
  },
  {
   "cell_type": "code",
   "execution_count": null,
   "metadata": {},
   "outputs": [],
   "source": [
    "from ftfy import explain_unicode  # 👈 Hint\n",
    "\n"
   ]
  },
  {
   "cell_type": "code",
   "execution_count": 9,
   "metadata": {},
   "outputs": [],
   "source": [
    "# Solutions\n",
    "with open('../data/emoji_table.txt') as f:\n",
    "    emojis_raw = f.read().splitlines()\n",
    "\n",
    "emoji_label_splits = (emoji.lower().replace('\\u200d', '').split(\",\") for emoji in emojis_raw)\n",
    "emojis = {label: emoji for emoji, label in emoji_label_splits}\n"
   ]
  },
  {
   "cell_type": "code",
   "execution_count": 10,
   "metadata": {},
   "outputs": [],
   "source": [
    "# Test that the emojis were loaded and procesed correctly\n",
    "# Test only some of the key-value pairs\n",
    "assert emojis['a_smiley1'] == '😄'\n",
    "assert emojis['a_smiley2'] == '😃'\n",
    "assert emojis['e_family2'] == '👨👩👧👦'\n",
    "assert emojis['d_ok'] == '👌'\n",
    "assert emojis['d_poop'] == '💩'"
   ]
  },
  {
   "cell_type": "markdown",
   "metadata": {},
   "source": [
    "Count number of image files in `images` folder\n",
    "-------\n",
    "\n",
    "Using `Path` to count the types of images in `images` folder.\n",
    "\n",
    "Hints:\n",
    "\n",
    "- Use `Path` methods. Read about Path methods in the [documentation](https://docs.python.org/3/library/pathlib.html#methods)\n",
    "- What is Pythonic way to count items by type?\n",
    "\n",
    "Note - There will might be an odd entry because of the mac operating systems `[PosixPath('../images/.DS_Store')]` Filter it out since it is not an image"
   ]
  },
  {
   "cell_type": "code",
   "execution_count": null,
   "metadata": {},
   "outputs": [],
   "source": []
  },
  {
   "cell_type": "code",
   "execution_count": 11,
   "metadata": {},
   "outputs": [],
   "source": [
    "# Solutions\n",
    "\n",
    "from collections import Counter\n",
    "from pathlib import Path\n",
    "\n",
    "path = Path('../images/')\n",
    "\n",
    "images_counts = Counter(p.suffix for p in path.iterdir() if p.suffix)\n"
   ]
  },
  {
   "cell_type": "code",
   "execution_count": 12,
   "metadata": {},
   "outputs": [],
   "source": [
    "# Test the types and counts of images\n",
    "\n",
    "assert images_counts == {'.png': 58, '.jpg': 23, '.jpeg': 3, '.svg': 1, '.gif': 1}"
   ]
  },
  {
   "cell_type": "markdown",
   "metadata": {},
   "source": [
    "<br>\n",
    "<br> \n",
    "<br>\n",
    "\n",
    "----"
   ]
  }
 ],
 "metadata": {
  "kernelspec": {
   "display_name": "Python 3",
   "language": "python",
   "name": "python3"
  },
  "language_info": {
   "codemirror_mode": {
    "name": "ipython",
    "version": 3
   },
   "file_extension": ".py",
   "mimetype": "text/x-python",
   "name": "python",
   "nbconvert_exporter": "python",
   "pygments_lexer": "ipython3",
   "version": "3.8.3"
  },
  "toc": {
   "base_numbering": 1,
   "nav_menu": {},
   "number_sections": false,
   "sideBar": false,
   "skip_h1_title": false,
   "title_cell": "Table of Contents",
   "title_sidebar": "Contents",
   "toc_cell": true,
   "toc_position": {},
   "toc_section_display": true,
   "toc_window_display": false
  }
 },
 "nbformat": 4,
 "nbformat_minor": 4
}
