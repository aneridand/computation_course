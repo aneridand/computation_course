{
 "cells": [
  {
   "cell_type": "markdown",
   "metadata": {
    "toc": true
   },
   "source": [
    "<h1>Table of Contents<span class=\"tocSkip\"></span></h1>\n",
    "<div class=\"toc\"><ul class=\"toc-item\"><li><span><a href=\"#Introduction-to-git-&amp;-GitHub\" data-toc-modified-id=\"Introduction-to-git-&amp;-GitHub-1\">Introduction to git &amp; GitHub</a></span></li><li><span><a href=\"#Learning-Outcomes\" data-toc-modified-id=\"Learning-Outcomes-2\">Learning Outcomes</a></span></li><li><span><a href=\"#Why-do-we-need-git?\" data-toc-modified-id=\"Why-do-we-need-git?-3\">Why do we need <code>git</code>?</a></span></li><li><span><a href=\"#Hierarchy-of-git-&amp;-GitHub\" data-toc-modified-id=\"Hierarchy-of-git-&amp;-GitHub-4\">Hierarchy of git &amp; GitHub</a></span></li><li><span><a href=\"#Initializing-a-Git-Repository-Locally-\" data-toc-modified-id=\"Initializing-a-Git-Repository-Locally--5\">Initializing a Git Repository Locally </a></span></li><li><span><a href=\"#What-kind-of-files-should-be-in-git?\" data-toc-modified-id=\"What-kind-of-files-should-be-in-git?-6\">What kind of files should be in git?</a></span></li><li><span><a href=\"#What's-up-with-Jupyter-Notebooks-in-GitHub?\" data-toc-modified-id=\"What's-up-with-Jupyter-Notebooks-in-GitHub?-7\">What's up with Jupyter Notebooks in GitHub?</a></span></li><li><span><a href=\"#Tracking-changes\" data-toc-modified-id=\"Tracking-changes-8\">Tracking changes</a></span></li><li><span><a href=\"#Most-Common-Ways-To-Use-git\" data-toc-modified-id=\"Most-Common-Ways-To-Use-git-9\">Most Common Ways To Use git</a></span></li><li><span><a href=\"#Why-GitHub?\" data-toc-modified-id=\"Why-GitHub?-10\">Why GitHub?</a></span></li><li><span><a href=\"#Using-other-people's-code-from-GitHub\" data-toc-modified-id=\"Using-other-people's-code-from-GitHub-11\">Using other people's code from GitHub</a></span></li><li><span><a href=\"#Command-Line-vs-GUI\" data-toc-modified-id=\"Command-Line-vs-GUI-12\">Command Line vs GUI</a></span></li><li><span><a href=\"#OMG---I-have-a-merge-conflict\" data-toc-modified-id=\"OMG---I-have-a-merge-conflict-13\">OMG - I have a merge conflict</a></span></li><li><span><a href=\"#Takeaways\" data-toc-modified-id=\"Takeaways-14\">Takeaways</a></span></li><li><span><a href=\"#Bonus-Material\" data-toc-modified-id=\"Bonus-Material-15\">Bonus Material</a></span></li><li><span><a href=\"#OMG---I-just-commited-a-ginormous-file-to-git-/-GitHub\" data-toc-modified-id=\"OMG---I-just-commited-a-ginormous-file-to-git-/-GitHub-16\">OMG - I just commited a ginormous file to git / GitHub</a></span></li><li><span><a href=\"#Brian's-Guide-to-Troubleshooting\" data-toc-modified-id=\"Brian's-Guide-to-Troubleshooting-17\">Brian's Guide to Troubleshooting</a></span><ul class=\"toc-item\"><li><span><a href=\"#Setting-Up\" data-toc-modified-id=\"Setting-Up-17.1\">Setting Up</a></span></li><li><span><a href=\"#Other-commands\" data-toc-modified-id=\"Other-commands-17.2\">Other commands</a></span></li><li><span><a href=\"#If-something-is-broken\" data-toc-modified-id=\"If-something-is-broken-17.3\">If something is broken</a></span></li></ul></li><li><span><a href=\"#References\" data-toc-modified-id=\"References-18\">References</a></span></li><li><span><a href=\"#Further-Study\" data-toc-modified-id=\"Further-Study-19\">Further Study</a></span></li></ul></div>"
   ]
  },
  {
   "cell_type": "markdown",
   "metadata": {},
   "source": [
    "Introduction to git & GitHub\n",
    "------"
   ]
  },
  {
   "cell_type": "markdown",
   "metadata": {},
   "source": [
    "Learning Outcomes\n",
    "-----\n",
    "\n",
    "__By the end of this session, you should be able to__:\n",
    "\n",
    "- Explain the difference between `git` and GitHub.\n",
    "- Draw and label the workflow diagrams for `git` and GitHub.\n",
    "- Define and use [common git commands](http://guides.beanstalkapp.com/version-control/common-git-commands.html):\n",
    "    + git init\n",
    "    + git add\n",
    "    + git commit\n",
    "    + git status\n",
    "    + git clone\n",
    "    + git pull\n",
    "    + git push \n",
    "- Recognize and fix git issues\n",
    "- Explain why managing Jupyter Notebook is challenging in git and how to mitigate those challenges.\n",
    "\n",
    "(Note - These are very detailed to help you study for the upcoming test)"
   ]
  },
  {
   "cell_type": "markdown",
   "metadata": {},
   "source": [
    "Why do we need `git`?\n",
    "------\n",
    "\n",
    "`git` is how groups of people can work on the same code without messing up each others work.\n",
    "\n",
    "For example, Google has most of their code is a single repo (aka, code repository) that most developers have access to. A revision control, like `git`, allow them to work at it at the same time in a distributed locations without fear of losing work.\n",
    "\n",
    "Even though I do course development on my own I still use `git` so I never loss any work. I could teach from any computer connected to the internet.\n",
    "\n",
    "When you work in industry, you'll be excepted to know and use `git`.\n",
    "\n",
    "`git` is one of the best version control tools:\n",
    "\n",
    "- Collaborate with many users around the Internet\n",
    "- Keep changes synchronized across machines\n",
    "- Can manage source, documentation, text files, and more \n",
    "- A safety net:\n",
    "    - Backup work!   \n",
    "    - Roll back mistakes\n",
    "    - Explore new ideas safely (in a branch)\n",
    "\n",
    "Increasingly it is necessary for reproducible research\n",
    "\n",
    "It is now unprofessional not to use GitHub.\n"
   ]
  },
  {
   "cell_type": "markdown",
   "metadata": {},
   "source": [
    "Hierarchy of git & GitHub\n",
    "------\n",
    "\n",
    "1. Not using version control at all\n",
    "1. Put work into system sometimes\n",
    "1. Put work into system all the time (aka, every time you get up from your desk)\n",
    "1. Writing meaningful commit messages\n",
    "1. Using branches\n",
    "1. Applying some standard process on top of GitHub, like [git-flow](https://nvie.com/posts/a-successful-git-branching-model/)"
   ]
  },
  {
   "cell_type": "markdown",
   "metadata": {},
   "source": [
    "Initializing a Git Repository Locally \n",
    "-----\n",
    "\n",
    "A `git` repository is a **local** collection of files and contains a `.git` subdirectory in its root. \n",
    "\n",
    "Git keeps track of the state of the files in the \n",
    "repository's directory on disk (so long as those files have been added to the index - we'll get to that below). \n",
    "\n",
    "There are a couple of different ways to create a new repository - the two most common of these are through: \n",
    "\n",
    "- Initializing an empty, new local repository\n",
    "- Downloading another repository (also known as *cloning* in git)\n",
    "\n",
    "A `git` repository instance is just a directory on your disk but it also has a `.git` (hidden) directory. This directory holds a complete database of everything that's happened to the repository. If you want to throw out the repository, just remove the entire subtree from your disk. "
   ]
  },
  {
   "cell_type": "markdown",
   "metadata": {},
   "source": [
    "What kind of files should be in git?\n",
    "-----\n",
    "\n",
    "Git works best with plain text files. For our common use cases that would be:\n",
    "\n",
    "- .txt or .md\n",
    "- .py\n",
    "\n",
    "__It is best practices to not put the following under version control:__\n",
    "\n",
    "\n",
    "- Large files: data, images, .pdf (e.g., lecture slides)\n",
    "- Non-text: binaries, .doc, .xls\n",
    "\n",
    "If you do, have a separate repo. Separate code from data.\n",
    "\n",
    "If you do have large files, use [`git-lfs`](https://git-lfs.github.com/)"
   ]
  },
  {
   "cell_type": "markdown",
   "metadata": {},
   "source": [
    "What's up with Jupyter Notebooks in GitHub?\n",
    "-----\n",
    "\n",
    "Jupyter Notebook are JSON. GitHub treats Jupyter Notebook as regular JSON. JSON is a key-value data storage format. \n",
    "\n",
    "JSON and git do play nice with each other, git manages line-by-line and JSON does not really store data by lines. The result is a living hell to resolve a merge conflict with Jupyter Notebooks.\n",
    "\n",
    "__What should you do about Jupyter Notebook in git__:\n",
    "\n",
    "1. Good defense - Rename, rename, rename\n",
    "\n",
    "2. Then just `pull` from once branch and redo work.\n",
    "\n",
    "4. Last resort, you try to edit the raw JSON to stitch together a working solution. I suggest double checking with a JSON linter [here](https://jsonlint.com/)\n",
    "\n",
    "5. If you really care, use a system like [jupyter's nbdime](https://github.com/jupyter/nbdime) to manage Jupyter Notebooks in `git`"
   ]
  },
  {
   "cell_type": "markdown",
   "metadata": {},
   "source": [
    "Tracking changes\n",
    "-----\n",
    "\n",
    "Git only tracks difference between snapshots.  Each snapshot is called a `commit`.\n",
    "\n",
    "You should make a commit to lock-in a logical chunk of work. My general rule of thumb - Every time before I get up from computer, I commit.\n",
    "\n"
   ]
  },
  {
   "cell_type": "markdown",
   "metadata": {},
   "source": [
    "Most Common Ways To Use git\n",
    "---\n",
    "<br>\n",
    "<center><img src=\"../images/git_workflow_white.png\" width=\"75%\"/></center>\n",
    "\n",
    "[A list of common scenarios and commands](https://github.com/k88hudson/git-flight-rules)\n"
   ]
  },
  {
   "cell_type": "markdown",
   "metadata": {},
   "source": [
    "Why GitHub?\n",
    "----\n",
    "\n",
    "While `git` is a distributed version control system, Github is a hosting service for git repositories (you can think of a repository as a directory/folder). \n",
    "\n",
    "GitHub is a company (owned by Microsoft). `git` is open source software.\n",
    "\n",
    "GitHub makes it easy to share code.\n",
    "\n",
    "Another way of looking at this is that Github is a hosting service for projects that use Git. Github allows us to share our projects with other people, and to allow other people to collaborate with us on our projects. \n",
    "\n",
    "GitHub is web-based, whereas `git` is command line based."
   ]
  },
  {
   "cell_type": "markdown",
   "metadata": {},
   "source": [
    "Using other people's code from GitHub\n",
    "-----\n",
    "\n",
    "<center><img src=\"../images/github_workflow_1.png\" width=\"75%\"/></center>"
   ]
  },
  {
   "cell_type": "markdown",
   "metadata": {},
   "source": [
    "Command Line vs GUI\n",
    "-----\n",
    "\n",
    "Brian's take - Get the job done, easily and quickly.\n",
    "\n",
    "Think about as a manager. A manager does not care about code, just results.\n",
    "\n",
    "The goal is to get the same results, with less effort.\n",
    "\n",
    "GitHub GUI are pretty good:\n",
    "\n",
    "- GitHub Desktop\n",
    "- [Gitup](https://gitup.co/)\n",
    "- [Tower](https://www.git-tower.com/)\n",
    "\n",
    "\n",
    "No one can tell if you use the command line or GUI for GitHub. \n",
    "\n",
    "However when things get complex or thing break, you'll have to use the command line.\n",
    "\n",
    "Even professional programmers, just Google for answers and copy n' paste."
   ]
  },
  {
   "cell_type": "markdown",
   "metadata": {},
   "source": [
    "OMG - I have a merge conflict\n",
    "-------\n",
    "\n",
    "git is very complex. I’m teaching a simplified version. Data Scientist do not need to be git experts. They get stuff done.\n",
    "\n",
    "The  simplest and most common way to resolve a git merge conflict is to pick a single correct branch and make that the state of those files the same between the two branches.\n",
    "\n",
    "__Steps__:\n",
    "\n",
    "1. I make a back up copy (usually compressed).\n",
    "2. Force changes from one branch to another branch.\n",
    "3. Then edit the lines I need.\n",
    "4. Commit to both branches.\n",
    "\n",
    "\n",
    "Force changes from \"local\" to \"remote\". Remote is always GitHub. Local could be your laptop or replit.\n",
    "\n",
    "`$ git push --force`\n",
    "\n",
    "The opposite is to take the version on GitHub and overwrite the local:\n",
    "\n",
    "`$ git pull --force`"
   ]
  },
  {
   "cell_type": "markdown",
   "metadata": {},
   "source": [
    "<center><h2>Takeaways</h2></center>\n",
    "\n",
    "- You get in the habit of using GitHub for all coding projects.\n",
    "- There are a handleful of common operations you should be comfortable with.\n",
    "- You should be to understand git and GitHub enough to recognize and fix errors when they arise."
   ]
  },
  {
   "cell_type": "markdown",
   "metadata": {},
   "source": [
    "Bonus Material\n",
    "-----"
   ]
  },
  {
   "cell_type": "markdown",
   "metadata": {},
   "source": [
    "OMG - I just commited a ginormous file to git / GitHub\n",
    "-----\n",
    "\n",
    "Follow Brian's script for [Remove big files from git history (Data Scientists are silly)](https://gist.github.com/brianspiering/337f68c4d826881dd8970222e114b382)"
   ]
  },
  {
   "cell_type": "markdown",
   "metadata": {},
   "source": [
    "Brian's Guide to Troubleshooting\n",
    "------\n",
    "\n",
    "### Setting Up\n",
    " \n",
    "https://help.github.com/articles/configuring-a-remote-for-a-fork/\n",
    "\n",
    "https://help.github.com/articles/syncing-a-fork/\n",
    "\n",
    "\n",
    "### Other commands\n",
    "\n",
    "```bash\n",
    "# Put local items to the side (often you can ignore them forever)\n",
    "git stash\n",
    "\n",
    "\n",
    "# get all update from remote\n",
    "git reset --hard origin/master\n",
    "```\n",
    "\n",
    "### If something is broken\n",
    "\n",
    "Honestly that is the best way:\n",
    "![](https://imgs.xkcd.com/comics/git.png)\n",
    "\n",
    "If there are many files:\n",
    "\n",
    "`git fetch upstream`  \n",
    "`git reset --hard upstream/master`  \n",
    "\n",
    "[Git Tutorial: 10 Common Git Problems and How to Fix Them](https://www.codementor.io/@citizen428/git-tutorial-10-common-git-problems-and-how-to-fix-them-aajv0katd)"
   ]
  },
  {
   "cell_type": "code",
   "execution_count": 9,
   "metadata": {},
   "outputs": [],
   "source": [
    "# Visual walkthrough\n",
    "\n",
    "# ! open workflow-of-version-control.pdf"
   ]
  },
  {
   "cell_type": "markdown",
   "metadata": {},
   "source": [
    "References\n",
    "------\n",
    "\n",
    "- [Terence's take on git](https://github.com/parrt/msds501/blob/master/notes/git.md)\n",
    "- [git online documentation](https://git-scm.com/book/en/v2/Getting-Started-About-Version-Control) is high-quality."
   ]
  },
  {
   "cell_type": "markdown",
   "metadata": {},
   "source": [
    "Further Study\n",
    "------\n",
    "\n",
    "- https://www.dataquest.io/blog/tutorial-introduction-learn-git-github\n",
    "- https://citizen428.net/10-common-git-problems-and-how-to-fix-them-e8d809299f08\n",
    "- https://help.github.com/articles/fetching-a-remote/\n",
    "- Interactive [git \"game\"](https://github.com/git-game/git-game) to help you learn. \n",
    "- There are lots of tutorial [materials](https://lab.github.com/courses) on the web\n",
    "- https://swcarpentry.github.io/git-novice/\n",
    "- If things are messed-up [try this](https://ohshitgit.com/)\n",
    "- The switch from default naming `master` to `main` on GitHub [here](https://github.com/github/renaming)"
   ]
  },
  {
   "cell_type": "markdown",
   "metadata": {},
   "source": [
    "<br>\n",
    "<br> \n",
    "<br>\n",
    "\n",
    "----"
   ]
  }
 ],
 "metadata": {
  "kernelspec": {
   "display_name": "Python 3",
   "language": "python",
   "name": "python3"
  },
  "language_info": {
   "codemirror_mode": {
    "name": "ipython",
    "version": 3
   },
   "file_extension": ".py",
   "mimetype": "text/x-python",
   "name": "python",
   "nbconvert_exporter": "python",
   "pygments_lexer": "ipython3",
   "version": "3.8.5"
  },
  "toc": {
   "base_numbering": 1,
   "nav_menu": {},
   "number_sections": false,
   "sideBar": false,
   "skip_h1_title": false,
   "title_cell": "Table of Contents",
   "title_sidebar": "Contents",
   "toc_cell": true,
   "toc_position": {},
   "toc_section_display": true,
   "toc_window_display": false
  }
 },
 "nbformat": 4,
 "nbformat_minor": 2
}
