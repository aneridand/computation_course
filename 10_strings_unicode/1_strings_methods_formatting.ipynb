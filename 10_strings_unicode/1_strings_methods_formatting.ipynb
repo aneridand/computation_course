{
 "cells": [
  {
   "cell_type": "markdown",
   "metadata": {
    "toc": true
   },
   "source": [
    "<h1>Table of Contents<span class=\"tocSkip\"></span></h1>\n",
    "<div class=\"toc\"><ul class=\"toc-item\"><li><span><a href=\"#Python's-str-type\" data-toc-modified-id=\"Python's-str-type-1\">Python's str type</a></span></li><li><span><a href=\"#Learning-Outcomes\" data-toc-modified-id=\"Learning-Outcomes-2\">Learning Outcomes</a></span></li><li><span><a href=\"#Create-a-string\" data-toc-modified-id=\"Create-a-string-3\">Create a string</a></span></li><li><span><a href=\"#One-way-to-update-immutable-strings\" data-toc-modified-id=\"One-way-to-update-immutable-strings-4\">One way to update immutable strings</a></span></li><li><span><a href=\"#String-methods\" data-toc-modified-id=\"String-methods-5\">String methods</a></span></li><li><span><a href=\"#Fluent-Interface-\" data-toc-modified-id=\"Fluent-Interface--6\">Fluent Interface </a></span></li><li><span><a href=\"#Split-hack\" data-toc-modified-id=\"Split-hack-7\">Split hack</a></span></li><li><span><a href=\"#String-formatting\" data-toc-modified-id=\"String-formatting-8\">String formatting</a></span></li><li><span><a href=\"#Takeaways\" data-toc-modified-id=\"Takeaways-9\">Takeaways</a></span></li><li><span><a href=\"#Bonus-Material\" data-toc-modified-id=\"Bonus-Material-10\">Bonus Material</a></span></li><li><span><a href=\"#Convert-`&quot;&quot;.join`-to-a-function\" data-toc-modified-id=\"Convert-`&quot;&quot;.join`-to-a-function-11\">Convert `\"\".join` to a function</a></span></li><li><span><a href=\"#More-on-strings\" data-toc-modified-id=\"More-on-strings-12\">More on strings</a></span></li></ul></div>"
   ]
  },
  {
   "cell_type": "markdown",
   "metadata": {
    "slideshow": {
     "slide_type": "slide"
    }
   },
   "source": [
    "<center><h2>Python's str type</h2></center>"
   ]
  },
  {
   "cell_type": "markdown",
   "metadata": {
    "slideshow": {
     "slide_type": "slide"
    }
   },
   "source": [
    "<center><h2>Learning Outcomes</h2></center>\n",
    "\n",
    "__By the end of this session, you should be able to__:\n",
    "\n",
    "- Use common methods of `str` objects.\n",
    "- Explain why double quotes are better than single quotes for Data Science programming.\n",
    "- Chain commands together with the fluent interface.\n",
    "- Use string formatting to better display data.\n"
   ]
  },
  {
   "cell_type": "markdown",
   "metadata": {},
   "source": [
    "Create a string\n",
    "-----"
   ]
  },
  {
   "cell_type": "code",
   "execution_count": 43,
   "metadata": {},
   "outputs": [],
   "source": [
    "reset -fs"
   ]
  },
  {
   "cell_type": "code",
   "execution_count": 44,
   "metadata": {
    "slideshow": {
     "slide_type": "slide"
    }
   },
   "outputs": [],
   "source": [
    "# Note - I prefer \"\" to ''\n",
    "# \"\" handle the complexity of human language better\n",
    "string = \"Hello, World!\" "
   ]
  },
  {
   "cell_type": "code",
   "execution_count": 45,
   "metadata": {
    "slideshow": {
     "slide_type": "slide"
    }
   },
   "outputs": [
    {
     "data": {
      "text/plain": [
       "str"
      ]
     },
     "execution_count": 45,
     "metadata": {},
     "output_type": "execute_result"
    }
   ],
   "source": [
    "type(string)"
   ]
  },
  {
   "cell_type": "markdown",
   "metadata": {},
   "source": [
    "String methods\n",
    "----"
   ]
  },
  {
   "cell_type": "code",
   "execution_count": 48,
   "metadata": {
    "slideshow": {
     "slide_type": "slide"
    }
   },
   "outputs": [],
   "source": [
    "# str.<tab> \n",
    "# str."
   ]
  },
  {
   "cell_type": "markdown",
   "metadata": {},
   "source": [
    "__How to learn string methods__\n",
    "\n",
    "[Chunking](https://en.wikipedia.org/wiki/Chunking_(psychology)) means breaking items into semantically similar groups. Learn at group level so there is less to learn at one time.\n",
    "\n",
    "Way to chunk to `str` methods:\n",
    "\n",
    "- Sequence methods - `str.index` and similar. Similar to methods on list and tuples\n",
    "\n",
    "- Boolean methods - `str.isalpha` and similar. They check a string for specific conditional\n",
    "\n",
    "- String manipulation - `str.lower` and similar. Returns a new, updated string \n",
    "\n",
    "- Python string specific - `str.encode` and `bytes.decode`. See Unicode notebook"
   ]
  },
  {
   "cell_type": "code",
   "execution_count": 80,
   "metadata": {
    "slideshow": {
     "slide_type": "slide"
    }
   },
   "outputs": [
    {
     "data": {
      "text/plain": [
       "2"
      ]
     },
     "execution_count": 80,
     "metadata": {},
     "output_type": "execute_result"
    }
   ],
   "source": [
    "# Sequence-type methods\n",
    "string.count('o')"
   ]
  },
  {
   "cell_type": "code",
   "execution_count": 81,
   "metadata": {
    "slideshow": {
     "slide_type": "slide"
    }
   },
   "outputs": [
    {
     "data": {
      "text/plain": [
       "'hello, world!'"
      ]
     },
     "execution_count": 81,
     "metadata": {},
     "output_type": "execute_result"
    }
   ],
   "source": [
    "# String specific methods\n",
    "string.lower() "
   ]
  },
  {
   "cell_type": "code",
   "execution_count": 82,
   "metadata": {},
   "outputs": [
    {
     "data": {
      "text/plain": [
       "'Hello, World'"
      ]
     },
     "execution_count": 82,
     "metadata": {},
     "output_type": "execute_result"
    }
   ],
   "source": [
    "# Use str.replace to delete specific characters\n",
    "string.replace(\"!\", \"\")"
   ]
  },
  {
   "cell_type": "code",
   "execution_count": 83,
   "metadata": {
    "slideshow": {
     "slide_type": "slide"
    }
   },
   "outputs": [
    {
     "data": {
      "text/plain": [
       "['Hello,', 'World!']"
      ]
     },
     "execution_count": 83,
     "metadata": {},
     "output_type": "execute_result"
    }
   ],
   "source": [
    "# Separate words into a list\n",
    "# The default separator is white space\n",
    "string.split() #"
   ]
  },
  {
   "cell_type": "code",
   "execution_count": 53,
   "metadata": {
    "slideshow": {
     "slide_type": "slide"
    }
   },
   "outputs": [
    {
     "data": {
      "text/plain": [
       "['Hello', 'world?']"
      ]
     },
     "execution_count": 53,
     "metadata": {},
     "output_type": "execute_result"
    }
   ],
   "source": [
    "# Can take an argument to be more specific about splitting\n",
    "string.split(\", \") "
   ]
  },
  {
   "cell_type": "markdown",
   "metadata": {},
   "source": [
    "Fluent Interface \n",
    "-----\n",
    "\n",
    "Remember functional sandwich, chaining function by nesting them:\n",
    "\n",
    "```python\n",
    "\n",
    "\n",
    "```\n",
    "\n",
    "Fluent interface chains methods.\n",
    "\n",
    "Each method call returns a modified object so that you can call another function on it."
   ]
  },
  {
   "cell_type": "code",
   "execution_count": 77,
   "metadata": {},
   "outputs": [],
   "source": [
    "string = 'Hello, World!'"
   ]
  },
  {
   "cell_type": "code",
   "execution_count": 78,
   "metadata": {},
   "outputs": [
    {
     "data": {
      "text/plain": [
       "['hello', 'world']"
      ]
     },
     "execution_count": 78,
     "metadata": {},
     "output_type": "execute_result"
    }
   ],
   "source": [
    "string.replace(\"!\", \"\").lower().split(\", \")"
   ]
  },
  {
   "cell_type": "code",
   "execution_count": 79,
   "metadata": {},
   "outputs": [
    {
     "data": {
      "text/plain": [
       "['hello', 'world']"
      ]
     },
     "execution_count": 79,
     "metadata": {},
     "output_type": "execute_result"
    }
   ],
   "source": [
    "# Wrap the chained methods in parentheses to split across lines\n",
    "# Easier to read and comment\n",
    "(string             # Starting string\n",
    " .replace(\"!\", \"\")  # Remove punctuation\n",
    " .lower()           # Normalize to lower case\n",
    " .split(\", \")           # Convert to list (not able to call string methods any more)\n",
    ")"
   ]
  },
  {
   "cell_type": "markdown",
   "metadata": {},
   "source": [
    "Pandas also supports fluent interface / method chaining"
   ]
  },
  {
   "cell_type": "code",
   "execution_count": 63,
   "metadata": {},
   "outputs": [],
   "source": [
    "import pandas as pd"
   ]
  },
  {
   "cell_type": "code",
   "execution_count": 64,
   "metadata": {},
   "outputs": [],
   "source": [
    "df = pd.DataFrame(data={'col_1': [10, 20], 'col_2': [30, 40]})"
   ]
  },
  {
   "cell_type": "code",
   "execution_count": 65,
   "metadata": {},
   "outputs": [
    {
     "data": {
      "text/plain": [
       "[10, 20]"
      ]
     },
     "execution_count": 65,
     "metadata": {},
     "output_type": "execute_result"
    }
   ],
   "source": [
    "df.col_1.tolist()"
   ]
  },
  {
   "cell_type": "markdown",
   "metadata": {},
   "source": [
    "<center><h2>Split hack</h2></center>\n",
    "\n",
    "Use `str.split()` to save keystrokes when creating a list of strings"
   ]
  },
  {
   "cell_type": "code",
   "execution_count": 54,
   "metadata": {},
   "outputs": [
    {
     "data": {
      "text/plain": [
       "['red', 'orange', 'yellow', 'green', 'blue', 'violet']"
      ]
     },
     "execution_count": 54,
     "metadata": {},
     "output_type": "execute_result"
    }
   ],
   "source": [
    "rainbow_colors = \"red orange yellow green blue violet\".split()\n",
    "rainbow_colors"
   ]
  },
  {
   "cell_type": "code",
   "execution_count": 55,
   "metadata": {},
   "outputs": [
    {
     "data": {
      "text/plain": [
       "['red', 'orange', 'yellow', 'green', 'blue', 'indigo', 'violet']"
      ]
     },
     "execution_count": 55,
     "metadata": {},
     "output_type": "execute_result"
    }
   ],
   "source": [
    "# Add another color by just typing the word (not adding \"\" and ,)\n",
    "rainbow_colors = \"red orange yellow green blue indigo violet\".split()\n",
    "rainbow_colors"
   ]
  },
  {
   "cell_type": "code",
   "execution_count": 56,
   "metadata": {
    "slideshow": {
     "slide_type": "slide"
    }
   },
   "outputs": [
    {
     "data": {
      "text/plain": [
       "'redorangeyellowgreenblueindigoviolet'"
      ]
     },
     "execution_count": 56,
     "metadata": {},
     "output_type": "execute_result"
    }
   ],
   "source": [
    "# How do we put it back together?\n",
    "\"\".join(rainbow_colors)"
   ]
  },
  {
   "cell_type": "code",
   "execution_count": 57,
   "metadata": {
    "slideshow": {
     "slide_type": "slide"
    }
   },
   "outputs": [
    {
     "data": {
      "text/plain": [
       "'red, orange, yellow, green, blue, indigo, violet'"
      ]
     },
     "execution_count": 57,
     "metadata": {},
     "output_type": "execute_result"
    }
   ],
   "source": [
    "# Accepts joiner string\n",
    "\", \".join(rainbow_colors)"
   ]
  },
  {
   "cell_type": "markdown",
   "metadata": {
    "slideshow": {
     "slide_type": "slide"
    }
   },
   "source": [
    "<center><h2>String formatting</h2></center> "
   ]
  },
  {
   "cell_type": "markdown",
   "metadata": {
    "slideshow": {
     "slide_type": "slide"
    }
   },
   "source": [
    "__Machine-readable vs human-readable__\n",
    "\n",
    "Machine-readable goal is as much precision as possible.\n",
    "\n",
    "Human-readable goal is what is important to understand and make a decision.\n",
    "\n"
   ]
  },
  {
   "cell_type": "code",
   "execution_count": 66,
   "metadata": {
    "slideshow": {
     "slide_type": "slide"
    }
   },
   "outputs": [
    {
     "data": {
      "text/plain": [
       "6.283185307179586"
      ]
     },
     "execution_count": 66,
     "metadata": {},
     "output_type": "execute_result"
    }
   ],
   "source": [
    "# Let's explore tau\n",
    "from math import tau\n",
    "\n",
    "tau"
   ]
  },
  {
   "cell_type": "markdown",
   "metadata": {},
   "source": [
    "Let's format for humans"
   ]
  },
  {
   "cell_type": "code",
   "execution_count": 67,
   "metadata": {},
   "outputs": [
    {
     "data": {
      "text/plain": [
       "'6.283185307179586'"
      ]
     },
     "execution_count": 67,
     "metadata": {},
     "output_type": "execute_result"
    }
   ],
   "source": [
    "str(tau)"
   ]
  },
  {
   "cell_type": "code",
   "execution_count": 68,
   "metadata": {},
   "outputs": [
    {
     "data": {
      "text/plain": [
       "'6.283185307179586'"
      ]
     },
     "execution_count": 68,
     "metadata": {},
     "output_type": "execute_result"
    }
   ],
   "source": [
    "# f means formated string\n",
    "f\"{tau}\""
   ]
  },
  {
   "cell_type": "code",
   "execution_count": 69,
   "metadata": {},
   "outputs": [
    {
     "data": {
      "text/plain": [
       "'6.283185307179586'"
      ]
     },
     "execution_count": 69,
     "metadata": {},
     "output_type": "execute_result"
    }
   ],
   "source": [
    "# Save as above only much more typing\n",
    "\"{}\".format(tau)"
   ]
  },
  {
   "cell_type": "code",
   "execution_count": 76,
   "metadata": {},
   "outputs": [
    {
     "data": {
      "text/plain": [
       "'6.283'"
      ]
     },
     "execution_count": 76,
     "metadata": {},
     "output_type": "execute_result"
    }
   ],
   "source": [
    "# 4 digits of precision, including 1 digit to the left of decimal\n",
    "f\"{tau:.4}\""
   ]
  },
  {
   "cell_type": "code",
   "execution_count": null,
   "metadata": {},
   "outputs": [],
   "source": [
    "# 4 digits of precision of floating point\n",
    "f\"{tau:.4f}\""
   ]
  },
  {
   "cell_type": "code",
   "execution_count": null,
   "metadata": {},
   "outputs": [],
   "source": [
    "# Given a ratio number, return human-centric view as percentage.\n",
    "number_raw = 0.1234\n",
    "f\"{number_raw:.2%}\""
   ]
  },
  {
   "cell_type": "code",
   "execution_count": null,
   "metadata": {},
   "outputs": [],
   "source": [
    "# Automatically rounds\n",
    "number_raw = 0.999999\n",
    "f\"{number_raw:.2%}\""
   ]
  },
  {
   "cell_type": "markdown",
   "metadata": {},
   "source": [
    "String formatting is important when reporting numbers in Data Science.\n",
    "\n",
    "Your manager or the CEO does __not__ want to see all the precision. It hides the important numbers. The first numbers are more important so just present them.\n",
    "\n",
    "Think of string formatting as creating a 'view' of the underlying data for a specific purpose."
   ]
  },
  {
   "cell_type": "markdown",
   "metadata": {},
   "source": [
    "Learn more [here](https://stackabuse.com/formatting-strings-with-python/)"
   ]
  },
  {
   "cell_type": "code",
   "execution_count": null,
   "metadata": {},
   "outputs": [],
   "source": [
    "# %load string_formatting_examples.py\n",
    "\"String formatting examples\"\n",
    "\n",
    "from math import tau\n",
    "\n",
    "# Signficant digits\n",
    "print(f\"τ: {tau:.4%}\")\n",
    "\n",
    "# Print only 2 deciminals\n",
    "print(f\"{tau:.2f}\")\n",
    "\n",
    "# Print as integer\n",
    "print(f\"{tau:.0f}\")\n",
    "\n",
    "# Currency\n",
    "print(f\"${3.66666:.2f}\")\n",
    "\n",
    "# Padding\n",
    "day = 1\n",
    "print(f\"{day:04}\") # Padd to 4 places with zeros\n",
    "\n",
    "# Align\n",
    "print(\"Options: \\t {:>6} {:>6} {:>6} {:>6}\".format(*\"A B C D\".split()))\n",
    "\n",
    "# Center text\n",
    "print(f\"{'foo':^10}\") #=> ' foo '\n",
    "\n",
    "# Unpack list, then format\n",
    "data = [1, 2, 3, 4]\n",
    "print(\"The numbers are {}, {}, {}, and {}\".format(*data))\n",
    "\n",
    "# Pretty print function name\n",
    "def my_function():\n",
    "    pass\n",
    "\n",
    "print(f\" \".join(my_function.__name__.title().split(\"_\")))\n",
    "\n",
    "# Unicode names\n",
    "print(f' \\N{Hatching Chick} ') # 🐣\n",
    "print(f' \\N{long rightwards arrow} ')  # ⟶\n",
    "print(f' \\N{Vulgar Fraction One Quarter} ') # ¼ \n",
    "\n",
    "# Replace datetime.stftime()\n",
    "print(f\"{datetime.now():%m/%d/%y}\") #=> '05/15/19'\n",
    "\n",
    "# Show numbers in another base / notation\n",
    "print(f\"{878:b}\") #=> '1101101110'\n",
    "\n",
    "print(f\"{878:x}\") #=> '36e'\n",
    "\n",
    "print(f\"{878:e}\") #=> '8.780000e+02' \n"
   ]
  },
  {
   "cell_type": "markdown",
   "metadata": {},
   "source": [
    "<center><h2>Takeaways</h2></center>\n",
    "\n",
    "- Default to double quotes to handle human language.\n",
    "- `str` objects have nice methods, use them.\n",
    "- All objects have a fluent interface. Use them to write code more quickly.\n",
    "- Slice `str` like all other sequence objects.\n",
    "- `str` are immutable. Make a new copy (or even better have Python make a new copy for you)\n",
    "- String formatting allows you to write more human-readable strings, especially for numbers.\n"
   ]
  },
  {
   "cell_type": "markdown",
   "metadata": {
    "slideshow": {
     "slide_type": "slide"
    }
   },
   "source": [
    " "
   ]
  },
  {
   "cell_type": "markdown",
   "metadata": {},
   "source": [
    "Bonus Material\n",
    "----"
   ]
  },
  {
   "cell_type": "markdown",
   "metadata": {
    "slideshow": {
     "slide_type": "slide"
    }
   },
   "source": [
    "One way to update immutable strings\n",
    "-----"
   ]
  },
  {
   "cell_type": "code",
   "execution_count": 46,
   "metadata": {},
   "outputs": [],
   "source": [
    "# string = \"Hello, world!\" \n",
    "\n",
    "# string[-1] = \"?\"# string = \"Hello, world!\" \n",
    "\n",
    "# string[-1] = \"?\""
   ]
  },
  {
   "cell_type": "code",
   "execution_count": 47,
   "metadata": {},
   "outputs": [
    {
     "data": {
      "text/plain": [
       "'Hello, world?'"
      ]
     },
     "execution_count": 47,
     "metadata": {},
     "output_type": "execute_result"
    }
   ],
   "source": [
    "# Update and re-assign pattern\n",
    "string = \"Hello, world!\" \n",
    "string = string[:-1] + \"?\"\n",
    "string"
   ]
  },
  {
   "cell_type": "markdown",
   "metadata": {},
   "source": [
    "<center><h2>Convert `\"\".join` to a function</h2></center>"
   ]
  },
  {
   "cell_type": "code",
   "execution_count": 58,
   "metadata": {
    "slideshow": {
     "slide_type": "slide"
    }
   },
   "outputs": [],
   "source": [
    "# Convert that odd syntax to a function\n",
    "cat = \"\".join # Short for conCATenate"
   ]
  },
  {
   "cell_type": "code",
   "execution_count": 59,
   "metadata": {
    "slideshow": {
     "slide_type": "slide"
    }
   },
   "outputs": [
    {
     "data": {
      "text/plain": [
       "'redorangeyellowgreenblueindigoviolet'"
      ]
     },
     "execution_count": 59,
     "metadata": {},
     "output_type": "execute_result"
    }
   ],
   "source": [
    "# What is this going to return?\n",
    "cat(rainbow_colors)"
   ]
  },
  {
   "cell_type": "markdown",
   "metadata": {},
   "source": [
    "HT: Peter Norvig"
   ]
  },
  {
   "cell_type": "markdown",
   "metadata": {},
   "source": [
    "<center><img src=\"https://imgs.xkcd.com/comics/coordinate_precision.png\" width=\"75%\"/></center>"
   ]
  },
  {
   "cell_type": "code",
   "execution_count": 72,
   "metadata": {},
   "outputs": [
    {
     "data": {
      "text/plain": [
       "'rleoldwl ho'"
      ]
     },
     "execution_count": 72,
     "metadata": {},
     "output_type": "execute_result"
    }
   ],
   "source": [
    "# Generate random strings\n",
    "\n",
    "from random import sample\n",
    "\n",
    "s = 'hello world'\n",
    "''.join(sample(s, k=len(s)))"
   ]
  },
  {
   "cell_type": "code",
   "execution_count": 73,
   "metadata": {},
   "outputs": [
    {
     "data": {
      "text/plain": [
       "'Hello, world!'"
      ]
     },
     "execution_count": 73,
     "metadata": {},
     "output_type": "execute_result"
    }
   ],
   "source": [
    "# Reduce with a string\n",
    "\n",
    "from functools import reduce\n",
    "\n",
    "letters = ['H', 'e', 'l', 'l', 'o', ',', ' ', 'w', 'o', 'r', 'l', 'd', '!']\n",
    "\n",
    "reduce(lambda phrase, letter: phrase+letter, letters)"
   ]
  },
  {
   "cell_type": "markdown",
   "metadata": {},
   "source": [
    "More on strings\n",
    "------\n",
    "\n",
    "- https://developers.google.com/edu/python/strings)\n",
    "- https://www.listendata.com/2019/06/python-string-functions.html"
   ]
  },
  {
   "cell_type": "markdown",
   "metadata": {},
   "source": [
    " "
   ]
  }
 ],
 "metadata": {
  "celltoolbar": "Raw Cell Format",
  "kernelspec": {
   "display_name": "Python 3",
   "language": "python",
   "name": "python3"
  },
  "language_info": {
   "codemirror_mode": {
    "name": "ipython",
    "version": 3
   },
   "file_extension": ".py",
   "mimetype": "text/x-python",
   "name": "python",
   "nbconvert_exporter": "python",
   "pygments_lexer": "ipython3",
   "version": "3.8.3"
  },
  "toc": {
   "base_numbering": 1,
   "nav_menu": {},
   "number_sections": false,
   "sideBar": false,
   "skip_h1_title": false,
   "title_cell": "Table of Contents",
   "title_sidebar": "Contents",
   "toc_cell": true,
   "toc_position": {},
   "toc_section_display": true,
   "toc_window_display": false
  }
 },
 "nbformat": 4,
 "nbformat_minor": 2
}
