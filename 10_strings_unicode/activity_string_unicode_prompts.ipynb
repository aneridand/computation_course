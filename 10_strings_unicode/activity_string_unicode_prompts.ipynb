{
 "cells": [
  {
   "cell_type": "markdown",
   "metadata": {
    "toc": true
   },
   "source": [
    "<h1>Table of Contents<span class=\"tocSkip\"></span></h1>\n",
    "<div class=\"toc\"><ul class=\"toc-item\"><li><span><a href=\"#Instructions\" data-toc-modified-id=\"Instructions-1\">Instructions</a></span></li><li><span><a href=\"#Covert-Unicode-numbers-to-a-string\" data-toc-modified-id=\"Covert-Unicode-numbers-to-a-string-2\">Covert Unicode numbers to a string</a></span></li><li><span><a href=\"#Create-a-credit-card-mask\" data-toc-modified-id=\"Create-a-credit-card-mask-3\">Create a credit card mask</a></span></li><li><span><a href=\"#Find-first-non-repeating-character-in-a-string\" data-toc-modified-id=\"Find-first-non-repeating-character-in-a-string-4\">Find first non-repeating character in a string</a></span></li><li><span><a href=\"#Create-human-readable-numbers-with-commas-and-significant-digits\" data-toc-modified-id=\"Create-human-readable-numbers-with-commas-and-significant-digits-5\">Create human readable numbers with commas and significant digits</a></span></li><li><span><a href=\"#Convert-CamelCase-to-snake_case\" data-toc-modified-id=\"Convert-CamelCase-to-snake_case-6\">Convert CamelCase to snake_case</a></span></li><li><span><a href=\"#Always-a-string\" data-toc-modified-id=\"Always-a-string-7\">Always a string</a></span></li></ul></div>"
   ]
  },
  {
   "cell_type": "markdown",
   "metadata": {},
   "source": [
    "Instructions\n",
    "--------\n",
    "\n",
    "- __First thing__ - Change the name of this file to avoid a [merge conflict](https://docs.github.com/en/github/getting-started-with-github/github-glossary#merge-conflict) with GitHub.\n",
    "- You should type every character for the following activities. \n",
    "- Work together with your peers in the same shared code environment. The following environments allow the importation of Jupyter Notebook from GitHub urls:\n",
    "    - [Google Colab](https://colab.research.google.com)\n",
    "    - [Deepnote](https://deepnote.com/)\n",
    "- These activities are not graded.\n",
    "- They are open resource - feel free to reference documentation, books, videos, and any other resource.\n",
    "- Attempt each problem. If stuck, move onto next one and come back to a difficult problem.\n",
    "- During class:\n",
    "    - Brian will bounce between breakout rooms. Feel free to ask questions or just ignore him.\n",
    "    - After your group has finished, leave your breakout room and return to the main room."
   ]
  },
  {
   "cell_type": "code",
   "execution_count": 80,
   "metadata": {},
   "outputs": [],
   "source": [
    "reset -fs"
   ]
  },
  {
   "cell_type": "markdown",
   "metadata": {},
   "source": [
    "Covert Unicode numbers to a string\n",
    "-------\n",
    "\n",
    "Convert a list of Unicode code points into a string.\n"
   ]
  },
  {
   "cell_type": "code",
   "execution_count": 81,
   "metadata": {},
   "outputs": [],
   "source": [
    "from typing import List \n",
    "\n",
    "def to_string(nums: List[int]) -> str:\n",
    "    \n",
    "    pass # TODO: Delete pass and write your code.\n",
    "    \n",
    "\n",
    "def test_to_string(to_string):\n",
    "    \n",
    "    assert to_string([97, 98, 99])   == \"abc\"\n",
    "    assert to_string([99, 97, 116])  == \"cat\"\n",
    "    assert to_string([128525, 9749]) == '😍☕'\n",
    "\n",
    "    return \"All tests pass 🙂\"\n",
    "\n",
    "# test_to_string(to_string)"
   ]
  },
  {
   "cell_type": "markdown",
   "metadata": {},
   "source": [
    "Create a credit card mask\n",
    "-----\n",
    "\n",
    "Make a credit card mask that covers all but the last 4 digits of a number\n",
    "\n",
    "Try to do it in a single line"
   ]
  },
  {
   "cell_type": "code",
   "execution_count": 83,
   "metadata": {},
   "outputs": [],
   "source": [
    "def maskify(string: str) -> str:\n",
    "    \n",
    "    pass # TODO: Delete pass and write your code.\n",
    "\n",
    "\n",
    "def test_maskify(maskify):\n",
    "    \n",
    "    assert maskify(               \"1\") ==                \"1\"\n",
    "    assert maskify(            \"4321\") ==             \"4321\"\n",
    "    assert maskify(           \"54321\") ==            \"#4321\"\n",
    "    assert maskify(     \"64607935616\") ==      \"#######5616\"\n",
    "    assert maskify(\"4556364607935616\") == \"############5616\"\n",
    "\n",
    "    return \"All tests pass 🙂\"\n",
    "\n",
    "# test_maskify(maskify)"
   ]
  },
  {
   "cell_type": "markdown",
   "metadata": {},
   "source": [
    "Find first non-repeating character in a string\n",
    "------\n",
    "\n",
    "Given a string, find the left-most character that does not occur again in the string.\n",
    "\n",
    "Assume there is at least one non-repeating character."
   ]
  },
  {
   "cell_type": "code",
   "execution_count": 93,
   "metadata": {},
   "outputs": [],
   "source": [
    "def first_nonrepeating_character(string: str) -> str:\n",
    "    \n",
    "    pass # TODO: Delete pass and write your code.\n",
    "    \n",
    "def test_first_nonrepeating_character(first_nonrepeating_character):\n",
    "    \n",
    "    assert first_nonrepeating_character(\"aaabccdeeef\") == \"b\"\n",
    "    assert first_nonrepeating_character(\"abcbad\") == \"c\"\n",
    "\n",
    "    return \"All tests pass 🙂\"\n",
    "\n",
    "# test_first_nonrepeating_character(first_nonrepeating_character)"
   ]
  },
  {
   "cell_type": "markdown",
   "metadata": {},
   "source": [
    "Create human readable numbers with commas and significant digits\n",
    "----\n",
    "\n",
    "Given a big number, return human-centric view with commas and only 2 decimals of precision.\n",
    "\n",
    "This is very useful when presenting to executives who are easily confused by complicated numbers."
   ]
  },
  {
   "cell_type": "code",
   "execution_count": 87,
   "metadata": {},
   "outputs": [],
   "source": [
    "def human_readable(number_raw: float) -> str:\n",
    "    \n",
    "    pass # TODO: Delete pass and write your code.\n",
    "\n",
    "def test_human_readable(human_readable):\n",
    "    \n",
    "    assert human_readable(123456.789) == '123,456.79'\n",
    "    assert human_readable(333222999.3666666) == '333,222,999.37'\n",
    "    assert human_readable(-1234.5638) == '-1,234.56'\n",
    "    \n",
    "    return \"All tests pass 🙂\"\n",
    "\n",
    "# test_human_readable(human_readable)"
   ]
  },
  {
   "cell_type": "markdown",
   "metadata": {},
   "source": [
    "Convert CamelCase to snake_case\n",
    "-----\n",
    "\n",
    "Write a function that converts a string in CamelCase to snake_case\n",
    "\n",
    "Hint - f strings might be useful.\n"
   ]
  },
  {
   "cell_type": "code",
   "execution_count": 89,
   "metadata": {},
   "outputs": [],
   "source": [
    "def to_snake_case(string: str) -> str:\n",
    "\n",
    "    pass # TODO: Delete pass and write your code.\n",
    "    \n",
    "def test_to_snake_case(to_snake_case):\n",
    "    \n",
    "    assert to_snake_case('TestController') == 'test_controller'\n",
    "    assert to_snake_case('MoviesAndBooks') == 'movies_and_books'\n",
    "    assert to_snake_case('App7Test')       == 'app7_test'\n",
    "\n",
    "    return \"All tests pass 🙂\"\n",
    "\n",
    "# test_to_snake_case(to_snake_case)"
   ]
  },
  {
   "cell_type": "markdown",
   "metadata": {},
   "source": [
    "Always a string\n",
    "------\n",
    "\n",
    "Write a function that always returns a Python `str` (Unicode string) regardless if the input is a Unicode string or a byte string.\n",
    "\n",
    "Assume utf-8 encoding for a byte string."
   ]
  },
  {
   "cell_type": "code",
   "execution_count": 95,
   "metadata": {},
   "outputs": [],
   "source": [
    "from typing import Union\n",
    "\n",
    "def to_str(unknown_string: Union[str, bytes]) -> str:\n",
    "    \n",
    "    pass # TODO: Delete pass and write your code.\n",
    "    \n",
    "def test_to_str(to_str):\n",
    "\n",
    "    # If string, return string itself\n",
    "    assert type(to_str(\"hi\")) == str\n",
    "    assert to_str(\"hi\") == \"hi\"\n",
    "\n",
    "    # If byte string, convert to string\n",
    "    assert type(to_str(b\"\\xe2\\x82\\xac20\")) == str\n",
    "    assert to_str(b\"\\xe2\\x82\\xac20\") == \"€20\"\n",
    "    \n",
    "    return \"All tests pass 🙂\"\n",
    "\n",
    "# test_to_str(to_str)"
   ]
  },
  {
   "cell_type": "markdown",
   "metadata": {},
   "source": [
    "<br>\n",
    "<br> \n",
    "<br>\n",
    "\n",
    "----"
   ]
  }
 ],
 "metadata": {
  "kernelspec": {
   "display_name": "Python 3",
   "language": "python",
   "name": "python3"
  },
  "language_info": {
   "codemirror_mode": {
    "name": "ipython",
    "version": 3
   },
   "file_extension": ".py",
   "mimetype": "text/x-python",
   "name": "python",
   "nbconvert_exporter": "python",
   "pygments_lexer": "ipython3",
   "version": "3.8.3"
  },
  "toc": {
   "base_numbering": 1,
   "nav_menu": {},
   "number_sections": false,
   "sideBar": false,
   "skip_h1_title": false,
   "title_cell": "Table of Contents",
   "title_sidebar": "Contents",
   "toc_cell": true,
   "toc_position": {},
   "toc_section_display": true,
   "toc_window_display": false
  }
 },
 "nbformat": 4,
 "nbformat_minor": 4
}
