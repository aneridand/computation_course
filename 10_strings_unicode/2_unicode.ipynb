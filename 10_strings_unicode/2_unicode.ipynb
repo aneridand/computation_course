{
 "cells": [
  {
   "cell_type": "markdown",
   "metadata": {
    "slideshow": {
     "slide_type": "skip"
    },
    "toc": true
   },
   "source": [
    "<h1>Table of Contents<span class=\"tocSkip\"></span></h1>\n",
    "<div class=\"toc\"><ul class=\"toc-item\"><li><span><a href=\"#Hacking-Unicode\" data-toc-modified-id=\"Hacking-Unicode-1\">Hacking Unicode</a></span></li><li><span><a href=\"#Learning-Outcomes\" data-toc-modified-id=\"Learning-Outcomes-2\">Learning Outcomes</a></span></li><li><span><a href=\"#Human-readable-vs-Machine-readable\" data-toc-modified-id=\"Human-readable-vs-Machine-readable-3\">Human-readable vs Machine-readable</a></span></li><li><span><a href=\"#Unicode-Sandwich\" data-toc-modified-id=\"Unicode-Sandwich-4\">Unicode Sandwich</a></span></li><li><span><a href=\"#Decode-vs-Encode\" data-toc-modified-id=\"Decode-vs-Encode-5\">Decode vs Encode</a></span></li><li><span><a href=\"#Encode\" data-toc-modified-id=\"Encode-6\">Encode</a></span></li><li><span><a href=\"#Decode-from-bytes-to-text\" data-toc-modified-id=\"Decode-from-bytes-to-text-7\">Decode from bytes to text</a></span></li><li><span><a href=\"#The-Golden-Rule-for-Encoding-\" data-toc-modified-id=\"The-Golden-Rule-for-Encoding--8\">The Golden Rule for Encoding </a></span></li><li><span><a href=\"#How-do-find-out-which-encoding-was-used?\" data-toc-modified-id=\"How-do-find-out-which-encoding-was-used?-9\">How do find out which encoding was used?</a></span></li><li><span><a href=\"#Tell-Others-the-Encoding-when-you-write-plain-text-files\" data-toc-modified-id=\"Tell-Others-the-Encoding-when-you-write-plain-text-files-10\">Tell Others the Encoding when you write plain text files</a></span></li><li><span><a href=\"#What-is-Unicode?\" data-toc-modified-id=\"What-is-Unicode?-11\">What is Unicode?</a></span></li><li><span><a href=\"#Unicode-Table\" data-toc-modified-id=\"Unicode-Table-12\">Unicode Table</a></span></li><li><span><a href=\"#Each-character-symbol-is-platform-specific\" data-toc-modified-id=\"Each-character-symbol-is-platform-specific-13\">Each character symbol is platform specific</a></span></li><li><span><a href=\"#Converting-from-str-to-Unicode-in-Python\" data-toc-modified-id=\"Converting-from-str-to-Unicode-in-Python-14\">Converting from str to Unicode in Python</a></span></li><li><span><a href=\"#Check-for-understanding\" data-toc-modified-id=\"Check-for-understanding-15\">Check for understanding</a></span></li><li><span><a href=\"#Summary-Thus-Far\" data-toc-modified-id=\"Summary-Thus-Far-16\">Summary Thus Far</a></span></li><li><span><a href=\"#Unicode-is-the-best-we-have-but-text-can-still-broken\" data-toc-modified-id=\"Unicode-is-the-best-we-have-but-text-can-still-broken-17\">Unicode is the best we have but text can still broken</a></span></li><li><span><a href=\"#That-is-Mojibake\" data-toc-modified-id=\"That-is-Mojibake-18\">That is Mojibake</a></span></li><li><span><a href=\"#What-is-mojibake?\" data-toc-modified-id=\"What-is-mojibake?-19\">What is mojibake?</a></span></li><li><span><a href=\"#Why-mojibake?\" data-toc-modified-id=\"Why-mojibake?-20\">Why mojibake?</a></span></li><li><span><a href=\"#ftfy-FTW\" data-toc-modified-id=\"ftfy-FTW-21\">ftfy FTW</a></span></li><li><span><a href=\"#Takeaways\" data-toc-modified-id=\"Takeaways-22\">Takeaways</a></span></li><li><span><a href=\"#Bonus-Material\" data-toc-modified-id=\"Bonus-Material-23\">Bonus Material</a></span></li><li><span><a href=\"#Relationship-between-decimal,-binary,-and-hexidecimal\" data-toc-modified-id=\"Relationship-between-decimal,-binary,-and-hexidecimal-24\">Relationship between decimal, binary, and hexidecimal</a></span></li><li><span><a href=\"#chardet-package\" data-toc-modified-id=\"chardet-package-25\">chardet package</a></span></li><li><span><a href=\"#Unicode-12\" data-toc-modified-id=\"Unicode-12-26\">Unicode 12</a></span></li><li><span><a href=\"#iPhone-Unicode-Message-of-Death\" data-toc-modified-id=\"iPhone-Unicode-Message-of-Death-27\">iPhone Unicode Message of Death</a></span></li><li><span><a href=\"#What-is-difference-between-ASCII-and-Unicode?\" data-toc-modified-id=\"What-is-difference-between-ASCII-and-Unicode?-28\">What is difference between ASCII and Unicode?</a></span></li><li><span><a href=\"#Unicode-basics-overview\" data-toc-modified-id=\"Unicode-basics-overview-29\"><a href=\"http://python-notes.curiousefficiency.org/en/latest/python3/text_file_processing.html#unicode-basics\" target=\"_blank\">Unicode basics overview</a></a></span></li></ul></div>"
   ]
  },
  {
   "cell_type": "markdown",
   "metadata": {
    "slideshow": {
     "slide_type": "slide"
    }
   },
   "source": [
    "<center><h2>Hacking Unicode</h2></center>\n",
    "\n",
    "<center><img src=\"../images/chacter_encoding.png\" width=\"85%\"/></center>"
   ]
  },
  {
   "cell_type": "markdown",
   "metadata": {
    "slideshow": {
     "slide_type": "slide"
    }
   },
   "source": [
    "<center><h2>Learning Outcomes</h2></center>\n",
    "\n",
    "__By the end of this session, you should be able to__:\n",
    "\n",
    "- Describe what an Unicode sandwich is.\n",
    "- Find and fix Unicode encoding errors.\n",
    "- Make your way out of Unicode Hell (I'm your Virgil)."
   ]
  },
  {
   "cell_type": "markdown",
   "metadata": {
    "slideshow": {
     "slide_type": "slide"
    }
   },
   "source": [
    "<center><h2>Human-readable vs Machine-readable</h2></center>\n",
    "\n",
    "> Humans prefer text / strings .  \n",
    "> Computers prefer numbers / bytes.  "
   ]
  },
  {
   "cell_type": "markdown",
   "metadata": {
    "slideshow": {
     "slide_type": "slide"
    }
   },
   "source": [
    "<center><img src=\"../images/python-io-boundary-issue.svg\" width=\"75%\"/></center>\n",
    "\n",
    "IO (Input-Output) is how data gets into and out of a computer system."
   ]
  },
  {
   "cell_type": "markdown",
   "metadata": {
    "slideshow": {
     "slide_type": "skip"
    }
   },
   "source": [
    "<center><h2>Unicode Sandwich</h2></center>"
   ]
  },
  {
   "cell_type": "markdown",
   "metadata": {
    "slideshow": {
     "slide_type": "slide"
    }
   },
   "source": [
    "<center><img src=\"../images/unicode_sammy.jpg\" width=\"100%\"/></center>\n",
    "\n",
    "<center>(only popular in Silicon Valley)</center>\n",
    "\n",
    "- The bread should be thin (decode ASAP; encode as late as possible).\n",
    "- The meat should be thick (business logic)."
   ]
  },
  {
   "cell_type": "markdown",
   "metadata": {
    "slideshow": {
     "slide_type": "skip"
    }
   },
   "source": [
    "[Source](https://www.safaribooksonline.com/library/view/fluent-python/9781491946237/images/flup_0402.png.jpg)"
   ]
  },
  {
   "cell_type": "markdown",
   "metadata": {
    "slideshow": {
     "slide_type": "slide"
    }
   },
   "source": [
    "<center><img src=\"http://1.bp.blogspot.com/-m4BldtOr4gw/UvzKDSP_YNI/AAAAAAAABGI/GgfyUAQuaQU/s1600/UnicodeSandwich.PNG\" width=\"75%\"/></center>"
   ]
  },
  {
   "cell_type": "markdown",
   "metadata": {
    "slideshow": {
     "slide_type": "slide"
    }
   },
   "source": [
    "<center><h2>Decode vs Encode</h2></center>\n",
    "\n",
    "\n",
    "<center><img src=\"../images/py3_string_bytes.png\" width=\"75%\"/></center>"
   ]
  },
  {
   "cell_type": "markdown",
   "metadata": {
    "slideshow": {
     "slide_type": "slide"
    }
   },
   "source": [
    "Encode\n",
    "-----\n",
    "\n",
    "Encode = \"in code\""
   ]
  },
  {
   "cell_type": "code",
   "execution_count": 70,
   "metadata": {
    "slideshow": {
     "slide_type": "fragment"
    }
   },
   "outputs": [
    {
     "data": {
      "text/plain": [
       "b'caf\\xc3\\xa9'"
      ]
     },
     "execution_count": 70,
     "metadata": {},
     "output_type": "execute_result"
    }
   ],
   "source": [
    "s = 'café' # Human-readable\n",
    "s.encode('utf-8') # Translate to computer readable bytes"
   ]
  },
  {
   "cell_type": "code",
   "execution_count": 71,
   "metadata": {
    "slideshow": {
     "slide_type": "fragment"
    }
   },
   "outputs": [
    {
     "data": {
      "text/plain": [
       "b'\\xff\\xfec\\x00a\\x00f\\x00\\xe9\\x00'"
      ]
     },
     "execution_count": 71,
     "metadata": {},
     "output_type": "execute_result"
    }
   ],
   "source": [
    "s.encode('utf-16') # Translate to different computer dialect"
   ]
  },
  {
   "cell_type": "markdown",
   "metadata": {
    "slideshow": {
     "slide_type": "slide"
    }
   },
   "source": [
    "Decode from bytes to text\n",
    "-----"
   ]
  },
  {
   "cell_type": "code",
   "execution_count": 42,
   "metadata": {
    "slideshow": {
     "slide_type": "fragment"
    }
   },
   "outputs": [],
   "source": [
    "# Given a byte string\n",
    "b = b'caf\\xc3\\xa9'"
   ]
  },
  {
   "cell_type": "code",
   "execution_count": 69,
   "metadata": {},
   "outputs": [
    {
     "data": {
      "text/plain": [
       "bytes"
      ]
     },
     "execution_count": 69,
     "metadata": {},
     "output_type": "execute_result"
    }
   ],
   "source": [
    "# This is not a `str` !\n",
    "type(b)"
   ]
  },
  {
   "cell_type": "code",
   "execution_count": 43,
   "metadata": {
    "slideshow": {
     "slide_type": "fragment"
    }
   },
   "outputs": [
    {
     "data": {
      "text/plain": [
       "'café'"
      ]
     },
     "execution_count": 43,
     "metadata": {},
     "output_type": "execute_result"
    }
   ],
   "source": [
    "b.decode()"
   ]
  },
  {
   "cell_type": "code",
   "execution_count": 44,
   "metadata": {
    "slideshow": {
     "slide_type": "fragment"
    }
   },
   "outputs": [
    {
     "data": {
      "text/plain": [
       "'café'"
      ]
     },
     "execution_count": 44,
     "metadata": {},
     "output_type": "execute_result"
    }
   ],
   "source": [
    "b.decode('utf-8') # utf-8 is the default encoding and typically the best guess."
   ]
  },
  {
   "cell_type": "code",
   "execution_count": 45,
   "metadata": {
    "slideshow": {
     "slide_type": "fragment"
    }
   },
   "outputs": [
    {
     "data": {
      "text/plain": [
       "'cafÃ©'"
      ]
     },
     "execution_count": 45,
     "metadata": {},
     "output_type": "execute_result"
    }
   ],
   "source": [
    "# Encoding is a decoder ring setting.\n",
    "b.decode('latin') # Try a different encoding"
   ]
  },
  {
   "cell_type": "markdown",
   "metadata": {
    "slideshow": {
     "slide_type": "slide"
    }
   },
   "source": [
    "<center><img src=\"../images/cafe.png\" width=\"75%\"/></center>"
   ]
  },
  {
   "cell_type": "markdown",
   "metadata": {
    "slideshow": {
     "slide_type": "slide"
    }
   },
   "source": [
    "The Golden Rule for Encoding \n",
    "----\n",
    "\n",
    "Be very accepting of alternative text encodings (e.g., Latin-1, Shift JIS, and Big5)."
   ]
  },
  {
   "cell_type": "markdown",
   "metadata": {
    "slideshow": {
     "slide_type": "fragment"
    }
   },
   "source": [
    "Be nice to others by only encoding text with __UTF-8__."
   ]
  },
  {
   "cell_type": "markdown",
   "metadata": {
    "slideshow": {
     "slide_type": "slide"
    }
   },
   "source": [
    "How do find out which encoding was used?\n",
    "-----"
   ]
  },
  {
   "cell_type": "markdown",
   "metadata": {
    "slideshow": {
     "slide_type": "fragment"
    }
   },
   "source": [
    "__You don't!__\n",
    "\n",
    "You should be told."
   ]
  },
  {
   "cell_type": "markdown",
   "metadata": {
    "slideshow": {
     "slide_type": "slide"
    }
   },
   "source": [
    "<center><h2>Tell Others the Encoding when you write plain text files</h2></center>\n",
    "\n",
    "\n",
    "The proper way to start all .py files:\n",
    "\n",
    "```python\n",
    "#!/usr/bin/env python\n",
    "# coding: utf-8\n",
    "\"File/module level docstring\"\n",
    "```\n",
    "\n",
    "The first line tells a command line interface to run the file as a Python program."
   ]
  },
  {
   "cell_type": "markdown",
   "metadata": {
    "slideshow": {
     "slide_type": "slide"
    }
   },
   "source": [
    "<center><h2>What is Unicode?</h2></center>\n",
    "\n",
    "Unicode (1 code to rule them all) is a mapping between code points (numbers) and all human characters.\n",
    "\n",
    "Unicode provides a unique number for every character!"
   ]
  },
  {
   "cell_type": "markdown",
   "metadata": {
    "slideshow": {
     "slide_type": "fragment"
    }
   },
   "source": [
    "> No matter what the platform.  \n",
    "> No matter what the language.     \n",
    "> No matter what the program.   "
   ]
  },
  {
   "cell_type": "markdown",
   "metadata": {
    "slideshow": {
     "slide_type": "skip"
    }
   },
   "source": [
    "[Source](http://www.unicode.org/standard/WhatIsUnicode.html)"
   ]
  },
  {
   "cell_type": "markdown",
   "metadata": {
    "slideshow": {
     "slide_type": "slide"
    }
   },
   "source": [
    "<center><h2>Unicode Table</h2></center>\n",
    "\n",
    "All the great characters: [Unicode Table](http://unicode-table.com/en/#0014)\n",
    "\n",
    "A mapping from every digitized human symbol to a single specific number, a Unicode code point.\n",
    "\n",
    "Typically, Unicode code points are in hexidecimal / base-16.\n",
    "\n",
    "In Python, Unicode code points are in decimal / `int`."
   ]
  },
  {
   "cell_type": "markdown",
   "metadata": {},
   "source": [
    "<center><h2>Each character symbol is platform specific</h2></center>\n",
    "\n",
    "[Emojipedia](https://emojipedia.org/) displays the variations for each emoji by platform.\n",
    "\n",
    "The best example is \"pistol\". [\"Pistol\"](https://emojipedia.org/pistol/) is very different across different platforms."
   ]
  },
  {
   "cell_type": "markdown",
   "metadata": {},
   "source": [
    "<center><h2>Converting from str to Unicode in Python</h2></center>"
   ]
  },
  {
   "cell_type": "code",
   "execution_count": 72,
   "metadata": {
    "slideshow": {
     "slide_type": "slide"
    }
   },
   "outputs": [
    {
     "data": {
      "text/plain": [
       "128054"
      ]
     },
     "execution_count": 72,
     "metadata": {},
     "output_type": "execute_result"
    }
   ],
   "source": [
    "# Use ord function to get the Unicode code point as int for a str\n",
    "s = \"🐶\"\n",
    "ord(s)"
   ]
  },
  {
   "cell_type": "code",
   "execution_count": 47,
   "metadata": {
    "slideshow": {
     "slide_type": "skip"
    }
   },
   "outputs": [
    {
     "data": {
      "text/plain": [
       "[108, 76, 955, 128054]"
      ]
     },
     "execution_count": 47,
     "metadata": {},
     "output_type": "execute_result"
    }
   ],
   "source": [
    "# Let's check the representations of: l, L, λ, 🐶\n",
    "\n",
    "[ord(c) for c in \"lLλ🐶\"]"
   ]
  },
  {
   "cell_type": "code",
   "execution_count": 48,
   "metadata": {
    "slideshow": {
     "slide_type": "slide"
    }
   },
   "outputs": [
    {
     "name": "stdout",
     "output_type": "stream",
     "text": [
      "True\n",
      "98 97\n",
      "True\n",
      "97 65\n"
     ]
    }
   ],
   "source": [
    "# Those numerical representations allow us to compare strings\n",
    "\n",
    "print('b' > 'a')\n",
    "print(ord('b'), ord('a'))"
   ]
  },
  {
   "cell_type": "code",
   "execution_count": null,
   "metadata": {},
   "outputs": [],
   "source": [
    "print('a' > 'A')\n",
    "print(ord('a'), ord('A'))"
   ]
  },
  {
   "cell_type": "code",
   "execution_count": 49,
   "metadata": {
    "slideshow": {
     "slide_type": "slide"
    }
   },
   "outputs": [
    {
     "data": {
      "text/plain": [
       "'🐶'"
      ]
     },
     "execution_count": 49,
     "metadata": {},
     "output_type": "execute_result"
    }
   ],
   "source": [
    "# Use chr to get the str for int (aka Unicode code point)\n",
    "chr(128054)"
   ]
  },
  {
   "cell_type": "markdown",
   "metadata": {},
   "source": [
    "<center><h2>Check for understanding</h2></center>\n",
    "\n",
    "What is the difference between `ord` / `chr` and `str.encode` / `bytes.decode`?\n",
    "\n",
    "<br>\n",
    "<details><summary>\n",
    "Click here for a solution…\n",
    "</summary>\n",
    "<br>\n",
    "ord and chr are built-in functions that take in a single argument. The result of ord is a int.\n",
    "<br>\n",
    "<br>\n",
    "str.encode and bytes.decode are methods that in a sequence. The result of str.encode is a sequence of bytes.\n",
    "</details>"
   ]
  },
  {
   "cell_type": "markdown",
   "metadata": {
    "slideshow": {
     "slide_type": "slide"
    }
   },
   "source": [
    "Summary Thus Far\n",
    "------\n",
    "\n",
    "- All data has a numerical representation in a computer. That numerical representation is bytes on disk.\n",
    "- When we load data of disk, we read those bytes. Those bytes could be anything (e.g., text, images, video).\n",
    "- If we think they are text, we have to decode those bytes into Unicode strings for Python to use them as `str`.\n",
    "- We decode with an type of encoding (e.g., utf-8).\n",
    "- Once we have `str` in memory, we can use built-in functions or `str` methods."
   ]
  },
  {
   "cell_type": "markdown",
   "metadata": {
    "slideshow": {
     "slide_type": "slide"
    }
   },
   "source": [
    "<center><h2>Unicode is the best we have but text can still broken</h2></center>\n",
    "\n",
    "<center><img src=\"http://imgs.xkcd.com/comics/unicode.png\" width=\"45%\"/></center>"
   ]
  },
  {
   "cell_type": "code",
   "execution_count": 65,
   "metadata": {},
   "outputs": [
    {
     "data": {
      "text/plain": [
       "'cafÃ©'"
      ]
     },
     "execution_count": 65,
     "metadata": {},
     "output_type": "execute_result"
    }
   ],
   "source": [
    "# What happens if I have \"random\" characters in string?\n",
    "b = b'caf\\xc3\\xa9'\n",
    "messed_up = b.decode('latin') \n",
    "messed_up"
   ]
  },
  {
   "cell_type": "markdown",
   "metadata": {
    "slideshow": {
     "slide_type": "slide"
    }
   },
   "source": [
    "<center><img src=\"http://replygif.net/thumbnail/100.gif\" width=\"80%\"/></center>"
   ]
  },
  {
   "cell_type": "markdown",
   "metadata": {
    "collapsed": true,
    "slideshow": {
     "slide_type": "slide"
    }
   },
   "source": [
    "<center><h2>That is Mojibake</h2></center>\n",
    "\n",
    "<center><img src=\"http://s3.media.squarespace.com/production/920827/11462743/_wGr8njEWjtI/S_4ELCN3k7I/AAAAAAAAI3g/0wqbEFX0yjw/s1600/julian%2Bn.ow.thai%2Bfont%2B%2528story%2529.jpg\" width=\"55%\"/></center>"
   ]
  },
  {
   "cell_type": "markdown",
   "metadata": {
    "slideshow": {
     "slide_type": "slide"
    }
   },
   "source": [
    "<center><h2>What is mojibake?</h2></center>\n",
    "\n",
    "<center>Incorrect, unreadable characters shown when computer software fails to show text correctly. </center>"
   ]
  },
  {
   "cell_type": "markdown",
   "metadata": {
    "slideshow": {
     "slide_type": "slide"
    }
   },
   "source": [
    "<center><h2>Why mojibake?</h2></center>\n",
    "\n",
    "Mojibake is a result of text being decoded using an unintended character encoding.\n",
    "\n",
    "[Very common in Japanese characters](https://en.wikipedia.org/wiki/Mojibake), hence the name:  \n",
    "文字 (moji) \"character\" + 化け (bake) \"transform\""
   ]
  },
  {
   "cell_type": "markdown",
   "metadata": {
    "slideshow": {
     "slide_type": "fragment"
    }
   },
   "source": [
    "__Bad News__: Looks awful\n",
    "    \n",
    "__Good News__: It is systematic and easy to fix. \n",
    "\n",
    "1. Find the right encoding and re-decode the bytes into a the correct Python Unicode string.\n",
    "2. Fix the string after the fact, aka fix in \"post\" production."
   ]
  },
  {
   "cell_type": "code",
   "execution_count": 52,
   "metadata": {},
   "outputs": [],
   "source": [
    "# ftfy (Fix That For You) is a package that tries to fix messed up Unicode strings\n",
    "import ftfy"
   ]
  },
  {
   "cell_type": "code",
   "execution_count": 53,
   "metadata": {},
   "outputs": [],
   "source": [
    "# Install package if you can't find \n",
    "# ! pip install ftfy"
   ]
  },
  {
   "cell_type": "code",
   "execution_count": 74,
   "metadata": {
    "slideshow": {
     "slide_type": "fragment"
    }
   },
   "outputs": [
    {
     "data": {
      "text/plain": [
       "'café'"
      ]
     },
     "execution_count": 74,
     "metadata": {},
     "output_type": "execute_result"
    }
   ],
   "source": [
    "# Ac\n",
    "ftfy.fix_text(messed_up)"
   ]
  },
  {
   "cell_type": "markdown",
   "metadata": {
    "slideshow": {
     "slide_type": "slide"
    }
   },
   "source": [
    "<center><h2>ftfy FTW</h2></center>\n",
    "\n",
    "<center><img src=\"http://s2.quickmeme.com/img/0a/0ac84ebf42410c7c7325f8f7120723bd4ccede374902ab5c18000ab323a85a6b.jpg\" width=\"55%\"/></center>\n",
    "\n",
    "[fifty package](https://github.com/LuminosoInsight/python-ftfy/blob/master/README.md) automagically fixes all encoding errors!!!  "
   ]
  },
  {
   "cell_type": "code",
   "execution_count": 55,
   "metadata": {
    "slideshow": {
     "slide_type": "slide"
    }
   },
   "outputs": [],
   "source": [
    "# help(ftfy)"
   ]
  },
  {
   "cell_type": "code",
   "execution_count": 56,
   "metadata": {
    "slideshow": {
     "slide_type": "slide"
    }
   },
   "outputs": [],
   "source": [
    "# ftfy. # <tab>"
   ]
  },
  {
   "cell_type": "markdown",
   "metadata": {
    "slideshow": {
     "slide_type": "slide"
    }
   },
   "source": [
    "<center><h2>Takeaways</h2></center>\n",
    "\n",
    "- All data is stored as bytes on disk.\n",
    "- Be explicit about encodings.\n",
    "- In Python (in memory), all strings are Unicode.\n",
    "- If you see mojibake, don't ╯°□°）╯︵ ┻━┻ - `ftfy`!\n",
    "- Unicode is better than all other options (but still not perfect)."
   ]
  },
  {
   "cell_type": "markdown",
   "metadata": {
    "slideshow": {
     "slide_type": "slide"
    }
   },
   "source": [
    " "
   ]
  },
  {
   "cell_type": "markdown",
   "metadata": {
    "slideshow": {
     "slide_type": "slide"
    }
   },
   "source": [
    "\n",
    "Bonus Material\n",
    "---"
   ]
  },
  {
   "cell_type": "markdown",
   "metadata": {
    "slideshow": {
     "slide_type": "skip"
    }
   },
   "source": [
    "<center><h2>Relationship between decimal, binary, and hexidecimal</h2></center>\n",
    "<br>\n",
    "<center><img src=\"../images/dec2bin2hex.png\" width=\"75%\"/></center>"
   ]
  },
  {
   "cell_type": "code",
   "execution_count": 57,
   "metadata": {
    "slideshow": {
     "slide_type": "slide"
    }
   },
   "outputs": [
    {
     "name": "stdout",
     "output_type": "stream",
     "text": [
      "   Dec |    Bin |  Hex\n",
      "     0 |      0 |    0\n",
      "     1 |      1 |    1\n",
      "     2 |     10 |    2\n",
      "     3 |     11 |    3\n",
      "     9 |   1001 |    9\n",
      "    10 |   1010 |    a\n",
      "    11 |   1011 |    b\n",
      "    15 |   1111 |    f\n",
      "    16 |  10000 |   10\n",
      "    17 |  10001 |   11\n"
     ]
    }
   ],
   "source": [
    "# What is the relationship between Decimal, Binary, and Hexidecimal?\n",
    "nums = [0, 1, 2, 3, 9, 10, 11, 15, 16, 17]\n",
    "s = 6\n",
    "print(f\"{'Dec':>6} | {'Bin':>6} | {'Hex':>4}\")\n",
    "for n in nums:\n",
    "    print(f\"{n:>6} | {n:>6b} | {n:>4x}\")"
   ]
  },
  {
   "cell_type": "markdown",
   "metadata": {
    "slideshow": {
     "slide_type": "slide"
    }
   },
   "source": [
    "<center><img src=\"../images/bin2hex.png\" width=\"75%\"/></center>"
   ]
  },
  {
   "cell_type": "markdown",
   "metadata": {
    "slideshow": {
     "slide_type": "slide"
    }
   },
   "source": [
    "<center><h2>chardet package</h2></center>\n",
    "\n",
    "[chardet](https://pypi.python.org/pypi/chardet) is the universal encoding detector. Gives best guess to covert unknown encoding bytes to str."
   ]
  },
  {
   "cell_type": "code",
   "execution_count": 58,
   "metadata": {
    "slideshow": {
     "slide_type": "fragment"
    }
   },
   "outputs": [],
   "source": [
    "# Python package\n",
    "import chardet"
   ]
  },
  {
   "cell_type": "code",
   "execution_count": 59,
   "metadata": {
    "slideshow": {
     "slide_type": "fragment"
    }
   },
   "outputs": [
    {
     "name": "stdout",
     "output_type": "stream",
     "text": [
      "one_fish.txt: utf-8 with confidence 0.87625\r\n"
     ]
    }
   ],
   "source": [
    "# Also has a CLI\n",
    "! chardetect one_fish.txt"
   ]
  },
  {
   "cell_type": "code",
   "execution_count": 60,
   "metadata": {
    "slideshow": {
     "slide_type": "slide"
    }
   },
   "outputs": [
    {
     "data": {
      "text/plain": [
       "['One Fish, Two Fish, Red Fish, Blue Fish', 'By Dr. Seuss.']"
      ]
     },
     "execution_count": 60,
     "metadata": {},
     "output_type": "execute_result"
    }
   ],
   "source": [
    "# 'utf-8' is default in Python\n",
    "with open('./one_fish.txt') as f:\n",
    "    one_fish = f.read().splitlines()\n",
    "    \n",
    "one_fish[:2]"
   ]
  },
  {
   "cell_type": "code",
   "execution_count": 61,
   "metadata": {
    "slideshow": {
     "slide_type": "fragment"
    }
   },
   "outputs": [
    {
     "data": {
      "text/plain": [
       "['One Fish, Two Fish, Red Fish, Blue Fish', 'By Dr. Seuss.']"
      ]
     },
     "execution_count": 61,
     "metadata": {},
     "output_type": "execute_result"
    }
   ],
   "source": [
    "# You can also specific encoding\n",
    "with open('./one_fish.txt', encoding='utf-8') as f:\n",
    "    one_fish = f.read().splitlines()\n",
    "    \n",
    "one_fish[:2]"
   ]
  },
  {
   "cell_type": "markdown",
   "metadata": {
    "slideshow": {
     "slide_type": "skip"
    }
   },
   "source": [
    "Learn more: https://stackoverflow.com/questions/17912307/u-ufeff-in-python-string"
   ]
  },
  {
   "cell_type": "markdown",
   "metadata": {
    "slideshow": {
     "slide_type": "slide"
    }
   },
   "source": [
    "Unicode 12\n",
    "-----\n",
    "\n",
    "[Unicode 12.0](https://unicode.org/versions/Unicode12.0.0/) is the latest version of the Unicode Standard.\n",
    "\n",
    "> Unicode 12.0 adds 554 characters, for a total of 137,928 characters. These additions include 4 new scripts, for a total of 150 scripts, as well as 61 new emoji characters.\n",
    "\n",
    "[New emojis for Unicode 12](https://emojipedia.org/unicode-12.0/)"
   ]
  },
  {
   "cell_type": "markdown",
   "metadata": {
    "slideshow": {
     "slide_type": "fragment"
    }
   },
   "source": [
    "[New emojis for Unicode 11](https://emojipedia.org/unicode-11.0/)\n",
    "\n"
   ]
  },
  {
   "cell_type": "markdown",
   "metadata": {},
   "source": [
    "iPhone Unicode Message of Death\n",
    "----\n",
    "\n",
    "![iPhone Message of Death](../images/dodgy_unicode.png)\n",
    "\n",
    "If you text this message to someone with a iPhone, it will force the device to reboot. This is due to a vulnerability in the Unicode byte representation.\n",
    "\n",
    "[Source](http://www.theregister.co.uk/2015/05/27/text_message_unicode_ios_osx_vulnerability/) <br>"
   ]
  },
  {
   "cell_type": "markdown",
   "metadata": {},
   "source": [
    "https://www.joelonsoftware.com/2003/10/08/the-absolute-minimum-every-software-developer-absolutely-positively-must-know-about-unicode-and-character-sets-no-excuses/"
   ]
  },
  {
   "cell_type": "code",
   "execution_count": 62,
   "metadata": {},
   "outputs": [
    {
     "name": "stdout",
     "output_type": "stream",
     "text": [
      " 🐣 \n",
      " ⟶ \n",
      " ¼ \n"
     ]
    }
   ],
   "source": [
    "# Unicode names\n",
    "print(f' \\N{Hatching Chick} ') # 🐣\n",
    "print(f' \\N{long rightwards arrow} ')  # ⟶\n",
    "print(f' \\N{Vulgar Fraction One Quarter} ') # ¼ "
   ]
  },
  {
   "cell_type": "markdown",
   "metadata": {},
   "source": [
    "What is difference between ASCII and Unicode?\n",
    "-----\n",
    "\n",
    "\n",
    "Representing characters with a byte worked great for computers until about the 1990s,\n",
    "when the personal computer became widely adopted in non-Western countries where\n",
    "languages have more than 256 characters. Instead of a one-byte character set, Unicode\n",
    "can have up to a 4 bytes character set.\n",
    "\n",
    "The first 256 code points are identical to the ASCII\n",
    "character table. Unicode can have different character encodings.                                                                         "
   ]
  },
  {
   "cell_type": "markdown",
   "metadata": {
    "slideshow": {
     "slide_type": "slide"
    }
   },
   "source": [
    "![](http://imgs.xkcd.com/comics/rtl.png )\n",
    "\n",
    "[Explain xckd](http://www.explainxkcd.com/wiki/index.php/RTL)"
   ]
  },
  {
   "cell_type": "markdown",
   "metadata": {
    "slideshow": {
     "slide_type": "skip"
    }
   },
   "source": [
    "<center><img src=\"../images/unicode_support.png\" width=\"400\"/></center>"
   ]
  },
  {
   "cell_type": "markdown",
   "metadata": {
    "slideshow": {
     "slide_type": "slide"
    }
   },
   "source": [
    "[Unicode basics overview](http://python-notes.curiousefficiency.org/en/latest/python3/text_file_processing.html#unicode-basics)\n",
    "-----"
   ]
  },
  {
   "cell_type": "code",
   "execution_count": 50,
   "metadata": {
    "slideshow": {
     "slide_type": "slide"
    }
   },
   "outputs": [
    {
     "data": {
      "text/plain": [
       "'\\ufeffTHE SONNETS\\nby William Shakespeare'"
      ]
     },
     "execution_count": 50,
     "metadata": {},
     "output_type": "execute_result"
    }
   ],
   "source": [
    "# What happens if I load text data and there is random characters?\n",
    "\n",
    "with open('../data/shakespeare_all.txt') as f:\n",
    "    text = f.read()\n",
    "text[:35]"
   ]
  },
  {
   "cell_type": "code",
   "execution_count": 66,
   "metadata": {},
   "outputs": [],
   "source": [
    "import ftfy"
   ]
  },
  {
   "cell_type": "code",
   "execution_count": 67,
   "metadata": {},
   "outputs": [
    {
     "data": {
      "text/plain": [
       "'THE SONNETS\\nby William Shakespeare'"
      ]
     },
     "execution_count": 67,
     "metadata": {},
     "output_type": "execute_result"
    }
   ],
   "source": [
    "ftfy.fix_text(text[:35])"
   ]
  },
  {
   "cell_type": "markdown",
   "metadata": {
    "slideshow": {
     "slide_type": "slide"
    }
   },
   "source": [
    "<br>\n",
    "<br>"
   ]
  }
 ],
 "metadata": {
  "anaconda-cloud": {},
  "kernelspec": {
   "display_name": "Python 3",
   "language": "python",
   "name": "python3"
  },
  "language_info": {
   "codemirror_mode": {
    "name": "ipython",
    "version": 3
   },
   "file_extension": ".py",
   "mimetype": "text/x-python",
   "name": "python",
   "nbconvert_exporter": "python",
   "pygments_lexer": "ipython3",
   "version": "3.8.3"
  },
  "toc": {
   "base_numbering": 1,
   "nav_menu": {},
   "number_sections": false,
   "sideBar": false,
   "skip_h1_title": false,
   "title_cell": "Table of Contents",
   "title_sidebar": "Contents",
   "toc_cell": true,
   "toc_position": {},
   "toc_section_display": true,
   "toc_window_display": false
  }
 },
 "nbformat": 4,
 "nbformat_minor": 1
}
