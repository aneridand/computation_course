{
 "cells": [
  {
   "cell_type": "markdown",
   "metadata": {
    "toc": true
   },
   "source": [
    "<h1>Table of Contents<span class=\"tocSkip\"></span></h1>\n",
    "<div class=\"toc\"><ul class=\"toc-item\"><li><span><a href=\"#Creating-and-Using-Cloud-Computing-with-Amazon-Web-Services-(AWS)\" data-toc-modified-id=\"Creating-and-Using-Cloud-Computing-with-Amazon-Web-Services-(AWS)-1\">Creating and Using Cloud Computing with Amazon Web Services (AWS)</a></span></li><li><span><a href=\"#Learning-Outcomes\" data-toc-modified-id=\"Learning-Outcomes-2\">Learning Outcomes</a></span></li><li><span><a href=\"#1)-Login\" data-toc-modified-id=\"1)-Login-3\">1) Login</a></span></li><li><span><a href=\"#2)-Launch-Instance\" data-toc-modified-id=\"2)-Launch-Instance-4\">2) Launch Instance</a></span></li><li><span><a href=\"#3)-Select-Amazon-Machine-Image-(AMI)\" data-toc-modified-id=\"3)-Select-Amazon-Machine-Image-(AMI)-5\">3) Select Amazon Machine Image (AMI)</a></span></li><li><span><a href=\"#4)-Choose-an-Instance-Type\" data-toc-modified-id=\"4)-Choose-an-Instance-Type-6\">4) Choose an Instance Type</a></span></li><li><span><a href=\"#5)-Review-Instance-Launch\" data-toc-modified-id=\"5)-Review-Instance-Launch-7\">5) Review Instance Launch</a></span></li><li><span><a href=\"#6)-Select-an-existing-key-pair-or-create-a-new-key-pair\" data-toc-modified-id=\"6)-Select-an-existing-key-pair-or-create-a-new-key-pair-8\">6) Select an existing key pair or create a new key pair</a></span></li><li><span><a href=\"#7)-Launch-Instance\" data-toc-modified-id=\"7)-Launch-Instance-9\">7) Launch Instance</a></span></li><li><span><a href=\"#8)-View-Instance\" data-toc-modified-id=\"8)-View-Instance-10\">8) View Instance</a></span></li><li><span><a href=\"#9)-Connect\" data-toc-modified-id=\"9)-Connect-11\">9) Connect</a></span></li><li><span><a href=\"#9b)-Let's-try-to-connect\" data-toc-modified-id=\"9b)-Let's-try-to-connect-12\">9b) Let's try to connect</a></span></li><li><span><a href=\"#10)-Change-permission-for-pem-file\" data-toc-modified-id=\"10)-Change-permission-for-pem-file-13\">10) Change permission for pem file</a></span></li><li><span><a href=\"#Protip---Run-multiple-terminal-windows\" data-toc-modified-id=\"Protip---Run-multiple-terminal-windows-14\">Protip - Run multiple terminal windows</a></span></li><li><span><a href=\"#11)-Connect-to-remote-machine\" data-toc-modified-id=\"11)-Connect-to-remote-machine-15\">11) Connect to remote machine</a></span></li><li><span><a href=\"#12)-Doing-things-on-your-remote-machine\" data-toc-modified-id=\"12)-Doing-things-on-your-remote-machine-16\">12) Doing things on your remote machine</a></span></li><li><span><a href=\"#13)-Uploading-data-or-code\" data-toc-modified-id=\"13)-Uploading-data-or-code-17\">13) Uploading data or code</a></span></li><li><span><a href=\"#14)-Terminating-your-instance\" data-toc-modified-id=\"14)-Terminating-your-instance-18\">14) Terminating your instance</a></span></li><li><span><a href=\"#Instance-Lifecycle\" data-toc-modified-id=\"Instance-Lifecycle-19\">Instance Lifecycle</a></span></li><li><span><a href=\"#FAQ---Will-I-get-charged-for-a-stopped-instance?\" data-toc-modified-id=\"FAQ---Will-I-get-charged-for-a-stopped-instance?-20\">FAQ - Will I get charged for a stopped instance?</a></span></li><li><span><a href=\"#Scripts\" data-toc-modified-id=\"Scripts-21\">Scripts</a></span></li><li><span><a href=\"#Takeaways\" data-toc-modified-id=\"Takeaways-22\">Takeaways</a></span></li><li><span><a href=\"#Bonus-Material\" data-toc-modified-id=\"Bonus-Material-23\">Bonus Material</a></span></li><li><span><a href=\"#Useful-Links\" data-toc-modified-id=\"Useful-Links-24\">Useful Links</a></span></li><li><span><a href=\"#OMG---I-forgot-to-terminate-an-instance-and-now-I-have-huge-AWS-bill\" data-toc-modified-id=\"OMG---I-forgot-to-terminate-an-instance-and-now-I-have-huge-AWS-bill-25\">OMG - I forgot to terminate an instance and now I have huge AWS bill</a></span></li><li><span><a href=\"#Further-Study\" data-toc-modified-id=\"Further-Study-26\">Further Study</a></span></li><li><span><a href=\"#Automating-AWS\" data-toc-modified-id=\"Automating-AWS-27\">Automating AWS</a></span></li><li><span><a href=\"#Similar-Process-for-MSDS-GPU-Access\" data-toc-modified-id=\"Similar-Process-for-MSDS-GPU-Access-28\">Similar Process for MSDS GPU Access</a></span></li><li><span><a href=\"#Jevons-paradox\" data-toc-modified-id=\"Jevons-paradox-29\">Jevons paradox</a></span></li></ul></div>"
   ]
  },
  {
   "cell_type": "markdown",
   "metadata": {},
   "source": [
    "Creating and Using Cloud Computing with Amazon Web Services (AWS)\n",
    "------"
   ]
  },
  {
   "cell_type": "markdown",
   "metadata": {},
   "source": [
    "Learning Outcomes\n",
    "-----\n",
    "\n",
    "__By the end of this session, you should be able to__:\n",
    "\n",
    "- Create, use, and destroy a Virtual Machine (VM) on Amazon Web Services (AWS).\n",
    "- Move data to that Virtual Machine (VM).\n",
    "- Use scripts to help automate the process."
   ]
  },
  {
   "cell_type": "markdown",
   "metadata": {},
   "source": [
    "1) Login\n",
    "----\n",
    "\n",
    "1. Go to https://aws.amazon.com/console/\n",
    "1. Sign in\n",
    "1. Click on the \"EC2\" link or \"Launch a virtual machine\" link or search for it.\n",
    "\n",
    "EC2 stands for \"Elastic Compute Cloud\".\n",
    "\n",
    "EC2 instances are also called virtual servers in the cloud."
   ]
  },
  {
   "cell_type": "markdown",
   "metadata": {},
   "source": [
    "2) Launch Instance\n",
    "----\n",
    "\n",
    "Click \"Launch Instance\", which will start the process to create a virtual machine in the cloud. An instance is just a virtual machine."
   ]
  },
  {
   "cell_type": "markdown",
   "metadata": {},
   "source": [
    "<center><img src=\"../images/launch.png\" width=\"75%\"/></center>"
   ]
  },
  {
   "cell_type": "markdown",
   "metadata": {},
   "source": [
    "3) Select Amazon Machine Image (AMI)\n",
    "-----\n",
    "\n",
    "Select the \"Amazon Linux 2 AMI\" entry, which should be the first one.\n",
    "\n",
    "An AMI is a template that contains the software configuration (operating system, application server, and applications) required to launch your instance. \n",
    "\n",
    "AMI a snapshot of the machine after someone installs all the software. This means we don't have to install software every time we create a new machine.\n",
    "\n",
    "You can select an AMI provided by AWS, our user community, or the AWS Marketplace; or you can select one of your own AMIs.\n",
    "\n",
    "AMI is a `class`. Your specific EC2 is an instance.\n",
    "\n"
   ]
  },
  {
   "cell_type": "markdown",
   "metadata": {},
   "source": [
    "<center><img src=\"../images/ami.png\" width=\"75%\"/></center>"
   ]
  },
  {
   "cell_type": "markdown",
   "metadata": {},
   "source": [
    "4) Choose an Instance Type\n",
    "----\n",
    "\n",
    "1. Select instance type \"t2.micro\" which should be the second machine type listed. \"t2.micro\" is on the free tier.\n",
    "\n",
    "2. Click \"Review and Launch\".\n",
    "\n",
    "If you look at specifications, it is not very big or powerful. Think about the compute and storage that is on your local computer."
   ]
  },
  {
   "cell_type": "markdown",
   "metadata": {},
   "source": [
    "5) Review Instance Launch\n",
    "----\n",
    "\n",
    "Click on \"Launch\" button.\n",
    "\n",
    "This screen describes the details about the instance we are launching.   \n",
    "Ignore all of it for now."
   ]
  },
  {
   "cell_type": "markdown",
   "metadata": {},
   "source": [
    "6) Select an existing key pair or create a new key pair\n",
    "-----\n",
    "\n",
    "The *first time*, you will need to create a new key pair. \n",
    "\n",
    "Name it as `class_key`. then click on \"Download key pair.\"  \n",
    "\n",
    "Remember the location were `class_key.pem` file was downloaded.\n",
    "\n",
    "A key pair is what allows you to securely access the server and prevent unauthorized access. If you are curious, it use [RSA encryption](https://en.wikipedia.org/wiki/RSA_(cryptosystem)).\n",
    "\n",
    "If you lose it you will not be able to get into the machine that you create. Losing it is not a big deal, you have to `terminate` the instance from the web console and start over."
   ]
  },
  {
   "cell_type": "markdown",
   "metadata": {},
   "source": [
    "<center><img src=\"../images/keypair.png\" width=\"75%\"/></center>"
   ]
  },
  {
   "cell_type": "markdown",
   "metadata": {},
   "source": [
    "7) Launch Instance\n",
    "-----\n",
    "\n",
    "After downloading, click \"Launch Instances.\" You should see something like:\n",
    "\n",
    "<img src=../images/launched.png width=600>"
   ]
  },
  {
   "cell_type": "markdown",
   "metadata": {},
   "source": [
    "8) View Instance\n",
    "-----\n",
    "\n",
    "Click \"View Instances\". You should see something like:\n",
    "\n",
    "<center><img src=\"../images/launched_screen.png\" width=\"75%\"/></center>"
   ]
  },
  {
   "cell_type": "markdown",
   "metadata": {},
   "source": [
    "It might take a few moments for the \"Instance State\" to turn to running / green."
   ]
  },
  {
   "cell_type": "markdown",
   "metadata": {},
   "source": [
    "9) Connect\n",
    "-----\n",
    "\n",
    "Click on the \"Connect\" button at the top of the page and it will bring up a dialog box that tells you how to connect to the server. \n",
    "\n",
    "<center><img src=\"../images/connect.png\" width=\"75%\"/></center>"
   ]
  },
  {
   "cell_type": "markdown",
   "metadata": {},
   "source": [
    "You'll need the `IPv4 Public IP` number so put it on the clipboard or in a plain text file.\n",
    "\n",
    "Mine is `18.220.131.59`. Your ip address will have the same format but different numbers."
   ]
  },
  {
   "cell_type": "markdown",
   "metadata": {},
   "source": [
    "9b) Let's try to connect\n",
    "-----\n",
    "\n",
    "1. Open up terminal with `iterm.app`.\n",
    "\n",
    "1. Change directories to the location of your `class_key.pem`.\n",
    "\n",
    "1. Run `$ssh -i class_key.pem ec2-user@18.220.131.59`\n",
    "\n",
    "You should get this error:\n",
    "\n",
    "```\n",
    "\n",
    "The authenticity of host '18.220.131.59 (18.220.131.59)' can't be established.\n",
    "ECDSA key fingerprint is SHA256:rKXqKwVlxfzo/l6uX9XUvrvIVokNVuWHUD1/KpZ6fNg.\n",
    "Are you sure you want to continue connecting (yes/no)? yes\n",
    "Warning: Permanently added '18.220.131.59' (ECDSA) to the list of known hosts.\n",
    "@@@@@@@@@@@@@@@@@@@@@@@@@@@@@@@@@@@@@@@@@@@@@@@@@@@@@@@@@@@\n",
    "@         WARNING: UNPROTECTED PRIVATE KEY FILE!          @\n",
    "@@@@@@@@@@@@@@@@@@@@@@@@@@@@@@@@@@@@@@@@@@@@@@@@@@@@@@@@@@@\n",
    "Permissions 0644 for 'class_key.pem' are too open.\n",
    "It is required that your private key files are NOT accessible by others.\n",
    "This private key will be ignored.\n",
    "Load key \"class_key.pem\": bad permissions\n",
    "ec2-user@18.220.131.59: Permission denied (publickey,gssapi-keyex,gssapi-with-mic).\n",
    "```"
   ]
  },
  {
   "cell_type": "markdown",
   "metadata": {},
   "source": [
    "10) Change permission for pem file\n",
    "-----\n",
    "\n",
    "Before we can connect, we have to make sure that the security file is not visible to everyone on the computer (other users). Otherwise ssh will not let us connect because the security file is not secure.\n",
    "\n",
    "Type this command to change permissions:\n",
    "\n",
    "`$ chmod 400 class_key.pem`\n",
    "\n",
    "Don't worry if you don't understand exactly what's going on there. It's basically saying that the file is only read-write for me, the current user, with no permissions to anybody else."
   ]
  },
  {
   "cell_type": "markdown",
   "metadata": {},
   "source": [
    "Protip - Run multiple terminal windows\n",
    "----\n",
    "\n",
    "It is a good idea to run multiple shells. \n",
    "\n",
    "One terminal window should be remote. Another terminal window should be local.\n",
    "\n",
    "I always keep the remote shell in the same location on my screen."
   ]
  },
  {
   "cell_type": "markdown",
   "metadata": {},
   "source": [
    "11) Connect to remote machine\n",
    "-------\n",
    "\n",
    "Run `$ssh -i class_key.pem ec2-user@18.220.131.59`\n",
    "\n",
    "(Protip - use up arrows to scroll through history)\n",
    "\n",
    "Try to connect again and it will now warn you that you have never connected to that machine before. Again, this is a security measure. You can simply say \"yes\" here.\n",
    "\n",
    "You should now see a different prefix for your user name:\n",
    "\n",
    "<center><img src=\"../images/logged_in.png\" width=\"75%\"/></center>"
   ]
  },
  {
   "cell_type": "markdown",
   "metadata": {},
   "source": [
    "12) Doing things on your remote machine\n",
    "------\n",
    "\n",
    "1. Launch Python `$ python`\n",
    "\n",
    "    Note it is `2.7.16` \n",
    "    \n",
    "1. Let's update Python to 3.7 with `$ sudo yum install python3`\n",
    "    \n",
    "    Linux uses either `yum` or `apt-get` instead of `brew` to manage applications.\n",
    "\n",
    "1. Run it with `$ python3`\n",
    "\n",
    "[Documentation](https://docs.aws.amazon.com/cli/latest/userguide/install-linux-python.html)"
   ]
  },
  {
   "cell_type": "markdown",
   "metadata": {},
   "source": [
    "13) Uploading data or code\n",
    "----\n",
    "\n",
    "Large data require `scp`, aka secure copy. \n",
    "\n",
    "Type the following on your __local__ computer:\n",
    "\n",
    "1. Navigate to the data folder for our class:   \n",
    "    `$ cd ~/github/computation_course/data/`\n",
    "1. Move files:   \n",
    "    `$ scp -i ~/Desktop/class_key.pem one_fish.txt ec2-user@18.220.131.59:/home/ec2-user`\n",
    "1. Confirm on remote machine:\n",
    "    `$ nano /home/ec2-user/one_fish.txt`\n",
    "    \n",
    "The general form of the command is:\n",
    "\n",
    "`scp -i *your-pem-file* *file-to-copy* *user*@*machine-name*:*directory-on-remote-machine*`"
   ]
  },
  {
   "cell_type": "markdown",
   "metadata": {},
   "source": [
    "This is going to be tricky to get exactly write.\n",
    "\n",
    "Raise flag for stuck or finished.\n",
    "\n",
    "__Sidebar__: Small data can be directly copy n' pasted from local to remote terminal within `nano`."
   ]
  },
  {
   "cell_type": "markdown",
   "metadata": {},
   "source": [
    "14) Terminating your instance\n",
    "-----\n",
    "\n",
    "**TERMINATE YOUR INSTANCE WHEN YOU ARE DONE**\n",
    "\n",
    "Right-click on the instance from your AWS console and select \"instance state\" then submenu \"terminate\". It will warn you that all of your local storage will go away. Hit the \"yes, terminate\" button. It should look like this when done:\n",
    "\n",
    "<img src=../images/terminated.png width=450>\n",
    "\n",
    "If you don't, you'll be charged by the minute.\n",
    "\n",
    "Closing the terminal does __not__ terminate remote instance (just like closing your eyes does not make a person disappear).\n",
    "\n"
   ]
  },
  {
   "cell_type": "markdown",
   "metadata": {},
   "source": [
    "<center><h2>Instance Lifecycle</h2></center>\n",
    "<br><br>\n",
    "<center><img src=\"../images/instance_lifecycle.png\" width=\"75%\"/></center>"
   ]
  },
  {
   "cell_type": "markdown",
   "metadata": {},
   "source": [
    "FAQ - Will I get charged for a stopped instance?\n",
    "-----\n",
    "\n",
    "The answer is it depends. If you are using persistent data, then yes.\n",
    "\n",
    "\n",
    "If you say \"stop\" instead, it will stop the machine, but you still may get charged. On the other hand, this is useful because you can restart that machine without having to go through this whole procedure. All of your data will be intact. If you say \"Terminate\", it will toss the machine out and you will have to go through this procedure again to get a new machine.\n",
    "\n",
    "Read the documentation [here](https://docs.aws.amazon.com/AWSEC2/latest/UserGuide/ec2-instance-lifecycle.html#lifecycle-differences)\n",
    "\n"
   ]
  },
  {
   "cell_type": "markdown",
   "metadata": {},
   "source": [
    "Scripts\n",
    "-----\n",
    "\n",
    "AWS console requires a lot of clicking. It makes sense to write simple scripts."
   ]
  },
  {
   "cell_type": "code",
   "execution_count": 1,
   "metadata": {},
   "outputs": [
    {
     "name": "stdout",
     "output_type": "stream",
     "text": [
      "download_bucket_from_s3.py      mv_local_files_local_to_ec2.sh\r\n",
      "install_stuff_on_ec2.sh         ssh_into_ec2.sh\r\n",
      "mv_files_s3.sh\r\n"
     ]
    }
   ],
   "source": [
    "ls ./scripts_for_aws/"
   ]
  },
  {
   "cell_type": "code",
   "execution_count": 2,
   "metadata": {},
   "outputs": [
    {
     "name": "stdout",
     "output_type": "stream",
     "text": [
      "ec2ip=54.146.231.209\r\n",
      "\r\n",
      "scp -i ~/.ssh/data_science_sandbox.pem \\\r\n",
      "    ~/data/ \\\r\n",
      "    ec2-user@$ec2ip:~/data/\r\n"
     ]
    }
   ],
   "source": [
    "! cat ./scripts_for_aws/mv_local_files_local_to_ec2.sh"
   ]
  },
  {
   "cell_type": "markdown",
   "metadata": {},
   "source": [
    "Takeaways\n",
    "-----\n",
    "\n",
    "- Follow the recipe to launch cloud compute instance.\n",
    "- It easy to make a mistake because there are many steps and requires command line skills. \n",
    "    - Go slowly.\n",
    "    - Verify each step.\n",
    "    - Sometimes you have to character-by-character.\n",
    "- Now you can use cloud computing to run large or long programming jobs."
   ]
  },
  {
   "cell_type": "markdown",
   "metadata": {},
   "source": [
    "  "
   ]
  },
  {
   "cell_type": "markdown",
   "metadata": {},
   "source": [
    "Bonus Material\n",
    "------"
   ]
  },
  {
   "cell_type": "markdown",
   "metadata": {},
   "source": [
    "Useful Links\n",
    "-----\n",
    "\n",
    "- [AWS walkthrough for ssh](https://docs.aws.amazon.com/AWSEC2/latest/UserGuide/AccessingInstancesLinux.html) (Generally, AWS documentation is weak and poorly organized)\n",
    "- [Walkthrough for Jupyter Notebook](https://medium.com/@mromerocalvo/set-up-a-remote-machine-for-deep-learning-with-jupyter-notebook-1946729f9fc)\n",
    "- [True AWS costs](https://david-codes.hatanian.com/2019/06/09/aws-costs-every-programmer-should-now.html) (don't believe the AWS website"
   ]
  },
  {
   "cell_type": "markdown",
   "metadata": {},
   "source": [
    "OMG - I forgot to terminate an instance and now I have huge AWS bill\n",
    "------\n",
    "\n",
    "1. Don't panic. It happens to several students every year.\n",
    "2. Write to AWS customer service. Explain how you are a programming student and made a mistake. Usually the first time, they will erase the charge."
   ]
  },
  {
   "cell_type": "markdown",
   "metadata": {},
   "source": [
    "Further Study\n",
    "------\n",
    "\n",
    "- Keep jobs on AWS running after closing a terminal window\n",
    "    - Use `screen` (simplist) or `tmux` (fully featured)\n",
    "- Run Jupyter Notebook on AWS with Sage Maker."
   ]
  },
  {
   "cell_type": "markdown",
   "metadata": {},
   "source": [
    "Automating AWS\n",
    "----\n",
    "\n",
    "1. Use the GUI, aka web console.\n",
    "1. Use the CLI. \n",
    "    - Use `$ brew install awscli`\n",
    "    - Learn more [here](https://aws.amazon.com/cli/)\n",
    "1. Write completely automated scripts with Python's `boto` package. Learn more [here](https://github.com/boto/boto3).\n",
    "\n",
    "In general, there is nothing wrong with using the GUI. However, if you doing complex work or the same work over-and-over then automate."
   ]
  },
  {
   "cell_type": "markdown",
   "metadata": {},
   "source": [
    "Similar Process for MSDS GPU Access\n",
    "-----\n",
    "\n",
    "You have access GPU cluster (thanks to the generous support of the Data Institute). Ask your faculty mentor for the instructions. You'll follow a similar process to gain access to the GPUs.\n",
    "\n",
    "Keep in mind:\n",
    "\n",
    "1. Other MSDS people use the cluster so be a good neighbor.\n",
    "1. Other MSDS people have to provide support (in particular Terence Parr tends to mange the MSDS GPUs)"
   ]
  },
  {
   "cell_type": "markdown",
   "metadata": {},
   "source": [
    "Jevons paradox\n",
    "-----\n",
    "\n",
    "Jevons paradox - Technological progress increases the efficiency with which a resource is used (reducing the amount necessary for any one use), but the rate of consumption of that resource rises due to increasing demand.\n",
    "\n",
    "Do not save absolute money, in reality you'll spend more money on cheaper stuff.\n",
    "\n",
    "Most companies will never save absolute money with AWS (and Amazon will get very wealthy)."
   ]
  },
  {
   "cell_type": "markdown",
   "metadata": {},
   "source": [
    " "
   ]
  }
 ],
 "metadata": {
  "kernelspec": {
   "display_name": "Python 3",
   "language": "python",
   "name": "python3"
  },
  "language_info": {
   "codemirror_mode": {
    "name": "ipython",
    "version": 3
   },
   "file_extension": ".py",
   "mimetype": "text/x-python",
   "name": "python",
   "nbconvert_exporter": "python",
   "pygments_lexer": "ipython3",
   "version": "3.8.3"
  },
  "toc": {
   "base_numbering": 1,
   "nav_menu": {},
   "number_sections": false,
   "sideBar": false,
   "skip_h1_title": false,
   "title_cell": "Table of Contents",
   "title_sidebar": "Contents",
   "toc_cell": true,
   "toc_position": {},
   "toc_section_display": true,
   "toc_window_display": false
  }
 },
 "nbformat": 4,
 "nbformat_minor": 2
}
