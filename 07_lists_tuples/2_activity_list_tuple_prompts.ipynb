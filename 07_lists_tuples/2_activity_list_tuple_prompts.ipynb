{
 "cells": [
  {
   "cell_type": "markdown",
   "metadata": {
    "toc": true
   },
   "source": [
    "<h1>Table of Contents<span class=\"tocSkip\"></span></h1>\n",
    "<div class=\"toc\"><ul class=\"toc-item\"><li><span><a href=\"#Instructions\" data-toc-modified-id=\"Instructions-1\">Instructions</a></span></li><li><span><a href=\"#Check-for-Zero\" data-toc-modified-id=\"Check-for-Zero-2\">Check for Zero</a></span></li><li><span><a href=\"#Delete-the-last-item-in-a-list\" data-toc-modified-id=\"Delete-the-last-item-in-a-list-3\">Delete the last item in a list</a></span></li><li><span><a href=\"#Find-Seesaw-Index\" data-toc-modified-id=\"Find-Seesaw-Index-4\">Find Seesaw Index</a></span></li><li><span><a href=\"#Generate-overlapping-pairs\" data-toc-modified-id=\"Generate-overlapping-pairs-5\">Generate overlapping pairs</a></span></li><li><span><a href=\"#Modify-Tuple\" data-toc-modified-id=\"Modify-Tuple-6\">Modify Tuple</a></span></li><li><span><a href=\"#Implement-median\" data-toc-modified-id=\"Implement-median-7\">Implement median</a></span></li><li><span><a href=\"#Right-index\" data-toc-modified-id=\"Right-index-8\">Right index</a></span></li></ul></div>"
   ]
  },
  {
   "cell_type": "markdown",
   "metadata": {},
   "source": [
    "Instructions\n",
    "--------\n",
    "\n",
    "- __First thing__ - Change the name of this file to avoid a [merge conflict](https://docs.github.com/en/github/getting-started-with-github/github-glossary#merge-conflict) with GitHub.\n",
    "- You should type every character for the following activities. \n",
    "- Work together with your peers in the same shared code environment. The following environments allow the importation of Jupyter Notebook from GitHub urls:\n",
    "    - [Google Colab](https://colab.research.google.com)\n",
    "    - [Deepnote](https://deepnote.com/)\n",
    "- These activities are not graded.\n",
    "- They are open resource - feel free to reference documentation, books, videos, and any other resource.\n",
    "- Attempt each problem. If stuck, move onto next one and come back to a difficult problem.\n",
    "- During class:\n",
    "    - Brian will bounce between breakout rooms. Feel free to ask questions or just ignore him.\n",
    "    - After your group has finished, leave your breakout room and return to the main room."
   ]
  },
  {
   "cell_type": "markdown",
   "metadata": {},
   "source": [
    "Check for Zero\n",
    "-----\n",
    "\n",
    "Check if a list or tuple contains at least one zero.\n",
    "\n",
    "Do __not__ iterate through the sequence. Use a method.\n",
    "\n",
    "Bonus: Write it as a one-liner\n"
   ]
  },
  {
   "cell_type": "code",
   "execution_count": 1,
   "metadata": {},
   "outputs": [],
   "source": [
    "from typing import Sequence\n",
    "\n",
    "def contains_zero(nums: Sequence[float]) -> bool:\n",
    "    \n",
    "    pass # TODO: Delete pass and write your code.\n",
    "\n",
    "def test_contains_zero(contains_zero):\n",
    "    \n",
    "    # Positive\n",
    "    assert contains_zero([1, 1, 0])\n",
    "    assert contains_zero((0, 1, 1, 0))\n",
    "    \n",
    "    # Negative\n",
    "    assert not contains_zero([1, 1, 1])\n",
    "\n",
    "    return \"All tests pass 🙂\"\n",
    "\n",
    "# test_contains_zero(contains_zero)"
   ]
  },
  {
   "cell_type": "code",
   "execution_count": null,
   "metadata": {},
   "outputs": [],
   "source": []
  },
  {
   "cell_type": "markdown",
   "metadata": {},
   "source": [
    "Delete the last item in a list\n",
    "------\n",
    "\n",
    "Delete the last item in a list"
   ]
  },
  {
   "cell_type": "code",
   "execution_count": 2,
   "metadata": {},
   "outputs": [],
   "source": [
    "from typing import List, Any\n",
    "\n",
    "def delete_last_item(items: List[Any]) -> List[Any]:\n",
    "    \n",
    "    pass # TODO: Delete pass and write your code.\n",
    "    \n",
    "\n",
    "def test_delete_last_item(delete_last_item):\n",
    "    \n",
    "    # Positive\n",
    "    assert delete_last_item([1, 2])          == [1]\n",
    "    assert delete_last_item(['a', 'b', 'c']) == ['a', 'b']\n",
    "\n",
    "\n",
    "    return \"All tests pass 🙂\"\n",
    "\n",
    "# test_delete_last_item(delete_last_item)"
   ]
  },
  {
   "cell_type": "code",
   "execution_count": null,
   "metadata": {},
   "outputs": [],
   "source": []
  },
  {
   "cell_type": "markdown",
   "metadata": {},
   "source": [
    "Find Seesaw Index\n",
    "-----\n",
    "\n",
    "Given a sequence of numbers, find an index where the sum of the integers to the left of index is equal to the sum of the integers to the right of index.\n",
    "\n",
    "If there is no index that would make this happen, return \"Not found\"."
   ]
  },
  {
   "cell_type": "code",
   "execution_count": 3,
   "metadata": {},
   "outputs": [],
   "source": [
    "def find_even_index(nums: Sequence[float]) -> int:\n",
    "    \n",
    "    pass # TODO: Delete pass and write your code.\n",
    "\n",
    "def test_find_even_index(find_even_index):\n",
    "    \n",
    "    assert find_even_index([1, 2, 1 ]) == 1\n",
    "    assert find_even_index([1, 2, 3, 4, 3, 2, 1]) == 3\n",
    "    assert find_even_index([1, 2]) == \"Not found\"\n",
    "    \n",
    "    return \"All tests pass 🙂\"\n",
    "    \n",
    "# test_find_even_index(find_even_index)"
   ]
  },
  {
   "cell_type": "code",
   "execution_count": null,
   "metadata": {},
   "outputs": [],
   "source": []
  },
  {
   "cell_type": "markdown",
   "metadata": {},
   "source": [
    "Generate overlapping pairs\n",
    "----\n",
    "\n",
    "Write a function that iterate through a sequence and returns adjacent pairs.\n",
    "\n",
    "This a step in finding [bigrams](https://en.wikipedia.org/wiki/Bigram), a critical concept in Natural Language Processing (NLP).\n",
    "\n",
    "Hint - Can be a one-liner."
   ]
  },
  {
   "cell_type": "code",
   "execution_count": 4,
   "metadata": {},
   "outputs": [],
   "source": [
    "from typing import Tuple\n",
    "\n",
    "def pairs(items: Sequence[Any]) -> Tuple[(Any, Any)]:\n",
    "    \n",
    "    pass # TODO: Delete pass and write your code.\n",
    "\n",
    "\n",
    "def test_pairs(pairs):\n",
    "    \n",
    "    assert pairs([\"a\", \"b\", \"c\", \"d\", \"e\"]) == (('a', 'b'), ('b', 'c'), ('c', 'd'), ('d', 'e'))\n",
    "    \n",
    "    return \"All tests pass 🙂\"\n",
    "\n",
    "# test_pairs(pairs)"
   ]
  },
  {
   "cell_type": "code",
   "execution_count": null,
   "metadata": {},
   "outputs": [],
   "source": []
  },
  {
   "cell_type": "markdown",
   "metadata": {},
   "source": [
    "Modify Tuple\n",
    "-----\n",
    "\n",
    "Tuples are immutable sequence of heterogeneous items. But sometimes you really need to change a value.\n",
    "\n",
    "Hint - Try to do it a one-liner with indexing and unpacking."
   ]
  },
  {
   "cell_type": "code",
   "execution_count": 5,
   "metadata": {},
   "outputs": [],
   "source": [
    "from typing import Any, Tuple\n",
    "\n",
    "def update_tuple(items: Tuple, index: int, new_value: Any) -> Tuple:\n",
    "   \n",
    "    pass # TODO: Delete pass and write your code.\n",
    "\n",
    "    return items\n",
    "\n",
    "def test_update_tuple(update_tuple):\n",
    "    \n",
    "    items = (\"Brian\", \"Spiering\", \"CS\", \"Assistant Professor\")\n",
    "    assert update_tuple(items, 2, \"MSDS\") == (\"Brian\", \"Spiering\", \"MSDS\", \"Assistant Professor\")\n",
    "\n",
    "    return \"All tests pass 🙂\"\n",
    "\n",
    "# test_update_tuple(update_tuple)"
   ]
  },
  {
   "cell_type": "code",
   "execution_count": null,
   "metadata": {},
   "outputs": [],
   "source": []
  },
  {
   "cell_type": "markdown",
   "metadata": {},
   "source": [
    "Implement median\n",
    "-----\n",
    "\n",
    "Implement median - find a value separating the higher half from the lower half of a data sample."
   ]
  },
  {
   "cell_type": "code",
   "execution_count": 6,
   "metadata": {},
   "outputs": [],
   "source": [
    "from statistics import median # Ground-truth function for testing\n",
    "\n",
    "def my_median(values: Sequence[float]) -> float:\n",
    "    \n",
    "    pass # TODO: Delete pass and write your code.\n",
    "        \n",
    "def test_my_median(my_median):\n",
    "    \n",
    "    assert my_median([1, 10, 2, 9, 5]) == 5 == median([1, 10, 2, 9, 5])\n",
    "    assert my_median([1, 9, 2, 10]) == (2 + 9) / 2 == median([1, 9, 2, 10])\n",
    "    \n",
    "    return \"All tests pass 🙂\"\n",
    "\n",
    "# test_my_median(my_median)"
   ]
  },
  {
   "cell_type": "code",
   "execution_count": null,
   "metadata": {},
   "outputs": [],
   "source": []
  },
  {
   "cell_type": "markdown",
   "metadata": {},
   "source": [
    "Right index\n",
    "-----\n",
    "\n",
    "`list.index` finds the first occurrence of an item from left-to-right in a sequence.\n",
    "\n",
    "Write a custom function that finds the first occurrence of an item from right-to-left.\n",
    "\n",
    "For simplicity, assume the item is in the sequence."
   ]
  },
  {
   "cell_type": "code",
   "execution_count": 7,
   "metadata": {},
   "outputs": [],
   "source": [
    "from typing import Any,Sequence\n",
    "\n",
    "def right_index(sequence: Sequence[Any], target: Any) -> int:\n",
    "    \n",
    "    pass # TODO: Delete pass and write your code.\n",
    "    \n",
    "def test_right_index(right_index):\n",
    "\n",
    "    assert right_index(sequence=[2, 4, 4, 8, 10, 4, 1], target=4) == 5\n",
    "    \n",
    "    return \"All tests pass 🙂\"\n",
    "\n",
    "# test_right_index(right_index)"
   ]
  },
  {
   "cell_type": "code",
   "execution_count": null,
   "metadata": {},
   "outputs": [],
   "source": []
  },
  {
   "cell_type": "markdown",
   "metadata": {},
   "source": [
    "<br>\n",
    "<br> \n",
    "<br>\n",
    "\n",
    "----"
   ]
  }
 ],
 "metadata": {
  "kernelspec": {
   "display_name": "Python 3",
   "language": "python",
   "name": "python3"
  },
  "language_info": {
   "codemirror_mode": {
    "name": "ipython",
    "version": 3
   },
   "file_extension": ".py",
   "mimetype": "text/x-python",
   "name": "python",
   "nbconvert_exporter": "python",
   "pygments_lexer": "ipython3",
   "version": "3.8.3"
  },
  "toc": {
   "base_numbering": 1,
   "nav_menu": {},
   "number_sections": false,
   "sideBar": false,
   "skip_h1_title": false,
   "title_cell": "Table of Contents",
   "title_sidebar": "Contents",
   "toc_cell": true,
   "toc_position": {},
   "toc_section_display": true,
   "toc_window_display": false
  }
 },
 "nbformat": 4,
 "nbformat_minor": 4
}
